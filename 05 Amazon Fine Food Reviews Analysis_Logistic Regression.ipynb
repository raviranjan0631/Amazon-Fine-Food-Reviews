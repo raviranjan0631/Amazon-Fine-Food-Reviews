{
 "cells": [
  {
   "cell_type": "markdown",
   "metadata": {},
   "source": [
    "# Amazon Fine Food Reviews Analysis\n",
    "\n",
    "\n",
    "Data Source: https://www.kaggle.com/snap/amazon-fine-food-reviews <br>\n",
    "\n",
    "EDA: https://nycdatascience.com/blog/student-works/amazon-fine-foods-visualization/\n",
    "\n",
    "\n",
    "The Amazon Fine Food Reviews dataset consists of reviews of fine foods from Amazon.<br>\n",
    "\n",
    "Number of reviews: 568,454<br>\n",
    "Number of users: 256,059<br>\n",
    "Number of products: 74,258<br>\n",
    "Timespan: Oct 1999 - Oct 2012<br>\n",
    "Number of Attributes/Columns in data: 10 \n",
    "\n",
    "Attribute Information:\n",
    "\n",
    "1. Id\n",
    "2. ProductId - unique identifier for the product\n",
    "3. UserId - unqiue identifier for the user\n",
    "4. ProfileName\n",
    "5. HelpfulnessNumerator - number of users who found the review helpful\n",
    "6. HelpfulnessDenominator - number of users who indicated whether they found the review helpful or not\n",
    "7. Score - rating between 1 and 5\n",
    "8. Time - timestamp for the review\n",
    "9. Summary - brief summary of the review\n",
    "10. Text - text of the review\n",
    "\n",
    "\n",
    "#### Objective:\n",
    "Given a review, determine whether the review is positive (rating of 4 or 5) or negative (rating of 1 or 2).\n",
    "\n",
    "<br>\n",
    "[Q] How to determine if a review is positive or negative?<br>\n",
    "<br> \n",
    "[Ans] We could use Score/Rating. A rating of 4 or 5 can be cosnidered as a positive review. A rating of 1 or 2 can be considered as negative one. A review of rating 3 is considered nuetral and such reviews are ignored from our analysis. This is an approximate and proxy way of determining the polarity (positivity/negativity) of a review.\n",
    "\n",
    "\n"
   ]
  },
  {
   "cell_type": "markdown",
   "metadata": {},
   "source": [
    "# [1]. Reading Data"
   ]
  },
  {
   "cell_type": "markdown",
   "metadata": {},
   "source": [
    "## [1.1] Loading the data\n",
    "\n",
    "The dataset is available in one forms\n",
    ". SQLite Database\n",
    "\n",
    "In order to load the data, We have used the SQLITE dataset as it is easier to query the data and visualise the data efficiently.\n",
    "<br> \n",
    "\n",
    "Here as we only want to get the global sentiment of the recommendations (positive or negative), we will purposefully ignore all Scores equal to 3. If the score is above 3, then the recommendation wil be set to \"positive\". Otherwise, it will be set to \"negative\"."
   ]
  },
  {
   "cell_type": "code",
   "execution_count": 1,
   "metadata": {},
   "outputs": [],
   "source": [
    "%matplotlib inline\n",
    "import warnings\n",
    "warnings.filterwarnings(\"ignore\")\n",
    "\n",
    "from sklearn.preprocessing import StandardScaler\n",
    "\n",
    "import sqlite3\n",
    "import pandas as pd\n",
    "import numpy as np\n",
    "import nltk\n",
    "import string\n",
    "from sklearn.metrics import roc_auc_score\n",
    "\n",
    "import matplotlib.pyplot as plt\n",
    "import seaborn as sns\n",
    "from sklearn.feature_extraction.text import TfidfTransformer\n",
    "from sklearn.feature_extraction.text import TfidfVectorizer\n",
    "\n",
    "from sklearn.feature_extraction.text import CountVectorizer\n",
    "from sklearn.metrics import confusion_matrix\n",
    "from sklearn import metrics\n",
    "from sklearn.metrics import roc_curve, auc\n",
    "from nltk.stem.porter import PorterStemmer\n",
    "from sklearn.linear_model import LogisticRegression\n",
    "\n",
    "\n",
    "import re\n",
    "# Tutorial about Python regular expressions: https://pymotw.com/2/re/\n",
    "import string\n",
    "from nltk.corpus import stopwords\n",
    "from nltk.stem import PorterStemmer\n",
    "from nltk.stem.wordnet import WordNetLemmatizer\n",
    "\n",
    "\n",
    "from gensim.models import Word2Vec\n",
    "from gensim.models import KeyedVectors\n",
    "import pickle\n",
    "\n",
    "import os"
   ]
  },
  {
   "cell_type": "code",
   "execution_count": 2,
   "metadata": {},
   "outputs": [],
   "source": [
    "# loading previous cleaned dataset\n",
    "import sqlite3\n",
    "con = sqlite3.connect(\"final.sqlite\")"
   ]
  },
  {
   "cell_type": "code",
   "execution_count": 3,
   "metadata": {},
   "outputs": [],
   "source": [
    "data = pd.read_sql_query(\"select * from Reviews\", con)"
   ]
  },
  {
   "cell_type": "code",
   "execution_count": 4,
   "metadata": {
    "scrolled": true
   },
   "outputs": [
    {
     "name": "stdout",
     "output_type": "stream",
     "text": [
      "(364171, 12)\n"
     ]
    },
    {
     "data": {
      "text/html": [
       "<div>\n",
       "<style scoped>\n",
       "    .dataframe tbody tr th:only-of-type {\n",
       "        vertical-align: middle;\n",
       "    }\n",
       "\n",
       "    .dataframe tbody tr th {\n",
       "        vertical-align: top;\n",
       "    }\n",
       "\n",
       "    .dataframe thead th {\n",
       "        text-align: right;\n",
       "    }\n",
       "</style>\n",
       "<table border=\"1\" class=\"dataframe\">\n",
       "  <thead>\n",
       "    <tr style=\"text-align: right;\">\n",
       "      <th></th>\n",
       "      <th>index</th>\n",
       "      <th>Id</th>\n",
       "      <th>ProductId</th>\n",
       "      <th>UserId</th>\n",
       "      <th>ProfileName</th>\n",
       "      <th>HelpfulnessNumerator</th>\n",
       "      <th>HelpfulnessDenominator</th>\n",
       "      <th>Score</th>\n",
       "      <th>Time</th>\n",
       "      <th>Summary</th>\n",
       "      <th>Text</th>\n",
       "      <th>CleanedText</th>\n",
       "    </tr>\n",
       "  </thead>\n",
       "  <tbody>\n",
       "    <tr>\n",
       "      <th>0</th>\n",
       "      <td>138706</td>\n",
       "      <td>150524</td>\n",
       "      <td>0006641040</td>\n",
       "      <td>ACITT7DI6IDDL</td>\n",
       "      <td>shari zychinski</td>\n",
       "      <td>0</td>\n",
       "      <td>0</td>\n",
       "      <td>positive</td>\n",
       "      <td>939340800</td>\n",
       "      <td>EVERY book is educational</td>\n",
       "      <td>this witty little book makes my son laugh at l...</td>\n",
       "      <td>witti littl book make son laugh loud recit car...</td>\n",
       "    </tr>\n",
       "    <tr>\n",
       "      <th>1</th>\n",
       "      <td>138683</td>\n",
       "      <td>150501</td>\n",
       "      <td>0006641040</td>\n",
       "      <td>AJ46FKXOVC7NR</td>\n",
       "      <td>Nicholas A Mesiano</td>\n",
       "      <td>2</td>\n",
       "      <td>2</td>\n",
       "      <td>positive</td>\n",
       "      <td>940809600</td>\n",
       "      <td>This whole series is great way to spend time w...</td>\n",
       "      <td>I can remember seeing the show when it aired o...</td>\n",
       "      <td>rememb see show air televis year ago child sis...</td>\n",
       "    </tr>\n",
       "    <tr>\n",
       "      <th>2</th>\n",
       "      <td>417839</td>\n",
       "      <td>451856</td>\n",
       "      <td>B00004CXX9</td>\n",
       "      <td>AIUWLEQ1ADEG5</td>\n",
       "      <td>Elizabeth Medina</td>\n",
       "      <td>0</td>\n",
       "      <td>0</td>\n",
       "      <td>positive</td>\n",
       "      <td>944092800</td>\n",
       "      <td>Entertainingl Funny!</td>\n",
       "      <td>Beetlejuice is a well written movie ..... ever...</td>\n",
       "      <td>beetlejuic well written movi everyth excel act...</td>\n",
       "    </tr>\n",
       "    <tr>\n",
       "      <th>3</th>\n",
       "      <td>346055</td>\n",
       "      <td>374359</td>\n",
       "      <td>B00004CI84</td>\n",
       "      <td>A344SMIA5JECGM</td>\n",
       "      <td>Vincent P. Ross</td>\n",
       "      <td>1</td>\n",
       "      <td>2</td>\n",
       "      <td>positive</td>\n",
       "      <td>944438400</td>\n",
       "      <td>A modern day fairy tale</td>\n",
       "      <td>A twist of rumplestiskin captured on film, sta...</td>\n",
       "      <td>twist rumplestiskin captur film star michael k...</td>\n",
       "    </tr>\n",
       "    <tr>\n",
       "      <th>4</th>\n",
       "      <td>417838</td>\n",
       "      <td>451855</td>\n",
       "      <td>B00004CXX9</td>\n",
       "      <td>AJH6LUC1UT1ON</td>\n",
       "      <td>The Phantom of the Opera</td>\n",
       "      <td>0</td>\n",
       "      <td>0</td>\n",
       "      <td>positive</td>\n",
       "      <td>946857600</td>\n",
       "      <td>FANTASTIC!</td>\n",
       "      <td>Beetlejuice is an excellent and funny movie. K...</td>\n",
       "      <td>beetlejuic excel funni movi keaton hilari wack...</td>\n",
       "    </tr>\n",
       "  </tbody>\n",
       "</table>\n",
       "</div>"
      ],
      "text/plain": [
       "    index      Id   ProductId          UserId               ProfileName  \\\n",
       "0  138706  150524  0006641040   ACITT7DI6IDDL           shari zychinski   \n",
       "1  138683  150501  0006641040   AJ46FKXOVC7NR        Nicholas A Mesiano   \n",
       "2  417839  451856  B00004CXX9   AIUWLEQ1ADEG5          Elizabeth Medina   \n",
       "3  346055  374359  B00004CI84  A344SMIA5JECGM           Vincent P. Ross   \n",
       "4  417838  451855  B00004CXX9   AJH6LUC1UT1ON  The Phantom of the Opera   \n",
       "\n",
       "   HelpfulnessNumerator  HelpfulnessDenominator     Score       Time  \\\n",
       "0                     0                       0  positive  939340800   \n",
       "1                     2                       2  positive  940809600   \n",
       "2                     0                       0  positive  944092800   \n",
       "3                     1                       2  positive  944438400   \n",
       "4                     0                       0  positive  946857600   \n",
       "\n",
       "                                             Summary  \\\n",
       "0                          EVERY book is educational   \n",
       "1  This whole series is great way to spend time w...   \n",
       "2                               Entertainingl Funny!   \n",
       "3                            A modern day fairy tale   \n",
       "4                                         FANTASTIC!   \n",
       "\n",
       "                                                Text  \\\n",
       "0  this witty little book makes my son laugh at l...   \n",
       "1  I can remember seeing the show when it aired o...   \n",
       "2  Beetlejuice is a well written movie ..... ever...   \n",
       "3  A twist of rumplestiskin captured on film, sta...   \n",
       "4  Beetlejuice is an excellent and funny movie. K...   \n",
       "\n",
       "                                         CleanedText  \n",
       "0  witti littl book make son laugh loud recit car...  \n",
       "1  rememb see show air televis year ago child sis...  \n",
       "2  beetlejuic well written movi everyth excel act...  \n",
       "3  twist rumplestiskin captur film star michael k...  \n",
       "4  beetlejuic excel funni movi keaton hilari wack...  "
      ]
     },
     "execution_count": 4,
     "metadata": {},
     "output_type": "execute_result"
    }
   ],
   "source": [
    "print(data.shape)\n",
    "data.head()"
   ]
  },
  {
   "cell_type": "code",
   "execution_count": 5,
   "metadata": {},
   "outputs": [
    {
     "data": {
      "text/html": [
       "<div>\n",
       "<style scoped>\n",
       "    .dataframe tbody tr th:only-of-type {\n",
       "        vertical-align: middle;\n",
       "    }\n",
       "\n",
       "    .dataframe tbody tr th {\n",
       "        vertical-align: top;\n",
       "    }\n",
       "\n",
       "    .dataframe thead th {\n",
       "        text-align: right;\n",
       "    }\n",
       "</style>\n",
       "<table border=\"1\" class=\"dataframe\">\n",
       "  <thead>\n",
       "    <tr style=\"text-align: right;\">\n",
       "      <th></th>\n",
       "      <th>index</th>\n",
       "      <th>Id</th>\n",
       "      <th>ProductId</th>\n",
       "      <th>UserId</th>\n",
       "      <th>ProfileName</th>\n",
       "      <th>HelpfulnessNumerator</th>\n",
       "      <th>HelpfulnessDenominator</th>\n",
       "      <th>Score</th>\n",
       "      <th>Time</th>\n",
       "      <th>Summary</th>\n",
       "      <th>Text</th>\n",
       "      <th>CleanedText</th>\n",
       "    </tr>\n",
       "  </thead>\n",
       "  <tbody>\n",
       "    <tr>\n",
       "      <th>0</th>\n",
       "      <td>138706</td>\n",
       "      <td>150524</td>\n",
       "      <td>0006641040</td>\n",
       "      <td>ACITT7DI6IDDL</td>\n",
       "      <td>shari zychinski</td>\n",
       "      <td>0</td>\n",
       "      <td>0</td>\n",
       "      <td>1</td>\n",
       "      <td>1999-10-08</td>\n",
       "      <td>EVERY book is educational</td>\n",
       "      <td>this witty little book makes my son laugh at l...</td>\n",
       "      <td>witti littl book make son laugh loud recit car...</td>\n",
       "    </tr>\n",
       "    <tr>\n",
       "      <th>1</th>\n",
       "      <td>138683</td>\n",
       "      <td>150501</td>\n",
       "      <td>0006641040</td>\n",
       "      <td>AJ46FKXOVC7NR</td>\n",
       "      <td>Nicholas A Mesiano</td>\n",
       "      <td>2</td>\n",
       "      <td>2</td>\n",
       "      <td>1</td>\n",
       "      <td>1999-10-25</td>\n",
       "      <td>This whole series is great way to spend time w...</td>\n",
       "      <td>I can remember seeing the show when it aired o...</td>\n",
       "      <td>rememb see show air televis year ago child sis...</td>\n",
       "    </tr>\n",
       "    <tr>\n",
       "      <th>2</th>\n",
       "      <td>417839</td>\n",
       "      <td>451856</td>\n",
       "      <td>B00004CXX9</td>\n",
       "      <td>AIUWLEQ1ADEG5</td>\n",
       "      <td>Elizabeth Medina</td>\n",
       "      <td>0</td>\n",
       "      <td>0</td>\n",
       "      <td>1</td>\n",
       "      <td>1999-12-02</td>\n",
       "      <td>Entertainingl Funny!</td>\n",
       "      <td>Beetlejuice is a well written movie ..... ever...</td>\n",
       "      <td>beetlejuic well written movi everyth excel act...</td>\n",
       "    </tr>\n",
       "    <tr>\n",
       "      <th>3</th>\n",
       "      <td>346055</td>\n",
       "      <td>374359</td>\n",
       "      <td>B00004CI84</td>\n",
       "      <td>A344SMIA5JECGM</td>\n",
       "      <td>Vincent P. Ross</td>\n",
       "      <td>1</td>\n",
       "      <td>2</td>\n",
       "      <td>1</td>\n",
       "      <td>1999-12-06</td>\n",
       "      <td>A modern day fairy tale</td>\n",
       "      <td>A twist of rumplestiskin captured on film, sta...</td>\n",
       "      <td>twist rumplestiskin captur film star michael k...</td>\n",
       "    </tr>\n",
       "    <tr>\n",
       "      <th>4</th>\n",
       "      <td>417838</td>\n",
       "      <td>451855</td>\n",
       "      <td>B00004CXX9</td>\n",
       "      <td>AJH6LUC1UT1ON</td>\n",
       "      <td>The Phantom of the Opera</td>\n",
       "      <td>0</td>\n",
       "      <td>0</td>\n",
       "      <td>1</td>\n",
       "      <td>2000-01-03</td>\n",
       "      <td>FANTASTIC!</td>\n",
       "      <td>Beetlejuice is an excellent and funny movie. K...</td>\n",
       "      <td>beetlejuic excel funni movi keaton hilari wack...</td>\n",
       "    </tr>\n",
       "  </tbody>\n",
       "</table>\n",
       "</div>"
      ],
      "text/plain": [
       "    index      Id   ProductId          UserId               ProfileName  \\\n",
       "0  138706  150524  0006641040   ACITT7DI6IDDL           shari zychinski   \n",
       "1  138683  150501  0006641040   AJ46FKXOVC7NR        Nicholas A Mesiano   \n",
       "2  417839  451856  B00004CXX9   AIUWLEQ1ADEG5          Elizabeth Medina   \n",
       "3  346055  374359  B00004CI84  A344SMIA5JECGM           Vincent P. Ross   \n",
       "4  417838  451855  B00004CXX9   AJH6LUC1UT1ON  The Phantom of the Opera   \n",
       "\n",
       "   HelpfulnessNumerator  HelpfulnessDenominator  Score       Time  \\\n",
       "0                     0                       0      1 1999-10-08   \n",
       "1                     2                       2      1 1999-10-25   \n",
       "2                     0                       0      1 1999-12-02   \n",
       "3                     1                       2      1 1999-12-06   \n",
       "4                     0                       0      1 2000-01-03   \n",
       "\n",
       "                                             Summary  \\\n",
       "0                          EVERY book is educational   \n",
       "1  This whole series is great way to spend time w...   \n",
       "2                               Entertainingl Funny!   \n",
       "3                            A modern day fairy tale   \n",
       "4                                         FANTASTIC!   \n",
       "\n",
       "                                                Text  \\\n",
       "0  this witty little book makes my son laugh at l...   \n",
       "1  I can remember seeing the show when it aired o...   \n",
       "2  Beetlejuice is a well written movie ..... ever...   \n",
       "3  A twist of rumplestiskin captured on film, sta...   \n",
       "4  Beetlejuice is an excellent and funny movie. K...   \n",
       "\n",
       "                                         CleanedText  \n",
       "0  witti littl book make son laugh loud recit car...  \n",
       "1  rememb see show air televis year ago child sis...  \n",
       "2  beetlejuic well written movi everyth excel act...  \n",
       "3  twist rumplestiskin captur film star michael k...  \n",
       "4  beetlejuic excel funni movi keaton hilari wack...  "
      ]
     },
     "execution_count": 5,
     "metadata": {},
     "output_type": "execute_result"
    }
   ],
   "source": [
    "final = data\n",
    "# Sort data based on time\n",
    "final[\"Time\"] = pd.to_datetime(final[\"Time\"], unit = \"s\")\n",
    "final = final.sort_values(by = \"Time\")\n",
    "final['Score'] = (final.Score.str.match('positive')).astype(int)\n",
    "final.head()\n"
   ]
  },
  {
   "cell_type": "code",
   "execution_count": 6,
   "metadata": {},
   "outputs": [
    {
     "data": {
      "text/html": [
       "<div>\n",
       "<style scoped>\n",
       "    .dataframe tbody tr th:only-of-type {\n",
       "        vertical-align: middle;\n",
       "    }\n",
       "\n",
       "    .dataframe tbody tr th {\n",
       "        vertical-align: top;\n",
       "    }\n",
       "\n",
       "    .dataframe thead th {\n",
       "        text-align: right;\n",
       "    }\n",
       "</style>\n",
       "<table border=\"1\" class=\"dataframe\">\n",
       "  <thead>\n",
       "    <tr style=\"text-align: right;\">\n",
       "      <th></th>\n",
       "      <th>text</th>\n",
       "      <th>score</th>\n",
       "    </tr>\n",
       "  </thead>\n",
       "  <tbody>\n",
       "    <tr>\n",
       "      <th>0</th>\n",
       "      <td>witti littl book make son laugh loud recit car...</td>\n",
       "      <td>1</td>\n",
       "    </tr>\n",
       "    <tr>\n",
       "      <th>1</th>\n",
       "      <td>rememb see show air televis year ago child sis...</td>\n",
       "      <td>1</td>\n",
       "    </tr>\n",
       "    <tr>\n",
       "      <th>2</th>\n",
       "      <td>beetlejuic well written movi everyth excel act...</td>\n",
       "      <td>1</td>\n",
       "    </tr>\n",
       "    <tr>\n",
       "      <th>3</th>\n",
       "      <td>twist rumplestiskin captur film star michael k...</td>\n",
       "      <td>1</td>\n",
       "    </tr>\n",
       "    <tr>\n",
       "      <th>4</th>\n",
       "      <td>beetlejuic excel funni movi keaton hilari wack...</td>\n",
       "      <td>1</td>\n",
       "    </tr>\n",
       "  </tbody>\n",
       "</table>\n",
       "</div>"
      ],
      "text/plain": [
       "                                                text  score\n",
       "0  witti littl book make son laugh loud recit car...      1\n",
       "1  rememb see show air televis year ago child sis...      1\n",
       "2  beetlejuic well written movi everyth excel act...      1\n",
       "3  twist rumplestiskin captur film star michael k...      1\n",
       "4  beetlejuic excel funni movi keaton hilari wack...      1"
      ]
     },
     "execution_count": 6,
     "metadata": {},
     "output_type": "execute_result"
    }
   ],
   "source": [
    "df = pd.DataFrame({\"text\" : final.CleanedText[0:50000].values,\"score\":final.Score[0:50000].values})\n",
    "df.head()"
   ]
  },
  {
   "cell_type": "code",
   "execution_count": 13,
   "metadata": {},
   "outputs": [],
   "source": [
    "df.to_pickle(\"file_name.pkl\")"
   ]
  },
  {
   "cell_type": "code",
   "execution_count": 16,
   "metadata": {},
   "outputs": [
    {
     "data": {
      "text/plain": [
       "0    1\n",
       "1    1\n",
       "2    1\n",
       "3    1\n",
       "4    1\n",
       "Name: score, dtype: int64"
      ]
     },
     "execution_count": 16,
     "metadata": {},
     "output_type": "execute_result"
    }
   ],
   "source": [
    "df2 = pd.read_pickle(\"./file_name.pkl\")\n",
    "df2.score.head()"
   ]
  },
  {
   "cell_type": "code",
   "execution_count": 17,
   "metadata": {},
   "outputs": [
    {
     "data": {
      "text/html": [
       "<div>\n",
       "<style scoped>\n",
       "    .dataframe tbody tr th:only-of-type {\n",
       "        vertical-align: middle;\n",
       "    }\n",
       "\n",
       "    .dataframe tbody tr th {\n",
       "        vertical-align: top;\n",
       "    }\n",
       "\n",
       "    .dataframe thead th {\n",
       "        text-align: right;\n",
       "    }\n",
       "</style>\n",
       "<table border=\"1\" class=\"dataframe\">\n",
       "  <thead>\n",
       "    <tr style=\"text-align: right;\">\n",
       "      <th></th>\n",
       "      <th>text</th>\n",
       "      <th>score</th>\n",
       "    </tr>\n",
       "  </thead>\n",
       "  <tbody>\n",
       "    <tr>\n",
       "      <th>0</th>\n",
       "      <td>describ sweet crunchi phillo dough pastri love...</td>\n",
       "      <td>1</td>\n",
       "    </tr>\n",
       "    <tr>\n",
       "      <th>1</th>\n",
       "      <td>saint lucian baron hot sauc serv island saint ...</td>\n",
       "      <td>1</td>\n",
       "    </tr>\n",
       "    <tr>\n",
       "      <th>2</th>\n",
       "      <td>far favorit snack food also happen one lundber...</td>\n",
       "      <td>1</td>\n",
       "    </tr>\n",
       "    <tr>\n",
       "      <th>3</th>\n",
       "      <td>use air pop popcorn replac microwav popcorn fi...</td>\n",
       "      <td>1</td>\n",
       "    </tr>\n",
       "    <tr>\n",
       "      <th>4</th>\n",
       "      <td>best rum cake return bahama brought sever diff...</td>\n",
       "      <td>1</td>\n",
       "    </tr>\n",
       "  </tbody>\n",
       "</table>\n",
       "</div>"
      ],
      "text/plain": [
       "                                                text  score\n",
       "0  describ sweet crunchi phillo dough pastri love...      1\n",
       "1  saint lucian baron hot sauc serv island saint ...      1\n",
       "2  far favorit snack food also happen one lundber...      1\n",
       "3  use air pop popcorn replac microwav popcorn fi...      1\n",
       "4  best rum cake return bahama brought sever diff...      1"
      ]
     },
     "execution_count": 17,
     "metadata": {},
     "output_type": "execute_result"
    }
   ],
   "source": []
  },
  {
   "cell_type": "code",
   "execution_count": 15,
   "metadata": {},
   "outputs": [
    {
     "name": "stdout",
     "output_type": "stream",
     "text": [
      "+------------+-------+-------+-----+\n",
      "| Vectorizer | Model | alpha | AUC |\n",
      "+------------+-------+-------+-----+\n",
      "+------------+-------+-------+-----+\n"
     ]
    }
   ],
   "source": [
    "#initialing the table\n",
    "from prettytable import PrettyTable\n",
    "tableData = PrettyTable()\n",
    "tableData.field_names = [\"Vectorizer\", \"Model\", \"alpha\", \"AUC\"]\n",
    "print(tableData)"
   ]
  },
  {
   "cell_type": "code",
   "execution_count": 7,
   "metadata": {},
   "outputs": [
    {
     "name": "stdout",
     "output_type": "stream",
     "text": [
      "train data shape  (60000,)   (60000,)\n",
      "Cv data shape  (20000,)   (20000,)\n",
      "test data shape  (20000,)   (20000,)\n"
     ]
    }
   ],
   "source": [
    "# 60% of data as Train\n",
    "X_tr = final.CleanedText[0:60000]\n",
    "y_tr = final.Score[0:60000]\n",
    "\n",
    "# % 20 percent of data as CV\n",
    "X_cv = final.CleanedText[60000:80000]\n",
    "y_cv = final.Score[60000:80000]\n",
    "\n",
    "# 20% of dataas test\n",
    "X_test = final.CleanedText[80000:100000]\n",
    "y_test = final.Score[80000:100000]\n",
    "\n",
    "print(\"train data shape \",X_tr.shape,\" \",y_tr.shape )\n",
    "print(\"Cv data shape \",X_cv.shape,\" \",y_cv.shape )\n",
    "print(\"test data shape \",X_test.shape,\" \",y_test.shape )"
   ]
  },
  {
   "cell_type": "code",
   "execution_count": 8,
   "metadata": {},
   "outputs": [],
   "source": [
    "#to standarize the data with zero mean and one variance\n",
    "scale = StandardScaler(with_mean = False)"
   ]
  },
  {
   "cell_type": "markdown",
   "metadata": {},
   "source": [
    "# [4] Featurization"
   ]
  },
  {
   "cell_type": "markdown",
   "metadata": {},
   "source": [
    "## [4.1] BAG OF WORDS"
   ]
  },
  {
   "cell_type": "code",
   "execution_count": 9,
   "metadata": {},
   "outputs": [
    {
     "name": "stdout",
     "output_type": "stream",
     "text": [
      "the type of count vectorizer  <class 'scipy.sparse.csr.csr_matrix'>\n",
      "the shape of out text BOW vectorizer  (60000, 5000)\n",
      "the number of unique words  5000\n"
     ]
    },
    {
     "name": "stderr",
     "output_type": "stream",
     "text": [
      "/home/raviranjan0631/anaconda3/lib/python3.6/site-packages/sklearn/utils/validation.py:475: DataConversionWarning: Data with input dtype int64 was converted to float64 by StandardScaler.\n",
      "  warnings.warn(msg, DataConversionWarning)\n",
      "/home/raviranjan0631/anaconda3/lib/python3.6/site-packages/sklearn/utils/validation.py:475: DataConversionWarning: Data with input dtype int64 was converted to float64 by StandardScaler.\n",
      "  warnings.warn(msg, DataConversionWarning)\n"
     ]
    },
    {
     "name": "stdout",
     "output_type": "stream",
     "text": [
      "the type of count vectorizer  <class 'scipy.sparse.csr.csr_matrix'>\n"
     ]
    },
    {
     "name": "stderr",
     "output_type": "stream",
     "text": [
      "/home/raviranjan0631/anaconda3/lib/python3.6/site-packages/sklearn/utils/validation.py:475: DataConversionWarning: Data with input dtype int64 was converted to float64 by StandardScaler.\n",
      "  warnings.warn(msg, DataConversionWarning)\n",
      "/home/raviranjan0631/anaconda3/lib/python3.6/site-packages/sklearn/utils/validation.py:475: DataConversionWarning: Data with input dtype int64 was converted to float64 by StandardScaler.\n",
      "  warnings.warn(msg, DataConversionWarning)\n"
     ]
    },
    {
     "name": "stdout",
     "output_type": "stream",
     "text": [
      "the type of count vectorizer  <class 'scipy.sparse.csr.csr_matrix'>\n"
     ]
    },
    {
     "name": "stderr",
     "output_type": "stream",
     "text": [
      "/home/raviranjan0631/anaconda3/lib/python3.6/site-packages/sklearn/utils/validation.py:475: DataConversionWarning: Data with input dtype int64 was converted to float64 by StandardScaler.\n",
      "  warnings.warn(msg, DataConversionWarning)\n",
      "/home/raviranjan0631/anaconda3/lib/python3.6/site-packages/sklearn/utils/validation.py:475: DataConversionWarning: Data with input dtype int64 was converted to float64 by StandardScaler.\n",
      "  warnings.warn(msg, DataConversionWarning)\n"
     ]
    }
   ],
   "source": [
    "# since my ram is only 4gb so i am performing Bag Of Words operation on 100k data only\n",
    "#BOW\n",
    "count_vect = CountVectorizer(max_features=5000, min_df=10) #in scikit-learn\n",
    "bowTrain = count_vect.fit_transform(X_tr.values)\n",
    "print(\"the type of count vectorizer \",type(bowTrain))\n",
    "print(\"the shape of out text BOW vectorizer \",bowTrain.get_shape())\n",
    "print(\"the number of unique words \", bowTrain.get_shape()[1])\n",
    "\n",
    "bowTrain = scale.fit_transform(bowTrain)\n",
    "\n",
    "bowCv = count_vect.transform(X_cv.values)\n",
    "print(\"the type of count vectorizer \",type(bowCv))\n",
    "\n",
    "bowCv = scale.fit_transform(bowCv)\n",
    "\n",
    "\n",
    "bowTest = count_vect.transform(X_test.values)\n",
    "print(\"the type of count vectorizer \",type(bowTest))\n",
    "bowTest = scale.fit_transform(bowTest)\n"
   ]
  },
  {
   "cell_type": "markdown",
   "metadata": {},
   "source": [
    "## [4.3] TF-IDF"
   ]
  },
  {
   "cell_type": "code",
   "execution_count": 10,
   "metadata": {},
   "outputs": [
    {
     "name": "stdout",
     "output_type": "stream",
     "text": [
      "the type of count vectorizer  <class 'scipy.sparse.csr.csr_matrix'>\n",
      "the shape of out text tfidf vectorizer  (60000, 5000)\n",
      "the type of count vectorizer  <class 'scipy.sparse.csr.csr_matrix'>\n",
      "the shape of out text tfidf vectorizer  (20000, 5000)\n",
      "the type of count vectorizer  <class 'scipy.sparse.csr.csr_matrix'>\n",
      "the shape of out text tfidf vectorizer  (20000, 5000)\n"
     ]
    }
   ],
   "source": [
    "tf_idf_vect = TfidfVectorizer(ngram_range=(1,2),max_features=5000,min_df = 10)\n",
    "tfTrain = tf_idf_vect.fit_transform(X_tr.values)\n",
    "print(\"the type of count vectorizer \",type(tfTrain))\n",
    "print(\"the shape of out text tfidf vectorizer \",tfTrain.get_shape())\n",
    "\n",
    "tfTrain = scale.fit_transform(tfTrain)\n",
    "\n",
    "\n",
    "tfCv = tf_idf_vect.transform(X_cv.values)\n",
    "print(\"the type of count vectorizer \",type(tfCv))\n",
    "print(\"the shape of out text tfidf vectorizer \",tfCv.get_shape())\n",
    "\n",
    "tfCv = scale.fit_transform(tfCv)\n",
    "\n",
    "\n",
    "\n",
    "tfTest = tf_idf_vect.transform(X_test.values)\n",
    "print(\"the type of count vectorizer \",type(tfTest))\n",
    "print(\"the shape of out text tfidf vectorizer \",tfTest.get_shape())\n",
    "\n",
    "tfTest = scale.fit_transform(tfTest)\n",
    "\n"
   ]
  },
  {
   "cell_type": "markdown",
   "metadata": {},
   "source": [
    "## [4.4] Word2Vec"
   ]
  },
  {
   "cell_type": "code",
   "execution_count": 11,
   "metadata": {},
   "outputs": [],
   "source": [
    "def cleanhtml(sentence): #function to clean the word of any html-tags\n",
    "    cleanr = re.compile('<.*?>')\n",
    "    cleantext = re.sub(cleanr, ' ', sentence)\n",
    "    return cleantext\n",
    "def cleanpunc(sentence): #function to clean the word of any punctuation or special characters\n",
    "    cleaned = re.sub(r'[?|!|\\'|\"|#]',r'',sentence)\n",
    "    cleaned = re.sub(r'[.|,|)|(|\\|/]',r' ',cleaned)\n",
    "    return  cleaned"
   ]
  },
  {
   "cell_type": "code",
   "execution_count": 12,
   "metadata": {
    "scrolled": true
   },
   "outputs": [],
   "source": [
    "#word2vec\n",
    "# Using Google News Word2Vectors\n",
    "from gensim.models import Word2Vec\n",
    "from gensim.models import KeyedVectors\n",
    "import pickle\n",
    "\n",
    "# Train your own Word2Vec model using your own text corpus\n",
    "import gensim\n",
    "list_of_sent = []\n",
    "for sent in X_tr.values:\n",
    "    filtered_sentence = []\n",
    "    sent=cleanhtml(sent)\n",
    "    for w in sent.split():\n",
    "        for cleaned_words in cleanpunc(w).split():\n",
    "            if(cleaned_words.isalpha()):    \n",
    "                filtered_sentence.append(cleaned_words.lower())\n",
    "            else:\n",
    "                continue \n",
    "    list_of_sent.append(filtered_sentence)"
   ]
  },
  {
   "cell_type": "code",
   "execution_count": 13,
   "metadata": {},
   "outputs": [],
   "source": [
    "w2v_model=gensim.models.Word2Vec(list_of_sent,min_count=5,size=50, workers=4) \n"
   ]
  },
  {
   "cell_type": "code",
   "execution_count": 14,
   "metadata": {},
   "outputs": [],
   "source": [
    "w2v = w2v_model[w2v_model.wv.vocab]"
   ]
  },
  {
   "cell_type": "code",
   "execution_count": 15,
   "metadata": {},
   "outputs": [
    {
     "data": {
      "text/plain": [
       "(9957, 50)"
      ]
     },
     "execution_count": 15,
     "metadata": {},
     "output_type": "execute_result"
    }
   ],
   "source": [
    "w2v.shape"
   ]
  },
  {
   "cell_type": "code",
   "execution_count": 16,
   "metadata": {},
   "outputs": [
    {
     "data": {
      "text/plain": [
       "[('typic', 0.7028923630714417),\n",
       " ('compar', 0.6715496182441711),\n",
       " ('lighter', 0.6174361109733582),\n",
       " ('unlik', 0.6078922748565674),\n",
       " ('familiar', 0.6026565432548523),\n",
       " ('comparison', 0.5975757241249084),\n",
       " ('normal', 0.5880773067474365),\n",
       " ('generic', 0.5757439136505127),\n",
       " ('lack', 0.557818591594696),\n",
       " ('decent', 0.5577421188354492)]"
      ]
     },
     "execution_count": 16,
     "metadata": {},
     "output_type": "execute_result"
    }
   ],
   "source": [
    "w2v_model.wv.most_similar('similar')"
   ]
  },
  {
   "cell_type": "markdown",
   "metadata": {},
   "source": [
    "## [4.4.1] Converting text into vectors using Avg W2V, TFIDF-W2V"
   ]
  },
  {
   "cell_type": "markdown",
   "metadata": {},
   "source": [
    "#### [4.4.1.1] Avg W2v"
   ]
  },
  {
   "cell_type": "code",
   "execution_count": 17,
   "metadata": {},
   "outputs": [
    {
     "name": "stdout",
     "output_type": "stream",
     "text": [
      "60000\n",
      "50\n"
     ]
    }
   ],
   "source": [
    "# average Word2Vec on train data\n",
    "train = []; # the avg-w2v for each sentence/review is stored in this list\n",
    "for sent in list_of_sent: # for each review/sentence\n",
    "    sent_vec = np.zeros(50) # as word vectors are of zero length\n",
    "    cnt_words =0; # num of words with a valid vector in the sentence/review\n",
    "    for word in sent: # for each word in a review/sentence\n",
    "        try:\n",
    "            vec = w2v_model.wv[word]\n",
    "            sent_vec += vec\n",
    "            cnt_words += 1\n",
    "        except:\n",
    "            pass\n",
    "    sent_vec /= cnt_words\n",
    "    train.append(sent_vec)\n",
    "print(len(train))\n",
    "print(len(train[0]))\n",
    "# To replace nan with 0 and inf with large finite number\n",
    "\n",
    "train = np.nan_to_num(train)\n",
    "avgTrain = train"
   ]
  },
  {
   "cell_type": "code",
   "execution_count": 18,
   "metadata": {},
   "outputs": [],
   "source": [
    "avgTrain = scale.fit_transform(avgTrain)\n"
   ]
  },
  {
   "cell_type": "code",
   "execution_count": 19,
   "metadata": {},
   "outputs": [
    {
     "name": "stdout",
     "output_type": "stream",
     "text": [
      "20000\n",
      "50\n"
     ]
    }
   ],
   "source": [
    "# average Word2Vec on cross validate data\n",
    "list_of_sent_cv = []\n",
    "for sent in X_cv.values:\n",
    "    filtered_sentence = []\n",
    "    sent=cleanhtml(sent)\n",
    "    for w in sent.split():\n",
    "        for cleaned_words in cleanpunc(w).split():\n",
    "            if(cleaned_words.isalpha()):    \n",
    "                filtered_sentence.append(cleaned_words.lower())\n",
    "            else:\n",
    "                continue \n",
    "    list_of_sent_cv.append(filtered_sentence)\n",
    "    \n",
    "# average Word2Vec on train data\n",
    "cv = []; # the avg-w2v for each sentence/review is stored in this list\n",
    "for sent in list_of_sent_cv: # for each review/sentence\n",
    "    sent_vec = np.zeros(50) # as word vectors are of zero length\n",
    "    cnt_words =0; # num of words with a valid vector in the sentence/review\n",
    "    for word in sent: # for each word in a review/sentence\n",
    "        try:\n",
    "            vec = w2v_model.wv[word]\n",
    "            sent_vec += vec\n",
    "            cnt_words += 1\n",
    "        except:\n",
    "            pass\n",
    "    sent_vec /= cnt_words\n",
    "    cv.append(sent_vec)\n",
    "print(len(cv))\n",
    "print(len(cv[0]))\n",
    "# To replace nan with 0 and inf with large finite number\n",
    "\n",
    "cv = np.nan_to_num(cv)\n",
    "avgCv = cv"
   ]
  },
  {
   "cell_type": "code",
   "execution_count": 20,
   "metadata": {},
   "outputs": [],
   "source": [
    "avgCv = scale.fit_transform(avgCv)\n"
   ]
  },
  {
   "cell_type": "code",
   "execution_count": 21,
   "metadata": {},
   "outputs": [
    {
     "name": "stdout",
     "output_type": "stream",
     "text": [
      "20000\n",
      "50\n"
     ]
    }
   ],
   "source": [
    "# average Word2Vec on test data\n",
    "list_of_sent_test = []\n",
    "for sent in X_test.values:\n",
    "    filtered_sentence = []\n",
    "    sent=cleanhtml(sent)\n",
    "    for w in sent.split():\n",
    "        for cleaned_words in cleanpunc(w).split():\n",
    "            if(cleaned_words.isalpha()):    \n",
    "                filtered_sentence.append(cleaned_words.lower())\n",
    "            else:\n",
    "                continue \n",
    "    list_of_sent_test.append(filtered_sentence)\n",
    "    \n",
    "# average Word2Vec on train data\n",
    "test = []; # the avg-w2v for each sentence/review is stored in this list\n",
    "for sent in list_of_sent_test: # for each review/sentence\n",
    "    sent_vec = np.zeros(50) # as word vectors are of zero length\n",
    "    cnt_words =0; # num of words with a valid vector in the sentence/review\n",
    "    for word in sent: # for each word in a review/sentence\n",
    "        try:\n",
    "            vec = w2v_model.wv[word]\n",
    "            sent_vec += vec\n",
    "            cnt_words += 1\n",
    "        except:\n",
    "            pass\n",
    "    sent_vec /= cnt_words\n",
    "    test.append(sent_vec)\n",
    "print(len(test))\n",
    "print(len(test[0]))\n",
    "# To replace nan with 0 and inf with large finite number\n",
    "\n",
    "test = np.nan_to_num(test)\n",
    "avgTest = test"
   ]
  },
  {
   "cell_type": "code",
   "execution_count": 22,
   "metadata": {},
   "outputs": [],
   "source": [
    "avgTest = scale.fit_transform(avgTest)\n"
   ]
  },
  {
   "cell_type": "markdown",
   "metadata": {},
   "source": [
    "#### [4.4.1.2] TFIDF weighted W2v"
   ]
  },
  {
   "cell_type": "code",
   "execution_count": 23,
   "metadata": {},
   "outputs": [
    {
     "name": "stdout",
     "output_type": "stream",
     "text": [
      "(60000, 50)\n"
     ]
    }
   ],
   "source": [
    "# TF-IDF weighted Word2Vec\n",
    "tfidf_feat = tf_idf_vect.get_feature_names() # tfidf words/col-names\n",
    "# final_tf_idf is the sparse matrix with row= sentence, col=word and cell_val = tfidf\n",
    "\n",
    "train1 = []; # the tfidf-w2v for each sentence/review is stored in this list\n",
    "row=0;\n",
    "for sent in list_of_sent: # for train review/sentence\n",
    "    sent_vec = np.zeros(50) # as word vectors are of zero length\n",
    "    weight_sum =0; # num of words with a valid vector in the sentence/review\n",
    "    for word in sent: # for each word in a review/sentence\n",
    "        try:\n",
    "            vec = w2v_model.wv[word]\n",
    "            # obtain the tf_idfidf of a word in a sentence/review\n",
    "            tf_idf = final_tf_idf[row, tfidf_feat.index(word)]\n",
    "            sent_vec += (vec * tf_idf)\n",
    "            weight_sum += tf_idf\n",
    "        except:\n",
    "            pass\n",
    "    sent_vec /= weight_sum\n",
    "    train1.append(sent_vec)\n",
    "    row += 1\n",
    "    \n",
    "train1 = np.nan_to_num(train1)\n",
    "len(train1)\n",
    "tfAvgTrain = train1\n",
    "print(tfAvgTrain.shape)"
   ]
  },
  {
   "cell_type": "code",
   "execution_count": 24,
   "metadata": {},
   "outputs": [],
   "source": [
    "tfAvgTrain = scale.fit_transform(tfAvgTrain)\n"
   ]
  },
  {
   "cell_type": "code",
   "execution_count": 25,
   "metadata": {
    "scrolled": true
   },
   "outputs": [],
   "source": [
    "# TF-IDF weighted Word2Vec\n",
    "tfidf_feat = tf_idf_vect.get_feature_names() # tfidf words/col-names\n",
    "# final_tf_idf is the sparse matrix with row= sentence, col=word and cell_val = tfidf\n",
    "\n",
    "test1 = []; # the tfidf-w2v for each sentence/review is stored in this list\n",
    "row=0;\n",
    "for sent in list_of_sent_test: # for train review/sentence\n",
    "    sent_vec = np.zeros(50) # as word vectors are of zero length\n",
    "    weight_sum =0; # num of words with a valid vector in the sentence/review\n",
    "    for word in sent: # for each word in a review/sentence\n",
    "        try:\n",
    "            vec = w2v_model.wv[word]\n",
    "            # obtain the tf_idfidf of a word in a sentence/review\n",
    "            tf_idf = final_tf_idf[row, tfidf_feat.index(word)]\n",
    "            sent_vec += (vec * tf_idf)\n",
    "            weight_sum += tf_idf\n",
    "        except:\n",
    "            pass\n",
    "    sent_vec /= weight_sum\n",
    "    test1.append(sent_vec)\n",
    "    row += 1\n",
    "    \n",
    "test1 = np.nan_to_num(test1)\n",
    "len(test1)\n",
    "tfAvgTest = test1"
   ]
  },
  {
   "cell_type": "code",
   "execution_count": 26,
   "metadata": {},
   "outputs": [],
   "source": [
    "tfAvgTest = scale.fit_transform(tfAvgTest)\n"
   ]
  },
  {
   "cell_type": "code",
   "execution_count": 27,
   "metadata": {},
   "outputs": [],
   "source": [
    "# TF-IDF weighted Word2Vec\n",
    "tfidf_feat = tf_idf_vect.get_feature_names() # tfidf words/col-names\n",
    "# final_tf_idf is the sparse matrix with row= sentence, col=word and cell_val = tfidf\n",
    "\n",
    "cv1 = []; # the tfidf-w2v for each sentence/review is stored in this list\n",
    "row=0;\n",
    "for sent in list_of_sent_cv: # for train review/sentence\n",
    "    sent_vec = np.zeros(50) # as word vectors are of zero length\n",
    "    weight_sum =0; # num of words with a valid vector in the sentence/review\n",
    "    for word in sent: # for each word in a review/sentence\n",
    "        try:\n",
    "            vec = w2v_model.wv[word]\n",
    "            # obtain the tf_idfidf of a word in a sentence/review\n",
    "            tf_idf = final_tf_idf[row, tfidf_feat.index(word)]\n",
    "            sent_vec += (vec * tf_idf)\n",
    "            weight_sum += tf_idf\n",
    "        except:\n",
    "            pass\n",
    "    sent_vec /= weight_sum\n",
    "    cv1.append(sent_vec)\n",
    "    row += 1\n",
    "    \n",
    "cv1 = np.nan_to_num(cv1)    \n",
    "len(cv1)\n",
    "tfAvgCv = cv1"
   ]
  },
  {
   "cell_type": "code",
   "execution_count": 28,
   "metadata": {},
   "outputs": [],
   "source": [
    "tfAvgCv = scale.fit_transform(tfAvgCv)\n"
   ]
  },
  {
   "cell_type": "code",
   "execution_count": 29,
   "metadata": {},
   "outputs": [
    {
     "name": "stdout",
     "output_type": "stream",
     "text": [
      "+------------+---------+--------+-----+\n",
      "| Vectorizer | penalty | lambda | AUC |\n",
      "+------------+---------+--------+-----+\n",
      "+------------+---------+--------+-----+\n"
     ]
    }
   ],
   "source": [
    "#initialing the table\n",
    "from prettytable import PrettyTable\n",
    "tableData = PrettyTable()\n",
    "tableData.field_names = [\"Vectorizer\", \"penalty\", \"lambda\", \"AUC\"]\n",
    "print(tableData)"
   ]
  },
  {
   "cell_type": "markdown",
   "metadata": {},
   "source": [
    "# [5] Assignment 5: Apply Logistic Regression"
   ]
  },
  {
   "cell_type": "markdown",
   "metadata": {},
   "source": [
    "<ol>\n",
    "    <li><strong>Apply Logistic Regression on these feature sets</strong>\n",
    "        <ul>\n",
    "            <li><font color='red'>SET 1:</font>Review text, preprocessed one converted into vectors using (BOW)</li>\n",
    "            <li><font color='red'>SET 2:</font>Review text, preprocessed one converted into vectors using (TFIDF)</li>\n",
    "            <li><font color='red'>SET 3:</font>Review text, preprocessed one converted into vectors using (AVG W2v)</li>\n",
    "            <li><font color='red'>SET 4:</font>Review text, preprocessed one converted into vectors using (TFIDF W2v)</li>\n",
    "        </ul>\n",
    "    </li>\n",
    "    <br>\n",
    "    <li><strong>Hyper paramter tuning (find best hyper parameters corresponding the algorithm that you choose)</strong>\n",
    "        <ul>\n",
    "    <li>Find the best hyper parameter which will give the maximum <a href='https://www.appliedaicourse.com/course/applied-ai-course-online/lessons/receiver-operating-characteristic-curve-roc-curve-and-auc-1/'>AUC</a> value</li>\n",
    "    <li>Find the best hyper paramter using k-fold cross validation or simple cross validation data</li>\n",
    "    <li>Use gridsearch cv or randomsearch cv or you can also write your own for loops to do this task of hyperparameter tuning</li>          \n",
    "        </ul>\n",
    "    </li>\n",
    "    <br>\n",
    "    <li><strong>Pertubation Test</strong>\n",
    "        <ul>\n",
    "    <li>Get the weights W after fit your model with the data X.</li>\n",
    "    <li>Add a noise to the X (X' = X + e) and get the new data set X' (if X is a sparse\n",
    "matrix, X.data+=e)</li>\n",
    "    <li>Fit the model again on data X' and get the weights W'</li>\n",
    "    <li>Add a small eps value(to eliminate the divisible by zero error) to W and W’ i.e\n",
    "W=W+10^-6 and W’ = W’+10^-6</li>\n",
    "    <li>Now find the % change between W and W' (| (W-W') / (W) |)*100)</li>\n",
    "    <li>Calculate the 0th, 10th, 20th, 30th, ...100th percentiles, and observe any sudden rise in the values of percentage_change_vector</li>\n",
    "    <li> Ex: consider your 99th percentile is 1.3 and your 100th percentiles are 34.6, there is sudden rise from 1.3 to 34.6, now calculate the 99.1, 99.2, 99.3,..., 100th percentile values and get the proper value after which there is sudden rise the values, assume it is 2.5</li>\n",
    "            <li> Print the feature names whose % change is more than a threshold x(in our example it's 2.5)</li>\n",
    "        </ul>\n",
    "    </li>\n",
    "    <br>\n",
    "    <li><strong>Sparsity</strong>\n",
    "        <ul>\n",
    "    <li>Calculate sparsity on weight vector obtained after using L1 regularization</li>\n",
    "        </ul>\n",
    "    </li>\n",
    "    <br><font color='red'>NOTE: Do sparsity and multicollinearity for any one of the vectorizers. Bow or tf-idf is recommended.</font>\n",
    "    <br>\n",
    "    <br>\n",
    "    <li><strong>Feature importance</strong>\n",
    "        <ul>\n",
    "    <li>Get top 10 important features for both positive and negative classes separately.</li>\n",
    "        </ul>\n",
    "    </li>\n",
    "    <br>\n",
    "    <li><strong>Feature engineering</strong>\n",
    "        <ul>\n",
    "    <li>To increase the performance of your model, you can also experiment with with feature engineering like :</li>\n",
    "            <ul>\n",
    "            <li>Taking length of reviews as another feature.</li>\n",
    "            <li>Considering some features from review summary as well.</li>\n",
    "        </ul>\n",
    "        </ul>\n",
    "    </li>\n",
    "    <br>\n",
    "    <li><strong>Representation of results</strong>\n",
    "        <ul>\n",
    "    <li>You need to plot the performance of model both on train data and cross validation data for each hyper parameter, like shown in the figure.\n",
    "    <img src='train_cv_auc.JPG' width=300px></li>\n",
    "    <li>Once after you found the best hyper parameter, you need to train your model with it, and find the AUC on test data and plot the ROC curve on both train and test.\n",
    "    <img src='train_test_auc.JPG' width=300px></li>\n",
    "    <li>Along with plotting ROC curve, you need to print the <a href='https://www.appliedaicourse.com/course/applied-ai-course-online/lessons/confusion-matrix-tpr-fpr-fnr-tnr-1/'>confusion matrix</a> with predicted and original labels of test data points. Please visualize your confusion matrices using <a href='https://seaborn.pydata.org/generated/seaborn.heatmap.html'>seaborn heatmaps.\n",
    "    <img src='confusion_matrix.png' width=300px></li>\n",
    "        </ul>\n",
    "    </li>\n",
    "    <br>\n",
    "    <li><strong>Conclusion</strong>\n",
    "        <ul>\n",
    "    <li>You need to summarize the results at the end of the notebook, summarize it in the table format. To print out a table please refer to this prettytable library<a href='http://zetcode.com/python/prettytable/'>  link</a> \n",
    "        <img src='summary.JPG' width=400px>\n",
    "    </li>\n",
    "        </ul>\n",
    "</ol>"
   ]
  },
  {
   "cell_type": "markdown",
   "metadata": {},
   "source": [
    "<h4><font color='red'>Note: Data Leakage</font></h4>\n",
    "\n",
    "1. There will be an issue of data-leakage if you vectorize the entire data and then split it into train/cv/test.\n",
    "2. To avoid the issue of data-leakag, make sure to split your data first and then vectorize it. \n",
    "3. While vectorizing your data, apply the method fit_transform() on you train data, and apply the method transform() on cv/test data.\n",
    "4. For more details please go through this <a href='https://soundcloud.com/applied-ai-course/leakage-bow-and-tfidf'>link.</a>"
   ]
  },
  {
   "cell_type": "markdown",
   "metadata": {},
   "source": [
    "# Applying Logistic Regression"
   ]
  },
  {
   "cell_type": "markdown",
   "metadata": {},
   "source": [
    "## [5.1] Logistic Regression on BOW,<font color='red'> SET 1</font>"
   ]
  },
  {
   "cell_type": "markdown",
   "metadata": {},
   "source": [
    "### [5.1.1] Applying Logistic Regression with L1 regularization on BOW,<font color='red'> SET 1</font>"
   ]
  },
  {
   "cell_type": "code",
   "execution_count": 30,
   "metadata": {},
   "outputs": [],
   "source": [
    "# Please write all the code with proper documentation\n",
    "aucTrain = [ x for x in range(9)]\n",
    "aucCv = [ x for x in range(9)]\n",
    "lambdaValues = [10**-4, 10**-3, 10**-2, 10**-1, 10**0, 10**1, 10**2, 10**3, 10**4]\n",
    "j = 0"
   ]
  },
  {
   "cell_type": "code",
   "execution_count": 31,
   "metadata": {},
   "outputs": [
    {
     "name": "stdout",
     "output_type": "stream",
     "text": [
      "0.0001  lambda iteration done\n",
      "0.001  lambda iteration done\n",
      "0.01  lambda iteration done\n",
      "0.1  lambda iteration done\n",
      "1  lambda iteration done\n",
      "10  lambda iteration done\n",
      "100  lambda iteration done\n",
      "1000  lambda iteration done\n",
      "10000  lambda iteration done\n"
     ]
    }
   ],
   "source": [
    "for lam in lambdaValues:\n",
    "    lr = LogisticRegression(penalty = 'l1', C = lam)\n",
    "    lr.fit(bowTrain, y_tr)\n",
    "    predTrain = lr.predict_proba(bowTrain)\n",
    "    \n",
    "    fpr, tpr, thresholds = metrics.roc_curve(y_tr, predTrain[:,1])\n",
    "    aucTrain[j] = metrics.auc(fpr, tpr)\n",
    "    \n",
    "    predCv = lr.predict_proba(bowCv)\n",
    "    \n",
    "    fpr, tpr, thresholds = metrics.roc_curve(y_cv, predCv[:,1])\n",
    "    aucCv[j] = metrics.auc(fpr, tpr)\n",
    "    j += 1\n",
    "    print(lam, \" lambda iteration done\")"
   ]
  },
  {
   "cell_type": "code",
   "execution_count": 35,
   "metadata": {},
   "outputs": [
    {
     "name": "stdout",
     "output_type": "stream",
     "text": [
      "[0.5, 0.8394142646463362, 0.9265521991942236, 0.9063353559749966, 0.8797607552027422, 0.8717225835390949, 0.8672301101545419, 0.8636599590024081, 0.861011285059003]\n"
     ]
    }
   ],
   "source": [
    "print(aucCv)\n",
    "# print(aucTrain)\n"
   ]
  },
  {
   "cell_type": "code",
   "execution_count": 34,
   "metadata": {},
   "outputs": [
    {
     "data": {
      "image/png": "[encoded data removed]",
      "text/plain": [
       "<Figure size 432x288 with 1 Axes>"
      ]
     },
     "metadata": {},
     "output_type": "display_data"
    }
   ],
   "source": [
    "plt.plot(lambdaValues,aucTrain, label='train Auc')\n",
    "plt.plot(lambdaValues, aucCv, label='Validation Auc')\n",
    "plt.xlabel('Hyper Parameter')\n",
    "plt.ylabel('Area under ROC Curve')\n",
    "plt.grid()\n",
    "plt.legend()\n",
    "plt.show()\n"
   ]
  },
  {
   "cell_type": "markdown",
   "metadata": {},
   "source": [
    "## Observation \n",
    "for c = 0.01 we get maximum AUC for CV dataset"
   ]
  },
  {
   "cell_type": "code",
   "execution_count": 37,
   "metadata": {},
   "outputs": [
    {
     "name": "stdout",
     "output_type": "stream",
     "text": [
      "0.9283537214602635\n"
     ]
    }
   ],
   "source": [
    "lrBow = LogisticRegression(penalty = 'l1', C = 0.01)\n",
    "# train model knn with respect to ooptimalK\n",
    "lrBow.fit(bowTrain, y_tr)\n",
    "\n",
    "predTrain = lrBow.predict_proba(bowTrain)\n",
    "predTest = lrBow.predict_proba(bowTest)\n",
    "\n",
    "fpr1, tpr1, thresholds = metrics.roc_curve(y_tr, predTrain[:,1])\n",
    "aucTrain = metrics.auc(fpr1, tpr1)\n",
    "\n",
    "fpr2, tpr2, thresholds = metrics.roc_curve(y_test, predTest[:,1])\n",
    "aucTest = metrics.auc(fpr2, tpr2)\n",
    "    \n",
    "print(aucTest)\n",
    "y_pred = lrBow.predict(bowTest)"
   ]
  },
  {
   "cell_type": "code",
   "execution_count": 39,
   "metadata": {},
   "outputs": [
    {
     "data": {
      "image/png": "[encoded data removed]",
      "text/plain": [
       "<Figure size 432x288 with 1 Axes>"
      ]
     },
     "metadata": {},
     "output_type": "display_data"
    },
    {
     "data": {
      "image/png": "[encoded data removed]",
      "text/plain": [
       "<Figure size 432x288 with 2 Axes>"
      ]
     },
     "metadata": {},
     "output_type": "display_data"
    }
   ],
   "source": [
    "# plot confusion matrix to describe the performance of classifier.\n",
    "\n",
    "plt.title(\"Roc Curve\")\n",
    "plt.plot(fpr1,tpr1,label=\"trainAuc\")\n",
    "plt.plot(fpr2,tpr2,label=\"testAuc\")\n",
    "plt.grid()\n",
    "plt.legend()\n",
    "plt.show()\n",
    "    \n",
    "# confusion matrix\n",
    "    \n",
    "cm = confusion_matrix(y_test, y_pred)\n",
    "class_label = [\"negative\", \"positive\"]\n",
    "df_cm = pd.DataFrame(cm, index = class_label, columns = class_label)\n",
    "sns.heatmap(df_cm, annot = True, fmt = \"d\")\n",
    "plt.title(\"Confusiion Matrix\")\n",
    "plt.xlabel(\"Predicted Label\")\n",
    "plt.ylabel(\"True Label\")\n",
    "plt.show()\n",
    "\n"
   ]
  },
  {
   "cell_type": "code",
   "execution_count": 40,
   "metadata": {},
   "outputs": [
    {
     "name": "stdout",
     "output_type": "stream",
     "text": [
      "0.9283537214602635\n"
     ]
    }
   ],
   "source": [
    "print(aucTest)"
   ]
  },
  {
   "cell_type": "code",
   "execution_count": 41,
   "metadata": {},
   "outputs": [],
   "source": [
    "tableData.add_row(['BOW', \"l1\", 0.01, aucTest])\n"
   ]
  },
  {
   "cell_type": "markdown",
   "metadata": {},
   "source": [
    "#### [5.1.1.1] Calculating sparsity on weight vector obtained using L1 regularization on BOW,<font color='red'> SET 1</font>"
   ]
  },
  {
   "cell_type": "code",
   "execution_count": 43,
   "metadata": {},
   "outputs": [
    {
     "data": {
      "text/plain": [
       "(1, 5000)"
      ]
     },
     "execution_count": 43,
     "metadata": {},
     "output_type": "execute_result"
    }
   ],
   "source": [
    "# Please write all the code with proper documentation\n",
    "weights = lrBow.coef_\n",
    "weights.shape"
   ]
  },
  {
   "cell_type": "code",
   "execution_count": 44,
   "metadata": {},
   "outputs": [
    {
     "data": {
      "text/plain": [
       "4499"
      ]
     },
     "execution_count": 44,
     "metadata": {},
     "output_type": "execute_result"
    }
   ],
   "source": [
    "count = 0\n",
    "for i in range(5000):\n",
    "    if weights[0][i] < 0.0001:\n",
    "        count += 1\n",
    "count"
   ]
  },
  {
   "cell_type": "markdown",
   "metadata": {},
   "source": [
    "#### Observation\n",
    "so out of 5000 weights, 4499 weights get zero due to use of l1 regularizer"
   ]
  },
  {
   "cell_type": "markdown",
   "metadata": {},
   "source": [
    "### [5.1.2] Applying Logistic Regression with L2 regularization on BOW,<font color='red'> SET 1</font>"
   ]
  },
  {
   "cell_type": "code",
   "execution_count": 45,
   "metadata": {},
   "outputs": [],
   "source": [
    "# Please write all the code with proper documentation\n",
    "aucTrain = [ x for x in range(9)]\n",
    "aucCv = [ x for x in range(9)]\n",
    "lambdaValues = [10**-4, 10**-3, 10**-2, 10**-1, 10**0, 10**1, 10**2, 10**3, 10**4]\n",
    "j = 0"
   ]
  },
  {
   "cell_type": "code",
   "execution_count": 46,
   "metadata": {},
   "outputs": [
    {
     "name": "stdout",
     "output_type": "stream",
     "text": [
      "0.0001  lambda iteration done\n",
      "0.001  lambda iteration done\n",
      "0.01  lambda iteration done\n",
      "0.1  lambda iteration done\n",
      "1  lambda iteration done\n",
      "10  lambda iteration done\n",
      "100  lambda iteration done\n",
      "1000  lambda iteration done\n",
      "10000  lambda iteration done\n"
     ]
    }
   ],
   "source": [
    "# Please write all the code with proper documentation\n",
    "for lam in lambdaValues:\n",
    "    lr = LogisticRegression(penalty = 'l2', C = lam)\n",
    "    lr.fit(bowTrain, y_tr)\n",
    "    predTrain = lr.predict_proba(bowTrain)\n",
    "    \n",
    "    fpr, tpr, thresholds = metrics.roc_curve(y_tr, predTrain[:,1])\n",
    "    aucTrain[j] = metrics.auc(fpr, tpr)\n",
    "    \n",
    "    predCv = lr.predict_proba(bowCv)\n",
    "    \n",
    "    fpr, tpr, thresholds = metrics.roc_curve(y_cv, predCv[:,1])\n",
    "    aucCv[j] = metrics.auc(fpr, tpr)\n",
    "    j += 1\n",
    "    print(lam, \" lambda iteration done\")"
   ]
  },
  {
   "cell_type": "code",
   "execution_count": 47,
   "metadata": {},
   "outputs": [
    {
     "name": "stdout",
     "output_type": "stream",
     "text": [
      "[0.8868609400073107, 0.9138424196864661, 0.8989722209235852, 0.88072267735785, 0.8726675629692114, 0.8683005016631018, 0.8659844184814202, 0.8645376217327925, 0.8644306522963912]\n"
     ]
    }
   ],
   "source": [
    "print(aucCv)"
   ]
  },
  {
   "cell_type": "code",
   "execution_count": 70,
   "metadata": {},
   "outputs": [
    {
     "data": {
      "image/png": "[encoded data removed]",
      "text/plain": [
       "<Figure size 432x288 with 1 Axes>"
      ]
     },
     "metadata": {},
     "output_type": "display_data"
    }
   ],
   "source": [
    "plt.plot(lambdaValues,aucTrain, label='train Auc')\n",
    "plt.plot(lambdaValues, aucCv, label='Validation Auc')\n",
    "plt.xlabel('Hyper Parameter')\n",
    "plt.ylabel('Area under ROC Curve')\n",
    "plt.grid()\n",
    "plt.legend()\n",
    "plt.show()\n"
   ]
  },
  {
   "cell_type": "markdown",
   "metadata": {},
   "source": [
    "### Observation \n",
    "we get maximum AUC Cv at lambda = 0.01"
   ]
  },
  {
   "cell_type": "code",
   "execution_count": 82,
   "metadata": {},
   "outputs": [],
   "source": [
    "lrBow = LogisticRegression(penalty = 'l2', C = 0.001)\n",
    "# train model knn with respect to ooptimalK\n",
    "lrBow.fit(bowTrain, y_tr)\n",
    "\n",
    "predTrain = lrBow.predict_proba(bowTrain)\n",
    "predTest = lrBow.predict_proba(bowTest)\n",
    "\n",
    "fpr1, tpr1, thresholds = metrics.roc_curve(y_tr, predTrain[:,1])\n",
    "aucTrain = metrics.auc(fpr1, tpr1)\n",
    "\n",
    "fpr2, tpr2, thresholds = metrics.roc_curve(y_test, predTest[:,1])\n",
    "aucTest = metrics.auc(fpr2, tpr2)\n",
    "    \n",
    "y_pred = lrBow.predict(bowTest)\n"
   ]
  },
  {
   "cell_type": "code",
   "execution_count": 83,
   "metadata": {},
   "outputs": [
    {
     "data": {
      "image/png": "[encoded data removed]",
      "text/plain": [
       "<Figure size 432x288 with 1 Axes>"
      ]
     },
     "metadata": {},
     "output_type": "display_data"
    },
    {
     "data": {
      "image/png": "[encoded data removed]",
      "text/plain": [
       "<Figure size 432x288 with 2 Axes>"
      ]
     },
     "metadata": {},
     "output_type": "display_data"
    }
   ],
   "source": [
    "# plot confusion matrix to describe the performance of classifier.\n",
    "\n",
    "plt.title(\"Roc Curve\")\n",
    "plt.plot(fpr1,tpr1,label=\"trainAuc\")\n",
    "plt.plot(fpr2,tpr2,label=\"testAuc\")\n",
    "plt.grid()\n",
    "plt.legend()\n",
    "plt.show()\n",
    "    \n",
    "# confusion matrix\n",
    "    \n",
    "cm = confusion_matrix(y_test, y_pred)\n",
    "class_label = [\"negative\", \"positive\"]\n",
    "df_cm = pd.DataFrame(cm, index = class_label, columns = class_label)\n",
    "sns.heatmap(df_cm, annot = True, fmt = \"d\")\n",
    "plt.title(\"Confusiion Matrix\")\n",
    "plt.xlabel(\"Predicted Label\")\n",
    "plt.ylabel(\"True Label\")\n",
    "plt.show()\n",
    "\n"
   ]
  },
  {
   "cell_type": "code",
   "execution_count": 84,
   "metadata": {},
   "outputs": [
    {
     "name": "stdout",
     "output_type": "stream",
     "text": [
      "0.9168818977491875\n"
     ]
    }
   ],
   "source": [
    "print(aucTest)"
   ]
  },
  {
   "cell_type": "code",
   "execution_count": 85,
   "metadata": {},
   "outputs": [],
   "source": [
    "tableData.add_row(['BOW', \"l2\", 0.001, aucTest])\n"
   ]
  },
  {
   "cell_type": "markdown",
   "metadata": {},
   "source": [
    "#### [5.1.2.1] Performing pertubation test (multicollinearity check) on BOW,<font color='red'> SET 1</font>"
   ]
  },
  {
   "cell_type": "code",
   "execution_count": 86,
   "metadata": {},
   "outputs": [
    {
     "data": {
      "text/plain": [
       "(60000, 5000)"
      ]
     },
     "execution_count": 86,
     "metadata": {},
     "output_type": "execute_result"
    }
   ],
   "source": [
    "# Generate random normal variable as a noise \n",
    "bowTrainPert = bowTrain\n",
    "noise = np.random.normal(0, 0.0001, size = (bowTrainPert[np.nonzero(bowTrain)].size))\n",
    "#print(noise.shape)\n",
    "np.nonzero(bowTrainPert)\n",
    "bowTrainPert[np.nonzero(bowTrainPert)] = noise + bowTrainPert[np.nonzero(bowTrainPert)]\n",
    "bowTrainPert.shape"
   ]
  },
  {
   "cell_type": "code",
   "execution_count": 87,
   "metadata": {},
   "outputs": [
    {
     "data": {
      "text/plain": [
       "<60000x5000 sparse matrix of type '<class 'numpy.float64'>'\n",
       "\twith 1707530 stored elements in Compressed Sparse Row format>"
      ]
     },
     "execution_count": 87,
     "metadata": {},
     "output_type": "execute_result"
    }
   ],
   "source": [
    "bowTrainPert"
   ]
  },
  {
   "cell_type": "code",
   "execution_count": 88,
   "metadata": {},
   "outputs": [],
   "source": [
    "\n",
    "modelGridBowPert = LogisticRegression(penalty = 'l2', C = 0.001)\n",
    "modelGridBowPert.fit(bowTrainPert,y_tr)\n",
    "weigtsPert = modelGridBowPert.coef_"
   ]
  },
  {
   "cell_type": "code",
   "execution_count": 89,
   "metadata": {},
   "outputs": [
    {
     "data": {
      "text/plain": [
       "(1, 5000)"
      ]
     },
     "execution_count": 89,
     "metadata": {},
     "output_type": "execute_result"
    }
   ],
   "source": [
    "weights = lrBow.coef_\n",
    "weights.shape"
   ]
  },
  {
   "cell_type": "code",
   "execution_count": 90,
   "metadata": {},
   "outputs": [],
   "source": [
    "diffWeight = []\n",
    "#perturbation test\n",
    "count = 0\n",
    "for i in range(5000):\n",
    "    weights[0][i] += 10**-6\n",
    "    weigtsPert[0][i] += 10**-6\n",
    "    diff = abs(weights[0][i] - weigtsPert[0][i])/abs(weights[0][i])\n",
    "    diff *= 100\n",
    "    diffWeight.append(diff)"
   ]
  },
  {
   "cell_type": "code",
   "execution_count": 91,
   "metadata": {},
   "outputs": [],
   "source": [
    "sortDiffWeights = sorted(diffWeight, reverse=True)"
   ]
  },
  {
   "cell_type": "code",
   "execution_count": 92,
   "metadata": {},
   "outputs": [
    {
     "data": {
      "text/plain": [
       "5000"
      ]
     },
     "execution_count": 92,
     "metadata": {},
     "output_type": "execute_result"
    }
   ],
   "source": [
    "len(sortDiffWeights)"
   ]
  },
  {
   "cell_type": "code",
   "execution_count": 93,
   "metadata": {},
   "outputs": [
    {
     "data": {
      "image/png": "[encoded data removed]",
      "text/plain": [
       "<Figure size 432x288 with 1 Axes>"
      ]
     },
     "metadata": {},
     "output_type": "display_data"
    }
   ],
   "source": [
    "plt.plot([x for x in range(5000)], sortDiffWeights)\n",
    "plt.xlabel(\"order of weights diff\")\n",
    "plt.ylabel(\"change in weights percentage\")\n",
    "plt.show()"
   ]
  },
  {
   "cell_type": "code",
   "execution_count": 94,
   "metadata": {},
   "outputs": [
    {
     "data": {
      "text/plain": [
       "[1.32441874556315,\n",
       " 1.2481734349788494,\n",
       " 0.6603135789589807,\n",
       " 0.636879981433717,\n",
       " 0.6262166951897162,\n",
       " 0.5600680238388677,\n",
       " 0.5529424596335981,\n",
       " 0.5272457866755377,\n",
       " 0.4798334592820892,\n",
       " 0.42367118447644225,\n",
       " 0.36417831503605885,\n",
       " 0.32207407715588854,\n",
       " 0.26708518422502675,\n",
       " 0.2588953451765275,\n",
       " 0.25325004138235213]"
      ]
     },
     "execution_count": 94,
     "metadata": {},
     "output_type": "execute_result"
    }
   ],
   "source": [
    "sortDiffWeights[0:15]"
   ]
  },
  {
   "cell_type": "markdown",
   "metadata": {},
   "source": [
    "### Observation\n",
    "by observing the plot and using the elbow method we get **tau** as 1 and there are 2 features which are multicolinear"
   ]
  },
  {
   "cell_type": "markdown",
   "metadata": {},
   "source": [
    "### [5.1.3] Feature Importance on BOW,<font color='red'> SET 1</font>"
   ]
  },
  {
   "cell_type": "markdown",
   "metadata": {},
   "source": [
    "#### [5.1.3.1] Top 10 important features of positive class from<font color='red'> SET 1</font>"
   ]
  },
  {
   "cell_type": "code",
   "execution_count": 95,
   "metadata": {},
   "outputs": [
    {
     "data": {
      "text/plain": [
       "(1, 5000)"
      ]
     },
     "execution_count": 95,
     "metadata": {},
     "output_type": "execute_result"
    }
   ],
   "source": [
    "# Please write all the code with proper documentation\n",
    "# Please write all the code with proper documentation\n",
    "weights = lrBow.coef_\n",
    "weights.shape"
   ]
  },
  {
   "cell_type": "code",
   "execution_count": 96,
   "metadata": {},
   "outputs": [],
   "source": [
    "bowData = pd.DataFrame({\"features\":count_vect.get_feature_names(), \"Weights\": weights[0]})\n",
    "#sorting the weights\n",
    "features = bowData.sort_values(\"Weights\", ascending = False)"
   ]
  },
  {
   "cell_type": "code",
   "execution_count": 97,
   "metadata": {},
   "outputs": [
    {
     "data": {
      "text/html": [
       "<div>\n",
       "<style scoped>\n",
       "    .dataframe tbody tr th:only-of-type {\n",
       "        vertical-align: middle;\n",
       "    }\n",
       "\n",
       "    .dataframe tbody tr th {\n",
       "        vertical-align: top;\n",
       "    }\n",
       "\n",
       "    .dataframe thead th {\n",
       "        text-align: right;\n",
       "    }\n",
       "</style>\n",
       "<table border=\"1\" class=\"dataframe\">\n",
       "  <thead>\n",
       "    <tr style=\"text-align: right;\">\n",
       "      <th></th>\n",
       "      <th>features</th>\n",
       "      <th>Weights</th>\n",
       "    </tr>\n",
       "  </thead>\n",
       "  <tbody>\n",
       "    <tr>\n",
       "      <th>1946</th>\n",
       "      <td>great</td>\n",
       "      <td>0.467259</td>\n",
       "    </tr>\n",
       "    <tr>\n",
       "      <th>2582</th>\n",
       "      <td>love</td>\n",
       "      <td>0.366770</td>\n",
       "    </tr>\n",
       "    <tr>\n",
       "      <th>377</th>\n",
       "      <td>best</td>\n",
       "      <td>0.329197</td>\n",
       "    </tr>\n",
       "    <tr>\n",
       "      <th>1170</th>\n",
       "      <td>delici</td>\n",
       "      <td>0.272842</td>\n",
       "    </tr>\n",
       "    <tr>\n",
       "      <th>1899</th>\n",
       "      <td>good</td>\n",
       "      <td>0.263155</td>\n",
       "    </tr>\n",
       "    <tr>\n",
       "      <th>1519</th>\n",
       "      <td>excel</td>\n",
       "      <td>0.229960</td>\n",
       "    </tr>\n",
       "    <tr>\n",
       "      <th>3212</th>\n",
       "      <td>perfect</td>\n",
       "      <td>0.213996</td>\n",
       "    </tr>\n",
       "    <tr>\n",
       "      <th>2943</th>\n",
       "      <td>nice</td>\n",
       "      <td>0.197978</td>\n",
       "    </tr>\n",
       "    <tr>\n",
       "      <th>4901</th>\n",
       "      <td>wonder</td>\n",
       "      <td>0.180243</td>\n",
       "    </tr>\n",
       "    <tr>\n",
       "      <th>1601</th>\n",
       "      <td>favorit</td>\n",
       "      <td>0.178871</td>\n",
       "    </tr>\n",
       "  </tbody>\n",
       "</table>\n",
       "</div>"
      ],
      "text/plain": [
       "     features   Weights\n",
       "1946    great  0.467259\n",
       "2582     love  0.366770\n",
       "377      best  0.329197\n",
       "1170   delici  0.272842\n",
       "1899     good  0.263155\n",
       "1519    excel  0.229960\n",
       "3212  perfect  0.213996\n",
       "2943     nice  0.197978\n",
       "4901   wonder  0.180243\n",
       "1601  favorit  0.178871"
      ]
     },
     "execution_count": 97,
     "metadata": {},
     "output_type": "execute_result"
    }
   ],
   "source": [
    "#TOP  10  POSITIVE features\n",
    "features.head(10)"
   ]
  },
  {
   "cell_type": "markdown",
   "metadata": {},
   "source": [
    "#### [5.1.3.2] Top 10 important features of negative class from<font color='red'> SET 1</font>"
   ]
  },
  {
   "cell_type": "code",
   "execution_count": 98,
   "metadata": {},
   "outputs": [
    {
     "data": {
      "text/html": [
       "<div>\n",
       "<style scoped>\n",
       "    .dataframe tbody tr th:only-of-type {\n",
       "        vertical-align: middle;\n",
       "    }\n",
       "\n",
       "    .dataframe tbody tr th {\n",
       "        vertical-align: top;\n",
       "    }\n",
       "\n",
       "    .dataframe thead th {\n",
       "        text-align: right;\n",
       "    }\n",
       "</style>\n",
       "<table border=\"1\" class=\"dataframe\">\n",
       "  <thead>\n",
       "    <tr style=\"text-align: right;\">\n",
       "      <th></th>\n",
       "      <th>features</th>\n",
       "      <th>Weights</th>\n",
       "    </tr>\n",
       "  </thead>\n",
       "  <tbody>\n",
       "    <tr>\n",
       "      <th>4071</th>\n",
       "      <td>sorri</td>\n",
       "      <td>-0.105409</td>\n",
       "    </tr>\n",
       "    <tr>\n",
       "      <th>2124</th>\n",
       "      <td>horribl</td>\n",
       "      <td>-0.117882</td>\n",
       "    </tr>\n",
       "    <tr>\n",
       "      <th>2830</th>\n",
       "      <td>money</td>\n",
       "      <td>-0.118159</td>\n",
       "    </tr>\n",
       "    <tr>\n",
       "      <th>3649</th>\n",
       "      <td>return</td>\n",
       "      <td>-0.121147</td>\n",
       "    </tr>\n",
       "    <tr>\n",
       "      <th>4663</th>\n",
       "      <td>unfortun</td>\n",
       "      <td>-0.123471</td>\n",
       "    </tr>\n",
       "    <tr>\n",
       "      <th>417</th>\n",
       "      <td>bland</td>\n",
       "      <td>-0.123799</td>\n",
       "    </tr>\n",
       "    <tr>\n",
       "      <th>268</th>\n",
       "      <td>aw</td>\n",
       "      <td>-0.136704</td>\n",
       "    </tr>\n",
       "    <tr>\n",
       "      <th>4433</th>\n",
       "      <td>terribl</td>\n",
       "      <td>-0.139877</td>\n",
       "    </tr>\n",
       "    <tr>\n",
       "      <th>4917</th>\n",
       "      <td>worst</td>\n",
       "      <td>-0.189423</td>\n",
       "    </tr>\n",
       "    <tr>\n",
       "      <th>1252</th>\n",
       "      <td>disappoint</td>\n",
       "      <td>-0.223384</td>\n",
       "    </tr>\n",
       "  </tbody>\n",
       "</table>\n",
       "</div>"
      ],
      "text/plain": [
       "        features   Weights\n",
       "4071       sorri -0.105409\n",
       "2124     horribl -0.117882\n",
       "2830       money -0.118159\n",
       "3649      return -0.121147\n",
       "4663    unfortun -0.123471\n",
       "417        bland -0.123799\n",
       "268           aw -0.136704\n",
       "4433     terribl -0.139877\n",
       "4917       worst -0.189423\n",
       "1252  disappoint -0.223384"
      ]
     },
     "execution_count": 98,
     "metadata": {},
     "output_type": "execute_result"
    }
   ],
   "source": [
    "# Please write all the code with proper documentation\n",
    "#top 10 negative features\n",
    "features.tail(10)"
   ]
  },
  {
   "cell_type": "markdown",
   "metadata": {},
   "source": [
    "## [5.2] Logistic Regression on TFIDF,<font color='red'> SET 2</font>"
   ]
  },
  {
   "cell_type": "markdown",
   "metadata": {},
   "source": [
    "### [5.2.1] Applying Logistic Regression with L1 regularization on TFIDF,<font color='red'> SET 2</font>"
   ]
  },
  {
   "cell_type": "code",
   "execution_count": 99,
   "metadata": {},
   "outputs": [],
   "source": [
    "# Please write all the code with proper documentation\n",
    "# Please write all the code with proper documentation\n",
    "aucTrain = [ x for x in range(9)]\n",
    "aucCv = [ x for x in range(9)]\n",
    "lambdaValues = [10**-4, 10**-3, 10**-2, 10**-1, 10**0, 10**1, 10**2, 10**3, 10**4]\n",
    "j = 0"
   ]
  },
  {
   "cell_type": "code",
   "execution_count": 100,
   "metadata": {},
   "outputs": [
    {
     "name": "stdout",
     "output_type": "stream",
     "text": [
      "0.0001  lambda iteration done\n",
      "0.001  lambda iteration done\n",
      "0.01  lambda iteration done\n",
      "0.1  lambda iteration done\n",
      "1  lambda iteration done\n",
      "10  lambda iteration done\n",
      "100  lambda iteration done\n",
      "1000  lambda iteration done\n",
      "10000  lambda iteration done\n"
     ]
    }
   ],
   "source": [
    "# Please write all the code with proper documentation\n",
    "for lam in lambdaValues:\n",
    "    lr = LogisticRegression(penalty = 'l1', C = lam)\n",
    "    lr.fit(tfTrain, y_tr)\n",
    "    predTrain = lr.predict_proba(tfTrain)\n",
    "    \n",
    "    fpr, tpr, thresholds = metrics.roc_curve(y_tr, predTrain[:,1])\n",
    "    aucTrain[j] = metrics.auc(fpr, tpr)\n",
    "    \n",
    "    predCv = lr.predict_proba(tfCv)\n",
    "    \n",
    "    fpr, tpr, thresholds = metrics.roc_curve(y_cv, predCv[:,1])\n",
    "    aucCv[j] = metrics.auc(fpr, tpr)\n",
    "    j += 1\n",
    "    print(lam, \" lambda iteration done\")"
   ]
  },
  {
   "cell_type": "code",
   "execution_count": 103,
   "metadata": {},
   "outputs": [
    {
     "name": "stdout",
     "output_type": "stream",
     "text": [
      "[0.5, 0.8555989611363253, 0.9406936389637551, 0.9323105814436897, 0.9164484938730818, 0.9115460678079543, 0.9089273922055564, 0.9069277809587053, 0.9056832089419731]\n"
     ]
    }
   ],
   "source": [
    "print(aucCv)"
   ]
  },
  {
   "cell_type": "code",
   "execution_count": 102,
   "metadata": {},
   "outputs": [
    {
     "data": {
      "image/png": "[encoded data removed]",
      "text/plain": [
       "<Figure size 432x288 with 1 Axes>"
      ]
     },
     "metadata": {},
     "output_type": "display_data"
    }
   ],
   "source": [
    "plt.plot(lambdaValues,aucTrain, label='train Auc')\n",
    "plt.plot(lambdaValues, aucCv, label='Validation Auc')\n",
    "plt.xlabel('Hyper Parameter')\n",
    "plt.ylabel('Area under ROC Curve')\n",
    "plt.grid()\n",
    "plt.legend()\n",
    "plt.show()\n"
   ]
  },
  {
   "cell_type": "markdown",
   "metadata": {},
   "source": [
    "## Observation \n",
    "for c = 0.01 we get maximum AUC for CV dataset"
   ]
  },
  {
   "cell_type": "code",
   "execution_count": 110,
   "metadata": {},
   "outputs": [
    {
     "name": "stdout",
     "output_type": "stream",
     "text": [
      "0.9430637159310056\n"
     ]
    }
   ],
   "source": [
    "lrTf = LogisticRegression(penalty = 'l1', C = 0.01)\n",
    "# train model knn with respect to ooptimalK\n",
    "lrTf.fit(tfTrain, y_tr)\n",
    "\n",
    "predTrain = lrTf.predict_proba(tfTrain)\n",
    "predTest = lrTf.predict_proba(tfTest)\n",
    "\n",
    "fpr1, tpr1, thresholds = metrics.roc_curve(y_tr, predTrain[:,1])\n",
    "aucTrain = metrics.auc(fpr1, tpr1)\n",
    "\n",
    "fpr2, tpr2, thresholds = metrics.roc_curve(y_test, predTest[:,1])\n",
    "aucTest = metrics.auc(fpr2, tpr2)\n",
    "y_pred = lrTf.predict(tfTest)\n",
    "    \n",
    "print(aucTest)"
   ]
  },
  {
   "cell_type": "code",
   "execution_count": 109,
   "metadata": {},
   "outputs": [
    {
     "data": {
      "image/png": "[encoded data removed]",
      "text/plain": [
       "<Figure size 432x288 with 1 Axes>"
      ]
     },
     "metadata": {},
     "output_type": "display_data"
    },
    {
     "data": {
      "image/png": "[encoded data removed]",
      "text/plain": [
       "<Figure size 432x288 with 2 Axes>"
      ]
     },
     "metadata": {},
     "output_type": "display_data"
    }
   ],
   "source": [
    "# plot confusion matrix to describe the performance of classifier.\n",
    "\n",
    "plt.title(\"Roc Curve\")\n",
    "plt.plot(fpr1,tpr1,label=\"trainAuc\")\n",
    "plt.plot(fpr2,tpr2,label=\"testAuc\")\n",
    "plt.grid()\n",
    "plt.legend()\n",
    "plt.show()\n",
    "    \n",
    "# confusion matrix\n",
    "    \n",
    "cm = confusion_matrix(y_test, y_pred)\n",
    "class_label = [\"negative\", \"positive\"]\n",
    "df_cm = pd.DataFrame(cm, index = class_label, columns = class_label)\n",
    "sns.heatmap(df_cm, annot = True, fmt = \"d\")\n",
    "plt.title(\"Confusiion Matrix\")\n",
    "plt.xlabel(\"Predicted Label\")\n",
    "plt.ylabel(\"True Label\")\n",
    "plt.show()\n"
   ]
  },
  {
   "cell_type": "code",
   "execution_count": 93,
   "metadata": {},
   "outputs": [
    {
     "name": "stdout",
     "output_type": "stream",
     "text": [
      "0.79042440425618\n"
     ]
    }
   ],
   "source": [
    "print(score3)"
   ]
  },
  {
   "cell_type": "code",
   "execution_count": 111,
   "metadata": {},
   "outputs": [],
   "source": [
    "tableData.add_row(['TF-IDF', \"l1\", 0.01, aucTest])\n"
   ]
  },
  {
   "cell_type": "markdown",
   "metadata": {},
   "source": [
    "### [5.2.2] Applying Logistic Regression with L2 regularization on TFIDF,<font color='red'> SET 2</font>"
   ]
  },
  {
   "cell_type": "code",
   "execution_count": 112,
   "metadata": {},
   "outputs": [],
   "source": [
    "# Please write all the code with proper documentation\n",
    "# Please write all the code with proper documentation\n",
    "aucTrain = [ x for x in range(9)]\n",
    "aucCv = [ x for x in range(9)]\n",
    "lambdaValues = [10**-4, 10**-3, 10**-2, 10**-1, 10**0, 10**1, 10**2, 10**3, 10**4]\n",
    "j = 0"
   ]
  },
  {
   "cell_type": "code",
   "execution_count": 113,
   "metadata": {},
   "outputs": [
    {
     "name": "stdout",
     "output_type": "stream",
     "text": [
      "0.0001  lambda iteration done\n",
      "0.001  lambda iteration done\n",
      "0.01  lambda iteration done\n",
      "0.1  lambda iteration done\n",
      "1  lambda iteration done\n",
      "10  lambda iteration done\n",
      "100  lambda iteration done\n",
      "1000  lambda iteration done\n",
      "10000  lambda iteration done\n"
     ]
    }
   ],
   "source": [
    "# Please write all the code with proper documentation\n",
    "for lam in lambdaValues:\n",
    "    lr = LogisticRegression(penalty = 'l2', C = lam)\n",
    "    lr.fit(tfTrain, y_tr)\n",
    "    predTrain = lr.predict_proba(tfTrain)\n",
    "    \n",
    "    fpr, tpr, thresholds = metrics.roc_curve(y_tr, predTrain[:,1])\n",
    "    aucTrain[j] = metrics.auc(fpr, tpr)\n",
    "    \n",
    "    predCv = lr.predict_proba(tfCv)\n",
    "    \n",
    "    fpr, tpr, thresholds = metrics.roc_curve(y_cv, predCv[:,1])\n",
    "    aucCv[j] = metrics.auc(fpr, tpr)\n",
    "    j += 1\n",
    "    print(lam, \" lambda iteration done\")"
   ]
  },
  {
   "cell_type": "code",
   "execution_count": 115,
   "metadata": {},
   "outputs": [
    {
     "data": {
      "image/png": "[encoded data removed]",
      "text/plain": [
       "<Figure size 432x288 with 1 Axes>"
      ]
     },
     "metadata": {},
     "output_type": "display_data"
    }
   ],
   "source": [
    "plt.plot(lambdaValues,aucTrain, label='train Auc')\n",
    "plt.plot(lambdaValues, aucCv, label='Validation Auc')\n",
    "plt.xlabel('Hyper Parameter')\n",
    "plt.ylabel('Area under ROC Curve')\n",
    "plt.grid()\n",
    "plt.legend()\n",
    "plt.show()\n"
   ]
  },
  {
   "cell_type": "code",
   "execution_count": 118,
   "metadata": {},
   "outputs": [
    {
     "data": {
      "text/plain": [
       "[0.9322721962425556,\n",
       " 0.9377163458699711,\n",
       " 0.928125432612519,\n",
       " 0.9182816671413235,\n",
       " 0.9130931371802375,\n",
       " 0.9103423843750387,\n",
       " 0.9090192779690853,\n",
       " 0.9077039669066751,\n",
       " 0.9076278830861557]"
      ]
     },
     "execution_count": 118,
     "metadata": {},
     "output_type": "execute_result"
    }
   ],
   "source": [
    "aucCv"
   ]
  },
  {
   "cell_type": "markdown",
   "metadata": {},
   "source": [
    "## Observation \n",
    "for c = 0.001 we get maximum AUC for CV dataset"
   ]
  },
  {
   "cell_type": "code",
   "execution_count": 119,
   "metadata": {},
   "outputs": [
    {
     "data": {
      "text/plain": [
       "0.9413066526412319"
      ]
     },
     "execution_count": 119,
     "metadata": {},
     "output_type": "execute_result"
    }
   ],
   "source": [
    "lrTf = LogisticRegression(penalty = 'l2', C = 0.001)\n",
    "# train model knn with respect to ooptimalK\n",
    "lrTf.fit(tfTrain, y_tr)\n",
    "\n",
    "predTrain = lrTf.predict_proba(tfTrain)\n",
    "predTest = lrTf.predict_proba(tfTest)\n",
    "\n",
    "fpr1, tpr1, thresholds = metrics.roc_curve(y_tr, predTrain[:,1])\n",
    "aucTrain = metrics.auc(fpr1, tpr1)\n",
    "\n",
    "fpr2, tpr2, thresholds = metrics.roc_curve(y_test, predTest[:,1])\n",
    "aucTest = metrics.auc(fpr2, tpr2)\n",
    "    \n",
    "y_pred = lrTf.predict(tfTest)\n",
    "aucTest"
   ]
  },
  {
   "cell_type": "code",
   "execution_count": 120,
   "metadata": {},
   "outputs": [
    {
     "data": {
      "image/png": "[encoded data removed]",
      "text/plain": [
       "<Figure size 432x288 with 1 Axes>"
      ]
     },
     "metadata": {},
     "output_type": "display_data"
    },
    {
     "data": {
      "image/png": "[encoded data removed]",
      "text/plain": [
       "<Figure size 432x288 with 2 Axes>"
      ]
     },
     "metadata": {},
     "output_type": "display_data"
    }
   ],
   "source": [
    "# plot confusion matrix to describe the performance of classifier.\n",
    "\n",
    "plt.title(\"Roc Curve\")\n",
    "plt.plot(fpr1,tpr1,label=\"trainAuc\")\n",
    "plt.plot(fpr2,tpr2,label=\"testAuc\")\n",
    "plt.grid()\n",
    "plt.legend()\n",
    "plt.show()\n",
    "    \n",
    "# confusion matrix\n",
    "    \n",
    "cm = confusion_matrix(y_test, y_pred)\n",
    "class_label = [\"negative\", \"positive\"]\n",
    "df_cm = pd.DataFrame(cm, index = class_label, columns = class_label)\n",
    "sns.heatmap(df_cm, annot = True, fmt = \"d\")\n",
    "plt.title(\"Confusiion Matrix\")\n",
    "plt.xlabel(\"Predicted Label\")\n",
    "plt.ylabel(\"True Label\")\n",
    "plt.show()\n",
    "\n"
   ]
  },
  {
   "cell_type": "code",
   "execution_count": 121,
   "metadata": {},
   "outputs": [],
   "source": [
    "tableData.add_row(['TF-IDF', \"l2\", 0.001, aucTest])\n"
   ]
  },
  {
   "cell_type": "markdown",
   "metadata": {},
   "source": [
    "### [5.2.3] Feature Importance on TFIDF,<font color='red'> SET 2</font>"
   ]
  },
  {
   "cell_type": "code",
   "execution_count": 124,
   "metadata": {},
   "outputs": [
    {
     "data": {
      "text/plain": [
       "(1, 5000)"
      ]
     },
     "execution_count": 124,
     "metadata": {},
     "output_type": "execute_result"
    }
   ],
   "source": [
    "# Please write all the code with proper documentation\n",
    "weights = lrTf.coef_\n",
    "weights.shape"
   ]
  },
  {
   "cell_type": "code",
   "execution_count": 125,
   "metadata": {},
   "outputs": [],
   "source": [
    "tfData = pd.DataFrame({\"features\":tf_idf_vect.get_feature_names(), \"Weights\": weights[0]})\n",
    "#sorting the weights\n",
    "features = tfData.sort_values(\"Weights\", ascending = False)"
   ]
  },
  {
   "cell_type": "markdown",
   "metadata": {},
   "source": [
    "#### [5.2.3.1] Top 10 important features of positive class from<font color='red'> SET 2</font>"
   ]
  },
  {
   "cell_type": "code",
   "execution_count": 126,
   "metadata": {},
   "outputs": [
    {
     "data": {
      "text/html": [
       "<div>\n",
       "<style scoped>\n",
       "    .dataframe tbody tr th:only-of-type {\n",
       "        vertical-align: middle;\n",
       "    }\n",
       "\n",
       "    .dataframe tbody tr th {\n",
       "        vertical-align: top;\n",
       "    }\n",
       "\n",
       "    .dataframe thead th {\n",
       "        text-align: right;\n",
       "    }\n",
       "</style>\n",
       "<table border=\"1\" class=\"dataframe\">\n",
       "  <thead>\n",
       "    <tr style=\"text-align: right;\">\n",
       "      <th></th>\n",
       "      <th>features</th>\n",
       "      <th>Weights</th>\n",
       "    </tr>\n",
       "  </thead>\n",
       "  <tbody>\n",
       "    <tr>\n",
       "      <th>1946</th>\n",
       "      <td>great</td>\n",
       "      <td>0.331643</td>\n",
       "    </tr>\n",
       "    <tr>\n",
       "      <th>2604</th>\n",
       "      <td>love</td>\n",
       "      <td>0.272972</td>\n",
       "    </tr>\n",
       "    <tr>\n",
       "      <th>346</th>\n",
       "      <td>best</td>\n",
       "      <td>0.257863</td>\n",
       "    </tr>\n",
       "    <tr>\n",
       "      <th>1041</th>\n",
       "      <td>delici</td>\n",
       "      <td>0.230209</td>\n",
       "    </tr>\n",
       "    <tr>\n",
       "      <th>1851</th>\n",
       "      <td>good</td>\n",
       "      <td>0.207608</td>\n",
       "    </tr>\n",
       "    <tr>\n",
       "      <th>3217</th>\n",
       "      <td>perfect</td>\n",
       "      <td>0.185469</td>\n",
       "    </tr>\n",
       "    <tr>\n",
       "      <th>1400</th>\n",
       "      <td>excel</td>\n",
       "      <td>0.182986</td>\n",
       "    </tr>\n",
       "    <tr>\n",
       "      <th>2957</th>\n",
       "      <td>nice</td>\n",
       "      <td>0.156814</td>\n",
       "    </tr>\n",
       "    <tr>\n",
       "      <th>4878</th>\n",
       "      <td>wonder</td>\n",
       "      <td>0.139451</td>\n",
       "    </tr>\n",
       "    <tr>\n",
       "      <th>2122</th>\n",
       "      <td>high recommend</td>\n",
       "      <td>0.139252</td>\n",
       "    </tr>\n",
       "  </tbody>\n",
       "</table>\n",
       "</div>"
      ],
      "text/plain": [
       "            features   Weights\n",
       "1946           great  0.331643\n",
       "2604            love  0.272972\n",
       "346             best  0.257863\n",
       "1041          delici  0.230209\n",
       "1851            good  0.207608\n",
       "3217         perfect  0.185469\n",
       "1400           excel  0.182986\n",
       "2957            nice  0.156814\n",
       "4878          wonder  0.139451\n",
       "2122  high recommend  0.139252"
      ]
     },
     "execution_count": 126,
     "metadata": {},
     "output_type": "execute_result"
    }
   ],
   "source": [
    "#TOP  10  POSITIVE features\n",
    "features.head(10)"
   ]
  },
  {
   "cell_type": "markdown",
   "metadata": {},
   "source": [
    "#### [5.2.3.2] Top 10 important features of negative class from<font color='red'> SET 2</font>"
   ]
  },
  {
   "cell_type": "code",
   "execution_count": 127,
   "metadata": {
    "scrolled": true
   },
   "outputs": [
    {
     "data": {
      "text/html": [
       "<div>\n",
       "<style scoped>\n",
       "    .dataframe tbody tr th:only-of-type {\n",
       "        vertical-align: middle;\n",
       "    }\n",
       "\n",
       "    .dataframe tbody tr th {\n",
       "        vertical-align: top;\n",
       "    }\n",
       "\n",
       "    .dataframe thead th {\n",
       "        text-align: right;\n",
       "    }\n",
       "</style>\n",
       "<table border=\"1\" class=\"dataframe\">\n",
       "  <thead>\n",
       "    <tr style=\"text-align: right;\">\n",
       "      <th></th>\n",
       "      <th>features</th>\n",
       "      <th>Weights</th>\n",
       "    </tr>\n",
       "  </thead>\n",
       "  <tbody>\n",
       "    <tr>\n",
       "      <th>2745</th>\n",
       "      <td>mayb</td>\n",
       "      <td>-0.091778</td>\n",
       "    </tr>\n",
       "    <tr>\n",
       "      <th>4632</th>\n",
       "      <td>unfortun</td>\n",
       "      <td>-0.096128</td>\n",
       "    </tr>\n",
       "    <tr>\n",
       "      <th>4450</th>\n",
       "      <td>threw</td>\n",
       "      <td>-0.098321</td>\n",
       "    </tr>\n",
       "    <tr>\n",
       "      <th>3635</th>\n",
       "      <td>return</td>\n",
       "      <td>-0.099388</td>\n",
       "    </tr>\n",
       "    <tr>\n",
       "      <th>2150</th>\n",
       "      <td>horribl</td>\n",
       "      <td>-0.104851</td>\n",
       "    </tr>\n",
       "    <tr>\n",
       "      <th>258</th>\n",
       "      <td>aw</td>\n",
       "      <td>-0.106565</td>\n",
       "    </tr>\n",
       "    <tr>\n",
       "      <th>408</th>\n",
       "      <td>bland</td>\n",
       "      <td>-0.114569</td>\n",
       "    </tr>\n",
       "    <tr>\n",
       "      <th>4393</th>\n",
       "      <td>terribl</td>\n",
       "      <td>-0.123794</td>\n",
       "    </tr>\n",
       "    <tr>\n",
       "      <th>4903</th>\n",
       "      <td>worst</td>\n",
       "      <td>-0.169156</td>\n",
       "    </tr>\n",
       "    <tr>\n",
       "      <th>1120</th>\n",
       "      <td>disappoint</td>\n",
       "      <td>-0.207462</td>\n",
       "    </tr>\n",
       "  </tbody>\n",
       "</table>\n",
       "</div>"
      ],
      "text/plain": [
       "        features   Weights\n",
       "2745        mayb -0.091778\n",
       "4632    unfortun -0.096128\n",
       "4450       threw -0.098321\n",
       "3635      return -0.099388\n",
       "2150     horribl -0.104851\n",
       "258           aw -0.106565\n",
       "408        bland -0.114569\n",
       "4393     terribl -0.123794\n",
       "4903       worst -0.169156\n",
       "1120  disappoint -0.207462"
      ]
     },
     "execution_count": 127,
     "metadata": {},
     "output_type": "execute_result"
    }
   ],
   "source": [
    "features.tail(10)"
   ]
  },
  {
   "cell_type": "markdown",
   "metadata": {},
   "source": [
    "## [5.3] Logistic Regression on AVG W2V,<font color='red'> SET 3</font>"
   ]
  },
  {
   "cell_type": "markdown",
   "metadata": {},
   "source": [
    "### [5.3.1] Applying Logistic Regression with L1 regularization on AVG W2V<font color='red'> SET 3</font>"
   ]
  },
  {
   "cell_type": "code",
   "execution_count": 128,
   "metadata": {},
   "outputs": [],
   "source": [
    "# Please write all the code with proper documentation\n",
    "# Please write all the code with proper documentation\n",
    "aucTrain = [ x for x in range(9)]\n",
    "aucCv = [ x for x in range(9)]\n",
    "lambdaValues = [10**-4, 10**-3, 10**-2, 10**-1, 10**0, 10**1, 10**2, 10**3, 10**4]\n",
    "j = 0"
   ]
  },
  {
   "cell_type": "code",
   "execution_count": 129,
   "metadata": {},
   "outputs": [
    {
     "name": "stdout",
     "output_type": "stream",
     "text": [
      "0.0001  lambda iteration done\n",
      "0.001  lambda iteration done\n",
      "0.01  lambda iteration done\n",
      "0.1  lambda iteration done\n",
      "1  lambda iteration done\n",
      "10  lambda iteration done\n",
      "100  lambda iteration done\n",
      "1000  lambda iteration done\n",
      "10000  lambda iteration done\n"
     ]
    }
   ],
   "source": [
    "# Please write all the code with proper \n",
    "for lam in lambdaValues:\n",
    "    lr = LogisticRegression(penalty = 'l1', C = lam)\n",
    "    lr.fit(avgTrain, y_tr)\n",
    "    predTrain = lr.predict_proba(avgTrain)\n",
    "    \n",
    "    fpr, tpr, thresholds = metrics.roc_curve(y_tr, predTrain[:,1])\n",
    "    aucTrain[j] = metrics.auc(fpr, tpr)\n",
    "    \n",
    "    predCv = lr.predict_proba(avgCv)\n",
    "    \n",
    "    fpr, tpr, thresholds = metrics.roc_curve(y_cv, predCv[:,1])\n",
    "    aucCv[j] = metrics.auc(fpr, tpr)\n",
    "    j += 1\n",
    "    print(lam, \" lambda iteration done\")"
   ]
  },
  {
   "cell_type": "code",
   "execution_count": 132,
   "metadata": {},
   "outputs": [
    {
     "data": {
      "image/png": "[encoded data removed]",
      "text/plain": [
       "<Figure size 432x288 with 1 Axes>"
      ]
     },
     "metadata": {},
     "output_type": "display_data"
    }
   ],
   "source": [
    "plt.plot(lambdaValues,aucTrain, label='train Auc')\n",
    "plt.plot(lambdaValues, aucCv, label='Validation Auc')\n",
    "plt.xlabel('Hyper Parameter')\n",
    "plt.ylabel('Area under ROC Curve')\n",
    "plt.grid()\n",
    "plt.legend()\n",
    "plt.show()\n"
   ]
  },
  {
   "cell_type": "code",
   "execution_count": 133,
   "metadata": {},
   "outputs": [
    {
     "data": {
      "text/plain": [
       "[0.6264635519839878,\n",
       " 0.8674486544064575,\n",
       " 0.8977879835983438,\n",
       " 0.8979661779690452,\n",
       " 0.8981983271023751,\n",
       " 0.8982139389150542,\n",
       " 0.8982529790095481,\n",
       " 0.898255091568774,\n",
       " 0.8982527255024412]"
      ]
     },
     "execution_count": 133,
     "metadata": {},
     "output_type": "execute_result"
    }
   ],
   "source": [
    "aucCv"
   ]
  },
  {
   "cell_type": "markdown",
   "metadata": {},
   "source": [
    "## Observation \n",
    "for c = 1000 we get maximum AUC for CV dataset"
   ]
  },
  {
   "cell_type": "code",
   "execution_count": 134,
   "metadata": {},
   "outputs": [
    {
     "data": {
      "text/plain": [
       "0.8954719423878302"
      ]
     },
     "execution_count": 134,
     "metadata": {},
     "output_type": "execute_result"
    }
   ],
   "source": [
    "lrAvg = LogisticRegression(penalty = 'l1', C = 1000)\n",
    "# train model knn with respect to ooptimalK\n",
    "lrAvg.fit(avgTrain, y_tr)\n",
    "\n",
    "predTrain = lrAvg.predict_proba(avgTrain)\n",
    "predTest = lrAvg.predict_proba(avgTest)\n",
    "\n",
    "fpr1, tpr1, thresholds = metrics.roc_curve(y_tr, predTrain[:,1])\n",
    "aucTrain = metrics.auc(fpr1, tpr1)\n",
    "\n",
    "fpr2, tpr2, thresholds = metrics.roc_curve(y_test, predTest[:,1])\n",
    "aucTest = metrics.auc(fpr2, tpr2)\n",
    "\n",
    "y_pred = lrAvg.predict(avgTest)\n",
    "\n",
    "aucTest"
   ]
  },
  {
   "cell_type": "code",
   "execution_count": 136,
   "metadata": {},
   "outputs": [
    {
     "data": {
      "image/png": "[encoded data removed]",
      "text/plain": [
       "<Figure size 432x288 with 1 Axes>"
      ]
     },
     "metadata": {},
     "output_type": "display_data"
    },
    {
     "data": {
      "image/png": "[encoded data removed]",
      "text/plain": [
       "<Figure size 432x288 with 2 Axes>"
      ]
     },
     "metadata": {},
     "output_type": "display_data"
    }
   ],
   "source": [
    "# plot confusion matrix to describe the performance of classifier.\n",
    "\n",
    "plt.title(\"Roc Curve\")\n",
    "plt.plot(fpr1,tpr1,label=\"trainAuc\")\n",
    "plt.plot(fpr2,tpr2,label=\"testAuc\")\n",
    "plt.grid()\n",
    "plt.legend()\n",
    "plt.show()\n",
    "    \n",
    "# confusion matrix\n",
    "    \n",
    "cm = confusion_matrix(y_test, y_pred)\n",
    "class_label = [\"negative\", \"positive\"]\n",
    "df_cm = pd.DataFrame(cm, index = class_label, columns = class_label)\n",
    "sns.heatmap(df_cm, annot = True, fmt = \"d\")\n",
    "plt.title(\"Confusiion Matrix\")\n",
    "plt.xlabel(\"Predicted Label\")\n",
    "plt.ylabel(\"True Label\")\n",
    "plt.show()\n"
   ]
  },
  {
   "cell_type": "code",
   "execution_count": 137,
   "metadata": {},
   "outputs": [],
   "source": [
    "tableData.add_row(['Avg W2v', \"l1\", 1000, aucTest])"
   ]
  },
  {
   "cell_type": "markdown",
   "metadata": {},
   "source": [
    "### [5.3.2] Applying Logistic Regression with L2 regularization on AVG W2V,<font color='red'> SET 3</font>"
   ]
  },
  {
   "cell_type": "code",
   "execution_count": 139,
   "metadata": {},
   "outputs": [],
   "source": [
    "# Please write all the code with proper documentation\n",
    "aucTrain = [ x for x in range(9)]\n",
    "aucCv = [ x for x in range(9)]\n",
    "lambdaValues = [10**-4, 10**-3, 10**-2, 10**-1, 10**0, 10**1, 10**2, 10**3, 10**4]\n",
    "j = 0"
   ]
  },
  {
   "cell_type": "code",
   "execution_count": 140,
   "metadata": {},
   "outputs": [
    {
     "name": "stdout",
     "output_type": "stream",
     "text": [
      "0.0001  lambda iteration done\n",
      "0.001  lambda iteration done\n",
      "0.01  lambda iteration done\n",
      "0.1  lambda iteration done\n",
      "1  lambda iteration done\n",
      "10  lambda iteration done\n",
      "100  lambda iteration done\n",
      "1000  lambda iteration done\n",
      "10000  lambda iteration done\n"
     ]
    }
   ],
   "source": [
    "# Please write all the code with proper \n",
    "for lam in lambdaValues:\n",
    "    lr = LogisticRegression(penalty = 'l2', C = lam)\n",
    "    lr.fit(avgTrain, y_tr)\n",
    "    predTrain = lr.predict_proba(avgTrain)\n",
    "    \n",
    "    fpr, tpr, thresholds = metrics.roc_curve(y_tr, predTrain[:,1])\n",
    "    aucTrain[j] = metrics.auc(fpr, tpr)\n",
    "    \n",
    "    predCv = lr.predict_proba(avgCv)\n",
    "    \n",
    "    fpr, tpr, thresholds = metrics.roc_curve(y_cv, predCv[:,1])\n",
    "    aucCv[j] = metrics.auc(fpr, tpr)\n",
    "    j += 1\n",
    "    print(lam, \" lambda iteration done\")"
   ]
  },
  {
   "cell_type": "code",
   "execution_count": 142,
   "metadata": {},
   "outputs": [
    {
     "data": {
      "image/png": "[encoded data removed]",
      "text/plain": [
       "<Figure size 432x288 with 1 Axes>"
      ]
     },
     "metadata": {},
     "output_type": "display_data"
    }
   ],
   "source": [
    "plt.plot(lambdaValues,aucTrain, label='train Auc')\n",
    "plt.plot(lambdaValues, aucCv, label='Validation Auc')\n",
    "plt.xlabel('Hyper Parameter')\n",
    "plt.ylabel('Area under ROC Curve')\n",
    "plt.grid()\n",
    "plt.legend()\n",
    "plt.show()\n"
   ]
  },
  {
   "cell_type": "code",
   "execution_count": 143,
   "metadata": {},
   "outputs": [
    {
     "data": {
      "text/plain": [
       "[0.8759024404094047,\n",
       " 0.8968462680722312,\n",
       " 0.8979480522108871,\n",
       " 0.8980360825538289,\n",
       " 0.898225114353359,\n",
       " 0.8982612813673058,\n",
       " 0.8982648515923974,\n",
       " 0.8982584505379431,\n",
       " 0.8982646614620672]"
      ]
     },
     "execution_count": 143,
     "metadata": {},
     "output_type": "execute_result"
    }
   ],
   "source": [
    "aucCv"
   ]
  },
  {
   "cell_type": "markdown",
   "metadata": {},
   "source": [
    "## Observation \n",
    "for c = 100 we get maximum AUC for CV dataset"
   ]
  },
  {
   "cell_type": "code",
   "execution_count": 145,
   "metadata": {},
   "outputs": [
    {
     "data": {
      "text/plain": [
       "0.895484414235816"
      ]
     },
     "execution_count": 145,
     "metadata": {},
     "output_type": "execute_result"
    }
   ],
   "source": [
    "lrAvg = LogisticRegression(penalty = 'l2', C = 100)\n",
    "# train model knn with respect to ooptimalK\n",
    "lrAvg.fit(avgTrain, y_tr)\n",
    "\n",
    "predTrain = lrAvg.predict_proba(avgTrain)\n",
    "predTest = lrAvg.predict_proba(avgTest)\n",
    "\n",
    "fpr1, tpr1, thresholds = metrics.roc_curve(y_tr, predTrain[:,1])\n",
    "aucTrain = metrics.auc(fpr1, tpr1)\n",
    "\n",
    "fpr2, tpr2, thresholds = metrics.roc_curve(y_test, predTest[:,1])\n",
    "aucTest = metrics.auc(fpr2, tpr2)\n",
    "    \n",
    "y_pred = lrAvg.predict(avgTest)\n",
    "\n",
    "aucTest"
   ]
  },
  {
   "cell_type": "code",
   "execution_count": 146,
   "metadata": {},
   "outputs": [
    {
     "data": {
      "image/png": "[encoded data removed]",
      "text/plain": [
       "<Figure size 432x288 with 1 Axes>"
      ]
     },
     "metadata": {},
     "output_type": "display_data"
    },
    {
     "data": {
      "image/png": "[encoded data removed]",
      "text/plain": [
       "<Figure size 432x288 with 2 Axes>"
      ]
     },
     "metadata": {},
     "output_type": "display_data"
    }
   ],
   "source": [
    "# plot confusion matrix to describe the performance of classifier.\n",
    "\n",
    "plt.title(\"Roc Curve\")\n",
    "plt.plot(fpr1,tpr1,label=\"trainAuc\")\n",
    "plt.plot(fpr2,tpr2,label=\"testAuc\")\n",
    "plt.grid()\n",
    "plt.legend()\n",
    "plt.show()\n",
    "    \n",
    "# confusion matrix\n",
    "    \n",
    "cm = confusion_matrix(y_test, y_pred)\n",
    "class_label = [\"negative\", \"positive\"]\n",
    "df_cm = pd.DataFrame(cm, index = class_label, columns = class_label)\n",
    "sns.heatmap(df_cm, annot = True, fmt = \"d\")\n",
    "plt.title(\"Confusiion Matrix\")\n",
    "plt.xlabel(\"Predicted Label\")\n",
    "plt.ylabel(\"True Label\")\n",
    "plt.show()\n",
    "\n"
   ]
  },
  {
   "cell_type": "code",
   "execution_count": 147,
   "metadata": {},
   "outputs": [],
   "source": [
    "tableData.add_row(['Avg W2v', \"l2\", 100, aucTest])\n"
   ]
  },
  {
   "cell_type": "markdown",
   "metadata": {},
   "source": [
    "## [5.4] Logistic Regression on TFIDF W2V,<font color='red'> SET 4</font>"
   ]
  },
  {
   "cell_type": "markdown",
   "metadata": {},
   "source": [
    "### [5.4.1] Applying Logistic Regression with L1 regularization on TFIDF W2V,<font color='red'> SET 4</font>"
   ]
  },
  {
   "cell_type": "code",
   "execution_count": 149,
   "metadata": {},
   "outputs": [],
   "source": [
    "# Please write all the code with proper documentation\n",
    "aucTrain = [ x for x in range(9)]\n",
    "aucCv = [ x for x in range(9)]\n",
    "lambdaValues = [10**-4, 10**-3, 10**-2, 10**-1, 10**0, 10**1, 10**2, 10**3, 10**4]\n",
    "j = 0"
   ]
  },
  {
   "cell_type": "code",
   "execution_count": 150,
   "metadata": {},
   "outputs": [
    {
     "name": "stdout",
     "output_type": "stream",
     "text": [
      "0.0001  lambda iteration done\n",
      "0.001  lambda iteration done\n",
      "0.01  lambda iteration done\n",
      "0.1  lambda iteration done\n",
      "1  lambda iteration done\n",
      "10  lambda iteration done\n",
      "100  lambda iteration done\n",
      "1000  lambda iteration done\n",
      "10000  lambda iteration done\n"
     ]
    }
   ],
   "source": [
    "# Please write all the code with proper \n",
    "for lam in lambdaValues:\n",
    "    lr = LogisticRegression(penalty = 'l1', C = lam)\n",
    "    lr.fit(tfAvgTrain, y_tr)\n",
    "    predTrain = lr.predict_proba(tfAvgTrain)\n",
    "    \n",
    "    fpr, tpr, thresholds = metrics.roc_curve(y_tr, predTrain[:,1])\n",
    "    aucTrain[j] = metrics.auc(fpr, tpr)\n",
    "    \n",
    "    predCv = lr.predict_proba(tfAvgCv)\n",
    "    \n",
    "    fpr, tpr, thresholds = metrics.roc_curve(y_cv, predCv[:,1])\n",
    "    aucCv[j] = metrics.auc(fpr, tpr)\n",
    "    j += 1\n",
    "    print(lam, \" lambda iteration done\")"
   ]
  },
  {
   "cell_type": "code",
   "execution_count": 152,
   "metadata": {},
   "outputs": [
    {
     "data": {
      "image/png": "[encoded data removed]",
      "text/plain": [
       "<Figure size 432x288 with 1 Axes>"
      ]
     },
     "metadata": {},
     "output_type": "display_data"
    }
   ],
   "source": [
    "plt.plot(lambdaValues,aucTrain, label='train Auc')\n",
    "plt.plot(lambdaValues, aucCv, label='Validation Auc')\n",
    "plt.xlabel('Hyper Parameter')\n",
    "plt.ylabel('Area under ROC Curve')\n",
    "plt.grid()\n",
    "plt.legend()\n",
    "plt.show()\n"
   ]
  },
  {
   "cell_type": "code",
   "execution_count": 153,
   "metadata": {},
   "outputs": [
    {
     "data": {
      "text/plain": [
       "[0.5, 0.5, 0.5, 0.5, 0.5, 0.5, 0.5, 0.5, 0.5]"
      ]
     },
     "execution_count": 153,
     "metadata": {},
     "output_type": "execute_result"
    }
   ],
   "source": [
    "aucCv"
   ]
  },
  {
   "cell_type": "markdown",
   "metadata": {},
   "source": [
    "### Observation \n",
    "nothing is concluded"
   ]
  },
  {
   "cell_type": "code",
   "execution_count": 156,
   "metadata": {},
   "outputs": [],
   "source": [
    "lrTfW2v = LogisticRegression(penalty = 'l1', C = 1)\n",
    "# train model knn with respect to ooptimalK\n",
    "lrTfW2v.fit(tfAvgTrain, y_tr)\n",
    "\n",
    "predTrain = lrTfW2v.predict_proba(tfAvgTrain)\n",
    "predTest = lrTfW2v.predict_proba(tfAvgTest)\n",
    "\n",
    "fpr1, tpr1, thresholds = metrics.roc_curve(y_tr, predTrain[:,1])\n",
    "aucTrain = metrics.auc(fpr1, tpr1)\n",
    "\n",
    "fpr2, tpr2, thresholds = metrics.roc_curve(y_test, predTest[:,1])\n",
    "aucTest = metrics.auc(fpr2, tpr2)\n",
    "\n",
    "y_pred = lrTfW2v.predict(tfAvgTest)\n",
    "\n"
   ]
  },
  {
   "cell_type": "code",
   "execution_count": 157,
   "metadata": {},
   "outputs": [
    {
     "data": {
      "image/png": "[encoded data removed]",
      "text/plain": [
       "<Figure size 432x288 with 1 Axes>"
      ]
     },
     "metadata": {},
     "output_type": "display_data"
    },
    {
     "data": {
      "image/png": "[encoded data removed]",
      "text/plain": [
       "<Figure size 432x288 with 2 Axes>"
      ]
     },
     "metadata": {},
     "output_type": "display_data"
    }
   ],
   "source": [
    "# plot confusion matrix to describe the performance of classifier.\n",
    "\n",
    "plt.title(\"Roc Curve\")\n",
    "plt.plot(fpr1,tpr1,label=\"trainAuc\")\n",
    "plt.plot(fpr2,tpr2,label=\"testAuc\")\n",
    "plt.grid()\n",
    "plt.legend()\n",
    "plt.show()\n",
    "    \n",
    "# confusion matrix\n",
    "    \n",
    "cm = confusion_matrix(y_test, y_pred)\n",
    "class_label = [\"negative\", \"positive\"]\n",
    "df_cm = pd.DataFrame(cm, index = class_label, columns = class_label)\n",
    "sns.heatmap(df_cm, annot = True, fmt = \"d\")\n",
    "plt.title(\"Confusiion Matrix\")\n",
    "plt.xlabel(\"Predicted Label\")\n",
    "plt.ylabel(\"True Label\")\n",
    "plt.show()\n",
    "\n"
   ]
  },
  {
   "cell_type": "code",
   "execution_count": 160,
   "metadata": {},
   "outputs": [],
   "source": [
    "tableData.add_row(['Tfidf W2v', \"l1\", 1, aucTest])\n"
   ]
  },
  {
   "cell_type": "code",
   "execution_count": 161,
   "metadata": {},
   "outputs": [
    {
     "name": "stdout",
     "output_type": "stream",
     "text": [
      "+------------+---------+--------+--------------------+\n",
      "| Vectorizer | penalty | lambda |        AUC         |\n",
      "+------------+---------+--------+--------------------+\n",
      "|    BOW     |    l1   |  0.01  | 0.9283537214602635 |\n",
      "|    BOW     |    l2   |  0.01  | 0.8979192404687732 |\n",
      "|    BOW     |    l2   | 0.001  | 0.9168818977491875 |\n",
      "|   TF-IDF   |    l1   |  0.01  | 0.9430637159310056 |\n",
      "|   TF-IDF   |    l2   | 0.001  | 0.9413066526412319 |\n",
      "|  Avg W2v   |    l1   |  1000  | 0.8954719423878302 |\n",
      "|  Avg W2v   |    l2   |  100   | 0.895484414235816  |\n",
      "| Tfidf W2v  |    l1   |   1    |        0.5         |\n",
      "+------------+---------+--------+--------------------+\n"
     ]
    }
   ],
   "source": [
    "print(tableData)"
   ]
  },
  {
   "cell_type": "markdown",
   "metadata": {},
   "source": [
    "### [5.4.2] Applying Logistic Regression with L2 regularization on TFIDF W2V,<font color='red'> SET 4</font>"
   ]
  },
  {
   "cell_type": "code",
   "execution_count": 162,
   "metadata": {},
   "outputs": [],
   "source": [
    "# Please write all the code with proper documentation\n",
    "aucTrain = [ x for x in range(9)]\n",
    "aucCv = [ x for x in range(9)]\n",
    "lambdaValues = [10**-4, 10**-3, 10**-2, 10**-1, 10**0, 10**1, 10**2, 10**3, 10**4]\n",
    "j = 0"
   ]
  },
  {
   "cell_type": "code",
   "execution_count": 164,
   "metadata": {},
   "outputs": [
    {
     "name": "stdout",
     "output_type": "stream",
     "text": [
      "0.0001  lambda iteration done\n",
      "0.001  lambda iteration done\n",
      "0.01  lambda iteration done\n",
      "0.1  lambda iteration done\n",
      "1  lambda iteration done\n",
      "10  lambda iteration done\n",
      "100  lambda iteration done\n",
      "1000  lambda iteration done\n",
      "10000  lambda iteration done\n"
     ]
    }
   ],
   "source": [
    "# Please write all the code with proper \n",
    "for lam in lambdaValues:\n",
    "    lr = LogisticRegression(penalty = 'l2', C = lam)\n",
    "    lr.fit(tfAvgTrain, y_tr)\n",
    "    predTrain = lr.predict_proba(tfAvgTrain)\n",
    "    \n",
    "    fpr, tpr, thresholds = metrics.roc_curve(y_tr, predTrain[:,1])\n",
    "    aucTrain[j] = metrics.auc(fpr, tpr)\n",
    "    \n",
    "    predCv = lr.predict_proba(tfAvgCv)\n",
    "    \n",
    "    fpr, tpr, thresholds = metrics.roc_curve(y_cv, predCv[:,1])\n",
    "    aucCv[j] = metrics.auc(fpr, tpr)\n",
    "    j += 1\n",
    "    print(lam, \" lambda iteration done\")"
   ]
  },
  {
   "cell_type": "code",
   "execution_count": 165,
   "metadata": {},
   "outputs": [
    {
     "data": {
      "image/png": "[encoded data removed]",
      "text/plain": [
       "<Figure size 432x288 with 1 Axes>"
      ]
     },
     "metadata": {},
     "output_type": "display_data"
    }
   ],
   "source": [
    "plt.plot(lambdaValues,aucTrain, label='train Auc')\n",
    "plt.plot(lambdaValues, aucCv, label='Validation Auc')\n",
    "plt.xlabel('Hyper Parameter')\n",
    "plt.ylabel('Area under ROC Curve')\n",
    "plt.grid()\n",
    "plt.legend()\n",
    "plt.show()\n"
   ]
  },
  {
   "cell_type": "code",
   "execution_count": 168,
   "metadata": {},
   "outputs": [],
   "source": [
    "lrTfW2v = LogisticRegression(penalty = 'l2', C = 1)\n",
    "# train model knn with respect to ooptimalK\n",
    "lrTfW2v.fit(tfAvgTrain, y_tr)\n",
    "\n",
    "predTrain = lrTfW2v.predict_proba(tfAvgTrain)\n",
    "predTest = lrTfW2v.predict_proba(tfAvgTest)\n",
    "\n",
    "fpr1, tpr1, thresholds = metrics.roc_curve(y_tr, predTrain[:,1])\n",
    "aucTrain = metrics.auc(fpr1, tpr1)\n",
    "\n",
    "fpr2, tpr2, thresholds = metrics.roc_curve(y_test, predTest[:,1])\n",
    "aucTest = metrics.auc(fpr2, tpr2)\n",
    "    \n",
    "y_pred = lrTfW2v.predict(tfAvgTest)\n"
   ]
  },
  {
   "cell_type": "code",
   "execution_count": 169,
   "metadata": {},
   "outputs": [
    {
     "data": {
      "image/png": "[encoded data removed]",
      "text/plain": [
       "<Figure size 432x288 with 1 Axes>"
      ]
     },
     "metadata": {},
     "output_type": "display_data"
    },
    {
     "ename": "ValueError",
     "evalue": "Classification metrics can't handle a mix of binary and continuous-multioutput targets",
     "output_type": "error",
     "traceback": [
      "\u001b[0;31m---------------------------------------------------------------------------\u001b[0m",
      "\u001b[0;31mValueError\u001b[0m                                Traceback (most recent call last)",
      "\u001b[0;32m<ipython-input-169-d7877449d944>\u001b[0m in \u001b[0;36m<module>\u001b[0;34m()\u001b[0m\n\u001b[1;32m     10\u001b[0m \u001b[0;31m# confusion matrix\u001b[0m\u001b[0;34m\u001b[0m\u001b[0;34m\u001b[0m\u001b[0m\n\u001b[1;32m     11\u001b[0m \u001b[0;34m\u001b[0m\u001b[0m\n\u001b[0;32m---> 12\u001b[0;31m \u001b[0mcm\u001b[0m \u001b[0;34m=\u001b[0m \u001b[0mconfusion_matrix\u001b[0m\u001b[0;34m(\u001b[0m\u001b[0my_test\u001b[0m\u001b[0;34m,\u001b[0m \u001b[0mpredTest\u001b[0m\u001b[0;34m)\u001b[0m\u001b[0;34m\u001b[0m\u001b[0m\n\u001b[0m\u001b[1;32m     13\u001b[0m \u001b[0mclass_label\u001b[0m \u001b[0;34m=\u001b[0m \u001b[0;34m[\u001b[0m\u001b[0;34m\"negative\"\u001b[0m\u001b[0;34m,\u001b[0m \u001b[0;34m\"positive\"\u001b[0m\u001b[0;34m]\u001b[0m\u001b[0;34m\u001b[0m\u001b[0m\n\u001b[1;32m     14\u001b[0m \u001b[0mdf_cm\u001b[0m \u001b[0;34m=\u001b[0m \u001b[0mpd\u001b[0m\u001b[0;34m.\u001b[0m\u001b[0mDataFrame\u001b[0m\u001b[0;34m(\u001b[0m\u001b[0mcm\u001b[0m\u001b[0;34m,\u001b[0m \u001b[0mindex\u001b[0m \u001b[0;34m=\u001b[0m \u001b[0mclass_label\u001b[0m\u001b[0;34m,\u001b[0m \u001b[0mcolumns\u001b[0m \u001b[0;34m=\u001b[0m \u001b[0mclass_label\u001b[0m\u001b[0;34m)\u001b[0m\u001b[0;34m\u001b[0m\u001b[0m\n",
      "\u001b[0;32m~/anaconda3/lib/python3.6/site-packages/sklearn/metrics/classification.py\u001b[0m in \u001b[0;36mconfusion_matrix\u001b[0;34m(y_true, y_pred, labels, sample_weight)\u001b[0m\n\u001b[1;32m    248\u001b[0m \u001b[0;34m\u001b[0m\u001b[0m\n\u001b[1;32m    249\u001b[0m     \"\"\"\n\u001b[0;32m--> 250\u001b[0;31m     \u001b[0my_type\u001b[0m\u001b[0;34m,\u001b[0m \u001b[0my_true\u001b[0m\u001b[0;34m,\u001b[0m \u001b[0my_pred\u001b[0m \u001b[0;34m=\u001b[0m \u001b[0m_check_targets\u001b[0m\u001b[0;34m(\u001b[0m\u001b[0my_true\u001b[0m\u001b[0;34m,\u001b[0m \u001b[0my_pred\u001b[0m\u001b[0;34m)\u001b[0m\u001b[0;34m\u001b[0m\u001b[0m\n\u001b[0m\u001b[1;32m    251\u001b[0m     \u001b[0;32mif\u001b[0m \u001b[0my_type\u001b[0m \u001b[0;32mnot\u001b[0m \u001b[0;32min\u001b[0m \u001b[0;34m(\u001b[0m\u001b[0;34m\"binary\"\u001b[0m\u001b[0;34m,\u001b[0m \u001b[0;34m\"multiclass\"\u001b[0m\u001b[0;34m)\u001b[0m\u001b[0;34m:\u001b[0m\u001b[0;34m\u001b[0m\u001b[0m\n\u001b[1;32m    252\u001b[0m         \u001b[0;32mraise\u001b[0m \u001b[0mValueError\u001b[0m\u001b[0;34m(\u001b[0m\u001b[0;34m\"%s is not supported\"\u001b[0m \u001b[0;34m%\u001b[0m \u001b[0my_type\u001b[0m\u001b[0;34m)\u001b[0m\u001b[0;34m\u001b[0m\u001b[0m\n",
      "\u001b[0;32m~/anaconda3/lib/python3.6/site-packages/sklearn/metrics/classification.py\u001b[0m in \u001b[0;36m_check_targets\u001b[0;34m(y_true, y_pred)\u001b[0m\n\u001b[1;32m     79\u001b[0m     \u001b[0;32mif\u001b[0m \u001b[0mlen\u001b[0m\u001b[0;34m(\u001b[0m\u001b[0my_type\u001b[0m\u001b[0;34m)\u001b[0m \u001b[0;34m>\u001b[0m \u001b[0;36m1\u001b[0m\u001b[0;34m:\u001b[0m\u001b[0;34m\u001b[0m\u001b[0m\n\u001b[1;32m     80\u001b[0m         raise ValueError(\"Classification metrics can't handle a mix of {0} \"\n\u001b[0;32m---> 81\u001b[0;31m                          \"and {1} targets\".format(type_true, type_pred))\n\u001b[0m\u001b[1;32m     82\u001b[0m \u001b[0;34m\u001b[0m\u001b[0m\n\u001b[1;32m     83\u001b[0m     \u001b[0;31m# We can't have more than one value on y_type => The set is no more needed\u001b[0m\u001b[0;34m\u001b[0m\u001b[0;34m\u001b[0m\u001b[0m\n",
      "\u001b[0;31mValueError\u001b[0m: Classification metrics can't handle a mix of binary and continuous-multioutput targets"
     ]
    }
   ],
   "source": [
    "# plot confusion matrix to describe the performance of classifier.\n",
    "\n",
    "plt.title(\"Roc Curve\")\n",
    "plt.plot(fpr1,tpr1,label=\"trainAuc\")\n",
    "plt.plot(tpr2,fpr2,label=\"testAuc\")\n",
    "plt.grid()\n",
    "plt.legend()\n",
    "plt.show()\n",
    "    \n",
    "# confusion matrix\n",
    "    \n",
    "cm = confusion_matrix(y_test, predTest)\n",
    "class_label = [\"negative\", \"positive\"]\n",
    "df_cm = pd.DataFrame(cm, index = class_label, columns = class_label)\n",
    "sns.heatmap(df_cm, annot = True, fmt = \"d\")\n",
    "plt.title(\"Confusiion Matrix\")\n",
    "plt.xlabel(\"Predicted Label\")\n",
    "plt.ylabel(\"True Label\")\n",
    "plt.show()\n",
    "\n",
    "score4 = metrics.roc_auc_score(y_test, y_pred)\n"
   ]
  },
  {
   "cell_type": "code",
   "execution_count": 172,
   "metadata": {},
   "outputs": [],
   "source": [
    "tableData.add_row(['Tfidf -W2v', \"l2\", 1, aucTest])\n"
   ]
  },
  {
   "cell_type": "markdown",
   "metadata": {},
   "source": [
    "# [6] Conclusions"
   ]
  },
  {
   "cell_type": "code",
   "execution_count": 176,
   "metadata": {},
   "outputs": [
    {
     "name": "stdout",
     "output_type": "stream",
     "text": [
      "+------------+---------+--------+--------------------+\n",
      "| Vectorizer | penalty | lambda |        AUC         |\n",
      "+------------+---------+--------+--------------------+\n",
      "|    BOW     |    l1   |  0.01  | 0.9283537214602635 |\n",
      "|    BOW     |    l2   | 0.001  | 0.9168818977491875 |\n",
      "|   TF-IDF   |    l1   |  0.01  | 0.9430637159310056 |\n",
      "|   TF-IDF   |    l2   | 0.001  | 0.9413066526412319 |\n",
      "|  Avg W2v   |    l1   |  1000  | 0.8954719423878302 |\n",
      "|  Avg W2v   |    l2   |  100   | 0.895484414235816  |\n",
      "| Tfidf W2v  |    l1   |   1    |        0.5         |\n",
      "| Tfidf W2v  |    l2   |   1    |        0.5         |\n",
      "+------------+---------+--------+--------------------+\n"
     ]
    }
   ],
   "source": [
    "# Please compare all your models using Prettytable library\n",
    "print(tableData)"
   ]
  },
  {
   "cell_type": "markdown",
   "metadata": {},
   "source": [
    "#### Observation\n",
    "For Tf-Idf with l1 regularizer and C = 0.01 we get the maximum efficiency"
   ]
  },
  {
   "cell_type": "code",
   "execution_count": null,
   "metadata": {},
   "outputs": [],
   "source": []
  }
 ],
 "metadata": {
  "kernelspec": {
   "display_name": "Python 3",
   "language": "python",
   "name": "python3"
  },
  "language_info": {
   "codemirror_mode": {
    "name": "ipython",
    "version": 3
   },
   "file_extension": ".py",
   "mimetype": "text/x-python",
   "name": "python",
   "nbconvert_exporter": "python",
   "pygments_lexer": "ipython3",
   "version": "3.6.5"
  }
 },
 "nbformat": 4,
 "nbformat_minor": 2
}
