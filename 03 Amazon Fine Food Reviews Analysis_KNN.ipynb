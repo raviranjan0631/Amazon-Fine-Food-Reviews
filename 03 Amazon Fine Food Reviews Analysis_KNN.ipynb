{
 "cells": [
  {
   "cell_type": "markdown",
   "metadata": {},
   "source": [
    "## [1.1] Loading the data\n",
    "\n",
    "The data is already preprocessed and stored in an sql formal "
   ]
  },
  {
   "cell_type": "code",
   "execution_count": 5,
   "metadata": {},
   "outputs": [],
   "source": [
    "%matplotlib inline\n",
    "import warnings\n",
    "warnings.filterwarnings(\"ignore\")\n",
    "from sklearn.neighbors import KNeighborsClassifier\n",
    "\n",
    "import sqlite3\n",
    "import pandas as pd\n",
    "import numpy as np\n",
    "import nltk\n",
    "import string\n",
    "import matplotlib.pyplot as plt\n",
    "import seaborn as sns\n",
    "from sklearn.feature_extraction.text import TfidfTransformer\n",
    "from sklearn.feature_extraction.text import TfidfVectorizer\n",
    "\n",
    "from sklearn.feature_extraction.text import CountVectorizer\n",
    "from sklearn.metrics import confusion_matrix\n",
    "from sklearn import metrics\n",
    "from sklearn.metrics import roc_curve, auc\n",
    "from nltk.stem.porter import PorterStemmer\n",
    "\n",
    "import re\n",
    "# Tutorial about Python regular expressions: https://pymotw.com/2/re/\n",
    "import string\n",
    "from nltk.corpus import stopwords\n",
    "from nltk.stem import PorterStemmer\n",
    "from nltk.stem.wordnet import WordNetLemmatizer\n",
    "\n",
    "from gensim.models import Word2Vec\n",
    "from gensim.models import KeyedVectors\n",
    "import pickle\n",
    "\n",
    "import os"
   ]
  },
  {
   "cell_type": "code",
   "execution_count": 6,
   "metadata": {},
   "outputs": [],
   "source": [
    "# # loading previous cleaned dataset\n",
    "import sqlite3\n",
    "con = sqlite3.connect(\"final.sqlite\")"
   ]
  },
  {
   "cell_type": "code",
   "execution_count": 12,
   "metadata": {},
   "outputs": [],
   "source": [
    "data = pd.read_sql_query(\"select * from Reviews\", con)"
   ]
  },
  {
   "cell_type": "code",
   "execution_count": 13,
   "metadata": {
    "scrolled": true
   },
   "outputs": [
    {
     "name": "stdout",
     "output_type": "stream",
     "text": [
      "(364171, 12)\n"
     ]
    },
    {
     "data": {
      "text/html": [
       "<div>\n",
       "<style scoped>\n",
       "    .dataframe tbody tr th:only-of-type {\n",
       "        vertical-align: middle;\n",
       "    }\n",
       "\n",
       "    .dataframe tbody tr th {\n",
       "        vertical-align: top;\n",
       "    }\n",
       "\n",
       "    .dataframe thead th {\n",
       "        text-align: right;\n",
       "    }\n",
       "</style>\n",
       "<table border=\"1\" class=\"dataframe\">\n",
       "  <thead>\n",
       "    <tr style=\"text-align: right;\">\n",
       "      <th></th>\n",
       "      <th>index</th>\n",
       "      <th>Id</th>\n",
       "      <th>ProductId</th>\n",
       "      <th>UserId</th>\n",
       "      <th>ProfileName</th>\n",
       "      <th>HelpfulnessNumerator</th>\n",
       "      <th>HelpfulnessDenominator</th>\n",
       "      <th>Score</th>\n",
       "      <th>Time</th>\n",
       "      <th>Summary</th>\n",
       "      <th>Text</th>\n",
       "      <th>CleanedText</th>\n",
       "    </tr>\n",
       "  </thead>\n",
       "  <tbody>\n",
       "    <tr>\n",
       "      <th>0</th>\n",
       "      <td>138706</td>\n",
       "      <td>150524</td>\n",
       "      <td>0006641040</td>\n",
       "      <td>ACITT7DI6IDDL</td>\n",
       "      <td>shari zychinski</td>\n",
       "      <td>0</td>\n",
       "      <td>0</td>\n",
       "      <td>positive</td>\n",
       "      <td>939340800</td>\n",
       "      <td>EVERY book is educational</td>\n",
       "      <td>this witty little book makes my son laugh at l...</td>\n",
       "      <td>witti littl book make son laugh loud recit car...</td>\n",
       "    </tr>\n",
       "    <tr>\n",
       "      <th>1</th>\n",
       "      <td>138683</td>\n",
       "      <td>150501</td>\n",
       "      <td>0006641040</td>\n",
       "      <td>AJ46FKXOVC7NR</td>\n",
       "      <td>Nicholas A Mesiano</td>\n",
       "      <td>2</td>\n",
       "      <td>2</td>\n",
       "      <td>positive</td>\n",
       "      <td>940809600</td>\n",
       "      <td>This whole series is great way to spend time w...</td>\n",
       "      <td>I can remember seeing the show when it aired o...</td>\n",
       "      <td>rememb see show air televis year ago child sis...</td>\n",
       "    </tr>\n",
       "    <tr>\n",
       "      <th>2</th>\n",
       "      <td>417839</td>\n",
       "      <td>451856</td>\n",
       "      <td>B00004CXX9</td>\n",
       "      <td>AIUWLEQ1ADEG5</td>\n",
       "      <td>Elizabeth Medina</td>\n",
       "      <td>0</td>\n",
       "      <td>0</td>\n",
       "      <td>positive</td>\n",
       "      <td>944092800</td>\n",
       "      <td>Entertainingl Funny!</td>\n",
       "      <td>Beetlejuice is a well written movie ..... ever...</td>\n",
       "      <td>beetlejuic well written movi everyth excel act...</td>\n",
       "    </tr>\n",
       "    <tr>\n",
       "      <th>3</th>\n",
       "      <td>346055</td>\n",
       "      <td>374359</td>\n",
       "      <td>B00004CI84</td>\n",
       "      <td>A344SMIA5JECGM</td>\n",
       "      <td>Vincent P. Ross</td>\n",
       "      <td>1</td>\n",
       "      <td>2</td>\n",
       "      <td>positive</td>\n",
       "      <td>944438400</td>\n",
       "      <td>A modern day fairy tale</td>\n",
       "      <td>A twist of rumplestiskin captured on film, sta...</td>\n",
       "      <td>twist rumplestiskin captur film star michael k...</td>\n",
       "    </tr>\n",
       "    <tr>\n",
       "      <th>4</th>\n",
       "      <td>417838</td>\n",
       "      <td>451855</td>\n",
       "      <td>B00004CXX9</td>\n",
       "      <td>AJH6LUC1UT1ON</td>\n",
       "      <td>The Phantom of the Opera</td>\n",
       "      <td>0</td>\n",
       "      <td>0</td>\n",
       "      <td>positive</td>\n",
       "      <td>946857600</td>\n",
       "      <td>FANTASTIC!</td>\n",
       "      <td>Beetlejuice is an excellent and funny movie. K...</td>\n",
       "      <td>beetlejuic excel funni movi keaton hilari wack...</td>\n",
       "    </tr>\n",
       "  </tbody>\n",
       "</table>\n",
       "</div>"
      ],
      "text/plain": [
       "    index      Id   ProductId          UserId               ProfileName  \\\n",
       "0  138706  150524  0006641040   ACITT7DI6IDDL           shari zychinski   \n",
       "1  138683  150501  0006641040   AJ46FKXOVC7NR        Nicholas A Mesiano   \n",
       "2  417839  451856  B00004CXX9   AIUWLEQ1ADEG5          Elizabeth Medina   \n",
       "3  346055  374359  B00004CI84  A344SMIA5JECGM           Vincent P. Ross   \n",
       "4  417838  451855  B00004CXX9   AJH6LUC1UT1ON  The Phantom of the Opera   \n",
       "\n",
       "   HelpfulnessNumerator  HelpfulnessDenominator     Score       Time  \\\n",
       "0                     0                       0  positive  939340800   \n",
       "1                     2                       2  positive  940809600   \n",
       "2                     0                       0  positive  944092800   \n",
       "3                     1                       2  positive  944438400   \n",
       "4                     0                       0  positive  946857600   \n",
       "\n",
       "                                             Summary  \\\n",
       "0                          EVERY book is educational   \n",
       "1  This whole series is great way to spend time w...   \n",
       "2                               Entertainingl Funny!   \n",
       "3                            A modern day fairy tale   \n",
       "4                                         FANTASTIC!   \n",
       "\n",
       "                                                Text  \\\n",
       "0  this witty little book makes my son laugh at l...   \n",
       "1  I can remember seeing the show when it aired o...   \n",
       "2  Beetlejuice is a well written movie ..... ever...   \n",
       "3  A twist of rumplestiskin captured on film, sta...   \n",
       "4  Beetlejuice is an excellent and funny movie. K...   \n",
       "\n",
       "                                         CleanedText  \n",
       "0  witti littl book make son laugh loud recit car...  \n",
       "1  rememb see show air televis year ago child sis...  \n",
       "2  beetlejuic well written movi everyth excel act...  \n",
       "3  twist rumplestiskin captur film star michael k...  \n",
       "4  beetlejuic excel funni movi keaton hilari wack...  "
      ]
     },
     "execution_count": 13,
     "metadata": {},
     "output_type": "execute_result"
    }
   ],
   "source": [
    "print(data.shape)\n",
    "data.head()"
   ]
  },
  {
   "cell_type": "code",
   "execution_count": 14,
   "metadata": {},
   "outputs": [
    {
     "data": {
      "text/plain": [
       "positive    307061\n",
       "negative     57110\n",
       "Name: Score, dtype: int64"
      ]
     },
     "execution_count": 14,
     "metadata": {},
     "output_type": "execute_result"
    }
   ],
   "source": [
    "data['Score'].value_counts()"
   ]
  },
  {
   "cell_type": "code",
   "execution_count": 15,
   "metadata": {},
   "outputs": [
    {
     "data": {
      "text/plain": [
       "(364171, 12)"
      ]
     },
     "execution_count": 15,
     "metadata": {},
     "output_type": "execute_result"
    }
   ],
   "source": [
    "data.shape"
   ]
  },
  {
   "cell_type": "markdown",
   "metadata": {},
   "source": [
    "## Observation\n",
    "data is not balanced so we are using AUC for the parameter tuning"
   ]
  },
  {
   "cell_type": "code",
   "execution_count": 18,
   "metadata": {},
   "outputs": [
    {
     "data": {
      "text/html": [
       "<div>\n",
       "<style scoped>\n",
       "    .dataframe tbody tr th:only-of-type {\n",
       "        vertical-align: middle;\n",
       "    }\n",
       "\n",
       "    .dataframe tbody tr th {\n",
       "        vertical-align: top;\n",
       "    }\n",
       "\n",
       "    .dataframe thead th {\n",
       "        text-align: right;\n",
       "    }\n",
       "</style>\n",
       "<table border=\"1\" class=\"dataframe\">\n",
       "  <thead>\n",
       "    <tr style=\"text-align: right;\">\n",
       "      <th></th>\n",
       "      <th>index</th>\n",
       "      <th>Id</th>\n",
       "      <th>ProductId</th>\n",
       "      <th>UserId</th>\n",
       "      <th>ProfileName</th>\n",
       "      <th>HelpfulnessNumerator</th>\n",
       "      <th>HelpfulnessDenominator</th>\n",
       "      <th>Score</th>\n",
       "      <th>Time</th>\n",
       "      <th>Summary</th>\n",
       "      <th>Text</th>\n",
       "      <th>CleanedText</th>\n",
       "    </tr>\n",
       "  </thead>\n",
       "  <tbody>\n",
       "    <tr>\n",
       "      <th>0</th>\n",
       "      <td>138706</td>\n",
       "      <td>150524</td>\n",
       "      <td>0006641040</td>\n",
       "      <td>ACITT7DI6IDDL</td>\n",
       "      <td>shari zychinski</td>\n",
       "      <td>0</td>\n",
       "      <td>0</td>\n",
       "      <td>1</td>\n",
       "      <td>1999-10-08</td>\n",
       "      <td>EVERY book is educational</td>\n",
       "      <td>this witty little book makes my son laugh at l...</td>\n",
       "      <td>witti littl book make son laugh loud recit car...</td>\n",
       "    </tr>\n",
       "    <tr>\n",
       "      <th>1</th>\n",
       "      <td>138683</td>\n",
       "      <td>150501</td>\n",
       "      <td>0006641040</td>\n",
       "      <td>AJ46FKXOVC7NR</td>\n",
       "      <td>Nicholas A Mesiano</td>\n",
       "      <td>2</td>\n",
       "      <td>2</td>\n",
       "      <td>1</td>\n",
       "      <td>1999-10-25</td>\n",
       "      <td>This whole series is great way to spend time w...</td>\n",
       "      <td>I can remember seeing the show when it aired o...</td>\n",
       "      <td>rememb see show air televis year ago child sis...</td>\n",
       "    </tr>\n",
       "    <tr>\n",
       "      <th>2</th>\n",
       "      <td>417839</td>\n",
       "      <td>451856</td>\n",
       "      <td>B00004CXX9</td>\n",
       "      <td>AIUWLEQ1ADEG5</td>\n",
       "      <td>Elizabeth Medina</td>\n",
       "      <td>0</td>\n",
       "      <td>0</td>\n",
       "      <td>1</td>\n",
       "      <td>1999-12-02</td>\n",
       "      <td>Entertainingl Funny!</td>\n",
       "      <td>Beetlejuice is a well written movie ..... ever...</td>\n",
       "      <td>beetlejuic well written movi everyth excel act...</td>\n",
       "    </tr>\n",
       "    <tr>\n",
       "      <th>3</th>\n",
       "      <td>346055</td>\n",
       "      <td>374359</td>\n",
       "      <td>B00004CI84</td>\n",
       "      <td>A344SMIA5JECGM</td>\n",
       "      <td>Vincent P. Ross</td>\n",
       "      <td>1</td>\n",
       "      <td>2</td>\n",
       "      <td>1</td>\n",
       "      <td>1999-12-06</td>\n",
       "      <td>A modern day fairy tale</td>\n",
       "      <td>A twist of rumplestiskin captured on film, sta...</td>\n",
       "      <td>twist rumplestiskin captur film star michael k...</td>\n",
       "    </tr>\n",
       "    <tr>\n",
       "      <th>4</th>\n",
       "      <td>417838</td>\n",
       "      <td>451855</td>\n",
       "      <td>B00004CXX9</td>\n",
       "      <td>AJH6LUC1UT1ON</td>\n",
       "      <td>The Phantom of the Opera</td>\n",
       "      <td>0</td>\n",
       "      <td>0</td>\n",
       "      <td>1</td>\n",
       "      <td>2000-01-03</td>\n",
       "      <td>FANTASTIC!</td>\n",
       "      <td>Beetlejuice is an excellent and funny movie. K...</td>\n",
       "      <td>beetlejuic excel funni movi keaton hilari wack...</td>\n",
       "    </tr>\n",
       "  </tbody>\n",
       "</table>\n",
       "</div>"
      ],
      "text/plain": [
       "    index      Id   ProductId          UserId               ProfileName  \\\n",
       "0  138706  150524  0006641040   ACITT7DI6IDDL           shari zychinski   \n",
       "1  138683  150501  0006641040   AJ46FKXOVC7NR        Nicholas A Mesiano   \n",
       "2  417839  451856  B00004CXX9   AIUWLEQ1ADEG5          Elizabeth Medina   \n",
       "3  346055  374359  B00004CI84  A344SMIA5JECGM           Vincent P. Ross   \n",
       "4  417838  451855  B00004CXX9   AJH6LUC1UT1ON  The Phantom of the Opera   \n",
       "\n",
       "   HelpfulnessNumerator  HelpfulnessDenominator  Score       Time  \\\n",
       "0                     0                       0      1 1999-10-08   \n",
       "1                     2                       2      1 1999-10-25   \n",
       "2                     0                       0      1 1999-12-02   \n",
       "3                     1                       2      1 1999-12-06   \n",
       "4                     0                       0      1 2000-01-03   \n",
       "\n",
       "                                             Summary  \\\n",
       "0                          EVERY book is educational   \n",
       "1  This whole series is great way to spend time w...   \n",
       "2                               Entertainingl Funny!   \n",
       "3                            A modern day fairy tale   \n",
       "4                                         FANTASTIC!   \n",
       "\n",
       "                                                Text  \\\n",
       "0  this witty little book makes my son laugh at l...   \n",
       "1  I can remember seeing the show when it aired o...   \n",
       "2  Beetlejuice is a well written movie ..... ever...   \n",
       "3  A twist of rumplestiskin captured on film, sta...   \n",
       "4  Beetlejuice is an excellent and funny movie. K...   \n",
       "\n",
       "                                         CleanedText  \n",
       "0  witti littl book make son laugh loud recit car...  \n",
       "1  rememb see show air televis year ago child sis...  \n",
       "2  beetlejuic well written movi everyth excel act...  \n",
       "3  twist rumplestiskin captur film star michael k...  \n",
       "4  beetlejuic excel funni movi keaton hilari wack...  "
      ]
     },
     "execution_count": 18,
     "metadata": {},
     "output_type": "execute_result"
    }
   ],
   "source": [
    "final = data\n",
    "# Sort data based on time\n",
    "final[\"Time\"] = pd.to_datetime(final[\"Time\"], unit = \"s\")\n",
    "final = final.sort_values(by = \"Time\")\n",
    "final['Score'] = (final.Score.str.match('positive')).astype(int)\n",
    "final.head()\n"
   ]
  },
  {
   "cell_type": "code",
   "execution_count": 23,
   "metadata": {},
   "outputs": [
    {
     "name": "stdout",
     "output_type": "stream",
     "text": [
      "train data size is  (36000,)  and result size is (36000,)\n",
      "cv data size is  (12000,)  and result size is (12000,)\n",
      "test data size is  (12000,)  and result size is (12000,)\n"
     ]
    }
   ],
   "source": [
    "#for brute force data sampling\n",
    "#dividing the data in the ratio of 60:20:20 to train, Cv and test of total 30k\n",
    "xTrainBrute, yTrainBrute, xCvBrute, yCvBrute, xTestBrute, yTestBrute = final.CleanedText[0:36000], final.Score[0:36000],final.CleanedText[36000:48000], final.Score[36000:48000],final.CleanedText[48000:60000], final.Score[48000:60000]\n",
    "print(\"train data size is \", xTrainBrute.shape, \" and result size is\", yTrainBrute.shape)\n",
    "print(\"cv data size is \", xCvBrute.shape, \" and result size is\", yCvBrute.shape)\n",
    "print(\"test data size is \", xTestBrute.shape, \" and result size is\", yTestBrute.shape)"
   ]
  },
  {
   "cell_type": "code",
   "execution_count": 24,
   "metadata": {},
   "outputs": [
    {
     "name": "stdout",
     "output_type": "stream",
     "text": [
      "train data size is  (12000,)  and result size is (12000,)\n",
      "train data size is  (4000,)  and result size is (4000,)\n",
      "test data size is  (4000,)  and result size is (4000,)\n"
     ]
    }
   ],
   "source": [
    "#for brute force data sampling\n",
    "#dividing the data in the ratio of 70:30 to train and test of total 20k\n",
    "xTrainKd, yTrainKd, xCvKd, yCvKd, xTestKd, yTestKd = final.CleanedText[0:12000], final.Score[0:12000],final.CleanedText[12000:16000], final.Score[12000:16000],final.CleanedText[16000:20000], final.Score[16000:20000]\n",
    "print(\"train data size is \", xTrainKd.shape, \" and result size is\", yTrainKd.shape)\n",
    "print(\"train data size is \", xCvKd.shape, \" and result size is\", yCvKd.shape)\n",
    "print(\"test data size is \", xTestKd.shape, \" and result size is\", yTestKd.shape)"
   ]
  },
  {
   "cell_type": "markdown",
   "metadata": {},
   "source": [
    "# [2] Featurization"
   ]
  },
  {
   "cell_type": "markdown",
   "metadata": {},
   "source": [
    "## [2.1] BAG OF WORDS"
   ]
  },
  {
   "cell_type": "code",
   "execution_count": 25,
   "metadata": {},
   "outputs": [
    {
     "name": "stdout",
     "output_type": "stream",
     "text": [
      "(36000, 2000)\n",
      "<class 'scipy.sparse.csr.csr_matrix'>\n",
      "(12000, 2000)\n",
      "<class 'scipy.sparse.csr.csr_matrix'>\n",
      "(12000, 2000)\n",
      "<class 'scipy.sparse.csr.csr_matrix'>\n"
     ]
    }
   ],
   "source": [
    "#BoW for Brute\n",
    "bowBrute = CountVectorizer(max_features=2000, min_df=50) #in scikit-learn\n",
    "trainBowBrute = bowBrute.fit_transform(xTrainBrute)\n",
    "print(trainBowBrute.shape)\n",
    "print(type(trainBowBrute))\n",
    "\n",
    "cvBowBrute = bowBrute.transform(xCvBrute)\n",
    "print(cvBowBrute.shape)\n",
    "print(type(cvBowBrute))\n",
    "\n",
    "testBowBrute = bowBrute.transform(xTestBrute)\n",
    "print(testBowBrute.shape)\n",
    "print(type(testBowBrute))"
   ]
  },
  {
   "cell_type": "code",
   "execution_count": 26,
   "metadata": {},
   "outputs": [
    {
     "name": "stdout",
     "output_type": "stream",
     "text": [
      "(12000, 500)\n",
      "<class 'scipy.sparse.csr.csr_matrix'>\n",
      "<class 'numpy.matrixlib.defmatrix.matrix'>\n",
      "(4000, 500)\n",
      "<class 'scipy.sparse.csr.csr_matrix'>\n",
      "<class 'numpy.matrixlib.defmatrix.matrix'>\n",
      "(4000, 500)\n",
      "<class 'scipy.sparse.csr.csr_matrix'>\n",
      "<class 'numpy.matrixlib.defmatrix.matrix'>\n"
     ]
    }
   ],
   "source": [
    "#BoW for Kd-tree\n",
    "bowKd = CountVectorizer(max_features=500, min_df=10) #in scikit-learn\n",
    "trainBowKd = bowKd.fit_transform(xTrainKd)\n",
    "print(trainBowKd.shape)\n",
    "print(type(trainBowKd))\n",
    "trainBowKd = trainBowKd.todense()\n",
    "print(type(trainBowKd))\n",
    "\n",
    "cvBowKd = bowKd.transform(xCvKd)\n",
    "print(cvBowKd.shape)\n",
    "print(type(cvBowKd))\n",
    "cvBowKd = cvBowKd.todense()\n",
    "print(type(cvBowKd))\n",
    "\n",
    "testBowKd = bowKd.transform(xTestKd)\n",
    "print(testBowKd.shape)\n",
    "print(type(testBowKd))\n",
    "testBowKd = testBowKd.todense()\n",
    "print(type(testBowKd))\n"
   ]
  },
  {
   "cell_type": "markdown",
   "metadata": {},
   "source": [
    "## [2.2] TF-IDF"
   ]
  },
  {
   "cell_type": "code",
   "execution_count": 27,
   "metadata": {},
   "outputs": [
    {
     "name": "stdout",
     "output_type": "stream",
     "text": [
      "(36000, 2000)\n",
      "<class 'scipy.sparse.csr.csr_matrix'>\n",
      "(12000, 2000)\n",
      "<class 'scipy.sparse.csr.csr_matrix'>\n",
      "(12000, 2000)\n",
      "<class 'scipy.sparse.csr.csr_matrix'>\n"
     ]
    }
   ],
   "source": [
    "#tfidf Brute\n",
    "tfidfBrute = TfidfVectorizer(ngram_range=(1,2), min_df=10,max_features=2000)\n",
    "trainTfBrute = tfidfBrute.fit_transform(xTrainBrute)\n",
    "print(trainTfBrute.shape)\n",
    "print(type(trainTfBrute))\n",
    "\n",
    "cvTfBrute = tfidfBrute.transform(xCvBrute)\n",
    "print(cvTfBrute.shape)\n",
    "print(type(cvTfBrute))\n",
    "\n",
    "testTfBrute = tfidfBrute.transform(xTestBrute)\n",
    "print(testTfBrute.shape)\n",
    "print(type(testTfBrute))"
   ]
  },
  {
   "cell_type": "code",
   "execution_count": 28,
   "metadata": {},
   "outputs": [
    {
     "name": "stdout",
     "output_type": "stream",
     "text": [
      "(12000, 500)\n",
      "<class 'scipy.sparse.csr.csr_matrix'>\n",
      "<class 'numpy.matrixlib.defmatrix.matrix'>\n",
      "(4000, 500)\n",
      "<class 'scipy.sparse.csr.csr_matrix'>\n",
      "<class 'numpy.matrixlib.defmatrix.matrix'>\n",
      "(4000, 500)\n",
      "<class 'scipy.sparse.csr.csr_matrix'>\n",
      "<class 'numpy.matrixlib.defmatrix.matrix'>\n"
     ]
    }
   ],
   "source": [
    "#tfidf Kd\n",
    "tfidfKd = TfidfVectorizer(ngram_range=(1,2), min_df=10,max_features=500)\n",
    "trainTfKd = tfidfKd.fit_transform(xTrainKd)\n",
    "print(trainTfKd.shape)\n",
    "print(type(trainTfKd))\n",
    "trainTfKd = trainTfKd.todense()\n",
    "print(type(trainTfKd))\n",
    "\n",
    "cvTfKd = tfidfKd.transform(xCvKd)\n",
    "print(cvTfKd.shape)\n",
    "print(type(cvTfKd))\n",
    "cvTfKd = cvTfKd.todense()\n",
    "print(type(cvTfKd))\n",
    "\n",
    "\n",
    "testTfKd = tfidfKd.transform(xTestKd)\n",
    "print(testTfKd.shape)\n",
    "print(type(testTfKd))\n",
    "testTfKd = testTfKd.todense()\n",
    "print(type(testTfKd))"
   ]
  },
  {
   "cell_type": "markdown",
   "metadata": {},
   "source": [
    "## [2.3] Word2Vec"
   ]
  },
  {
   "cell_type": "markdown",
   "metadata": {},
   "source": [
    "#### [2.3.1] Avg W2v Brute"
   ]
  },
  {
   "cell_type": "code",
   "execution_count": 29,
   "metadata": {},
   "outputs": [],
   "source": [
    "def cleanhtml(sentence): #function to clean the word of any html-tags\n",
    "    cleanr = re.compile('<.*?>')\n",
    "    cleantext = re.sub(cleanr, ' ', sentence)\n",
    "    return cleantext\n",
    "def cleanpunc(sentence): #function to clean the word of any punctuation or special characters\n",
    "    cleaned = re.sub(r'[?|!|\\'|\"|#]',r'',sentence)\n",
    "    cleaned = re.sub(r'[.|,|)|(|\\|/]',r' ',cleaned)\n",
    "    return  cleaned"
   ]
  },
  {
   "cell_type": "code",
   "execution_count": 30,
   "metadata": {},
   "outputs": [],
   "source": [
    "#word2vec\n",
    "# Using Google News Word2Vectors\n",
    "from gensim.models import Word2Vec\n",
    "from gensim.models import KeyedVectors\n",
    "import pickle\n",
    "\n",
    "# Train your own Word2Vec model using your own text corpus\n",
    "import gensim\n",
    "list_of_sent = []\n",
    "for sent in xTrainBrute.values:\n",
    "    filtered_sentence = []\n",
    "    sent=cleanhtml(sent)\n",
    "    for w in sent.split():\n",
    "        for cleaned_words in cleanpunc(w).split():\n",
    "            if(cleaned_words.isalpha()):    \n",
    "                filtered_sentence.append(cleaned_words.lower())\n",
    "            else:\n",
    "                continue \n",
    "    list_of_sent.append(filtered_sentence)"
   ]
  },
  {
   "cell_type": "code",
   "execution_count": 31,
   "metadata": {},
   "outputs": [],
   "source": [
    "w2v_model=gensim.models.Word2Vec(list_of_sent,min_count=5,size=50, workers=4) \n"
   ]
  },
  {
   "cell_type": "code",
   "execution_count": 32,
   "metadata": {},
   "outputs": [],
   "source": [
    "w2v = w2v_model[w2v_model.wv.vocab]"
   ]
  },
  {
   "cell_type": "code",
   "execution_count": 33,
   "metadata": {},
   "outputs": [
    {
     "data": {
      "text/plain": [
       "(8034, 50)"
      ]
     },
     "execution_count": 33,
     "metadata": {},
     "output_type": "execute_result"
    }
   ],
   "source": [
    "w2v.shape"
   ]
  },
  {
   "cell_type": "code",
   "execution_count": 34,
   "metadata": {},
   "outputs": [
    {
     "data": {
      "text/plain": [
       "[('typic', 0.7504246830940247),\n",
       " ('unlik', 0.6749457716941833),\n",
       " ('lighter', 0.6520532965660095),\n",
       " ('appeal', 0.6445991396903992),\n",
       " ('superior', 0.6308809518814087),\n",
       " ('lack', 0.6198273301124573),\n",
       " ('graini', 0.619362473487854),\n",
       " ('decent', 0.6182388067245483),\n",
       " ('fantast', 0.616011381149292),\n",
       " ('richer', 0.6153573989868164)]"
      ]
     },
     "execution_count": 34,
     "metadata": {},
     "output_type": "execute_result"
    }
   ],
   "source": [
    "w2v_model.wv.most_similar('similar')"
   ]
  },
  {
   "cell_type": "code",
   "execution_count": 35,
   "metadata": {},
   "outputs": [
    {
     "name": "stdout",
     "output_type": "stream",
     "text": [
      "36000\n",
      "50\n"
     ]
    }
   ],
   "source": [
    "# average Word2Vec on train data brute\n",
    "trainBrute = []; # the avg-w2v for each sentence/review is stored in this list\n",
    "for sent in list_of_sent: # for each review/sentence\n",
    "    sent_vec = np.zeros(50) # as word vectors are of zero length\n",
    "    cnt_words =0; # num of words with a valid vector in the sentence/review\n",
    "    for word in sent: # for each word in a review/sentence\n",
    "        try:\n",
    "            vec = w2v_model.wv[word]\n",
    "            sent_vec += vec\n",
    "            cnt_words += 1\n",
    "        except:\n",
    "            pass\n",
    "    sent_vec /= cnt_words\n",
    "    trainBrute.append(sent_vec)\n",
    "print(len(trainBrute))\n",
    "print(len(trainBrute[0]))\n",
    "# To replace nan with 0 and inf with large finite number\n",
    "\n",
    "trainAvgBrute = np.nan_to_num(trainBrute)"
   ]
  },
  {
   "cell_type": "code",
   "execution_count": 36,
   "metadata": {},
   "outputs": [
    {
     "name": "stdout",
     "output_type": "stream",
     "text": [
      "12000\n",
      "50\n"
     ]
    }
   ],
   "source": [
    "# average Word2Vec on cross validate data brute\n",
    "list_of_sent_cv = []\n",
    "for sent in xCvBrute.values:\n",
    "    filtered_sentence = []\n",
    "    sent=cleanhtml(sent)\n",
    "    for w in sent.split():\n",
    "        for cleaned_words in cleanpunc(w).split():\n",
    "            if(cleaned_words.isalpha()):    \n",
    "                filtered_sentence.append(cleaned_words.lower())\n",
    "            else:\n",
    "                continue \n",
    "    list_of_sent_cv.append(filtered_sentence)\n",
    "    \n",
    "# average Word2Vec on train data\n",
    "cv = []; # the avg-w2v for each sentence/review is stored in this list\n",
    "for sent in list_of_sent_cv: # for each review/sentence\n",
    "    sent_vec = np.zeros(50) # as word vectors are of zero length\n",
    "    cnt_words =0; # num of words with a valid vector in the sentence/review\n",
    "    for word in sent: # for each word in a review/sentence\n",
    "        try:\n",
    "            vec = w2v_model.wv[word]\n",
    "            sent_vec += vec\n",
    "            cnt_words += 1\n",
    "        except:\n",
    "            pass\n",
    "    sent_vec /= cnt_words\n",
    "    cv.append(sent_vec)\n",
    "print(len(cv))\n",
    "print(len(cv[0]))\n",
    "# To replace nan with 0 and inf with large finite number\n",
    "\n",
    "cvAvgBrute = np.nan_to_num(cv)"
   ]
  },
  {
   "cell_type": "code",
   "execution_count": 37,
   "metadata": {},
   "outputs": [
    {
     "name": "stdout",
     "output_type": "stream",
     "text": [
      "12000\n",
      "50\n"
     ]
    }
   ],
   "source": [
    "# average Word2Vec on test data brute\n",
    "list_of_sent_test = []\n",
    "for sent in xTestBrute.values:\n",
    "    filtered_sentence = []\n",
    "    sent=cleanhtml(sent)\n",
    "    for w in sent.split():\n",
    "        for cleaned_words in cleanpunc(w).split():\n",
    "            if(cleaned_words.isalpha()):    \n",
    "                filtered_sentence.append(cleaned_words.lower())\n",
    "            else:\n",
    "                continue \n",
    "    list_of_sent_test.append(filtered_sentence)\n",
    "    \n",
    "# average Word2Vec on train data\n",
    "test = []; # the avg-w2v for each sentence/review is stored in this list\n",
    "for sent in list_of_sent_test: # for each review/sentence\n",
    "    sent_vec = np.zeros(50) # as word vectors are of zero length\n",
    "    cnt_words =0; # num of words with a valid vector in the sentence/review\n",
    "    for word in sent: # for each word in a review/sentence\n",
    "        try:\n",
    "            vec = w2v_model.wv[word]\n",
    "            sent_vec += vec\n",
    "            cnt_words += 1\n",
    "        except:\n",
    "            pass\n",
    "    sent_vec /= cnt_words\n",
    "    test.append(sent_vec)\n",
    "print(len(test))\n",
    "print(len(test[0]))\n",
    "# To replace nan with 0 and inf with large finite number\n",
    "\n",
    "testAvgBrute = np.nan_to_num(test)"
   ]
  },
  {
   "cell_type": "markdown",
   "metadata": {},
   "source": [
    "#### [2.3.2] TFIDF weighted W2v Brute"
   ]
  },
  {
   "cell_type": "code",
   "execution_count": 38,
   "metadata": {},
   "outputs": [
    {
     "data": {
      "text/plain": [
       "36000"
      ]
     },
     "execution_count": 38,
     "metadata": {},
     "output_type": "execute_result"
    }
   ],
   "source": [
    "# TF-IDF weighted Word2Vec\n",
    "tfidf_feat = tfidfBrute.get_feature_names() # tfidf words/col-names\n",
    "# final_tf_idf is the sparse matrix with row= sentence, col=word and cell_val = tfidf\n",
    "\n",
    "train1 = []; # the tfidf-w2v for each sentence/review is stored in this list\n",
    "row=0;\n",
    "for sent in list_of_sent: # for train review/sentence\n",
    "    sent_vec = np.zeros(50) # as word vectors are of zero length\n",
    "    weight_sum =0; # num of words with a valid vector in the sentence/review\n",
    "    for word in sent: # for each word in a review/sentence\n",
    "        try:\n",
    "            vec = w2v_model.wv[word]\n",
    "            # obtain the tf_idfidf of a word in a sentence/review\n",
    "            tf_idf = final_tf_idf[row, tfidf_feat.index(word)]\n",
    "            sent_vec += (vec * tf_idf)\n",
    "            weight_sum += tf_idf\n",
    "        except:\n",
    "            pass\n",
    "    sent_vec /= weight_sum\n",
    "    train1.append(sent_vec)\n",
    "    row += 1\n",
    "    \n",
    "trainTfW2vBrute = np.nan_to_num(train1)\n",
    "len(trainTfW2vBrute)"
   ]
  },
  {
   "cell_type": "code",
   "execution_count": 39,
   "metadata": {},
   "outputs": [
    {
     "data": {
      "text/plain": [
       "12000"
      ]
     },
     "execution_count": 39,
     "metadata": {},
     "output_type": "execute_result"
    }
   ],
   "source": [
    "# TF-IDF weighted Word2Vec\n",
    "tfidf_feat = tfidfBrute.get_feature_names() # tfidf words/col-names\n",
    "# final_tf_idf is the sparse matrix with row= sentence, col=word and cell_val = tfidf\n",
    "\n",
    "cv1 = []; # the tfidf-w2v for each sentence/review is stored in this list\n",
    "row=0;\n",
    "for sent in list_of_sent_cv: # for train review/sentence\n",
    "    sent_vec = np.zeros(50) # as word vectors are of zero length\n",
    "    weight_sum =0; # num of words with a valid vector in the sentence/review\n",
    "    for word in sent: # for each word in a review/sentence\n",
    "        try:\n",
    "            vec = w2v_model.wv[word]\n",
    "            # obtain the tf_idfidf of a word in a sentence/review\n",
    "            tf_idf = final_tf_idf[row, tfidf_feat.index(word)]\n",
    "            sent_vec += (vec * tf_idf)\n",
    "            weight_sum += tf_idf\n",
    "        except:\n",
    "            pass\n",
    "    sent_vec /= weight_sum\n",
    "    cv1.append(sent_vec)\n",
    "    row += 1\n",
    "    \n",
    "cvTfW2vBrute = np.nan_to_num(cv1)    \n",
    "len(cvTfW2vBrute)"
   ]
  },
  {
   "cell_type": "code",
   "execution_count": 40,
   "metadata": {},
   "outputs": [
    {
     "data": {
      "text/plain": [
       "12000"
      ]
     },
     "execution_count": 40,
     "metadata": {},
     "output_type": "execute_result"
    }
   ],
   "source": [
    "# TF-IDF weighted Word2Vec\n",
    "tfidf_feat = tfidfBrute.get_feature_names() # tfidf words/col-names\n",
    "# final_tf_idf is the sparse matrix with row= sentence, col=word and cell_val = tfidf\n",
    "\n",
    "test1 = []; # the tfidf-w2v for each sentence/review is stored in this list\n",
    "row=0;\n",
    "for sent in list_of_sent_test: # for train review/sentence\n",
    "    sent_vec = np.zeros(50) # as word vectors are of zero length\n",
    "    weight_sum =0; # num of words with a valid vector in the sentence/review\n",
    "    for word in sent: # for each word in a review/sentence\n",
    "        try:\n",
    "            vec = w2v_model.wv[word]\n",
    "            # obtain the tf_idfidf of a word in a sentence/review\n",
    "            tf_idf = final_tf_idf[row, tfidf_feat.index(word)]\n",
    "            sent_vec += (vec * tf_idf)\n",
    "            weight_sum += tf_idf\n",
    "        except:\n",
    "            pass\n",
    "    sent_vec /= weight_sum\n",
    "    test1.append(sent_vec)\n",
    "    row += 1\n",
    "    \n",
    "testTfW2vBrute = np.nan_to_num(test1)\n",
    "len(testTfW2vBrute)"
   ]
  },
  {
   "cell_type": "markdown",
   "metadata": {},
   "source": [
    "### [2.3.1] Avg w2v kd tree"
   ]
  },
  {
   "cell_type": "code",
   "execution_count": 41,
   "metadata": {},
   "outputs": [],
   "source": [
    "#word2vec\n",
    "# Using Google News Word2Vectors\n",
    "from gensim.models import Word2Vec\n",
    "from gensim.models import KeyedVectors\n",
    "import pickle\n",
    "\n",
    "# Train your own Word2Vec model using your own text corpus\n",
    "import gensim\n",
    "list_of_sent = []\n",
    "for sent in xTrainKd.values:\n",
    "    filtered_sentence = []\n",
    "    sent=cleanhtml(sent)\n",
    "    for w in sent.split():\n",
    "        for cleaned_words in cleanpunc(w).split():\n",
    "            if(cleaned_words.isalpha()):    \n",
    "                filtered_sentence.append(cleaned_words.lower())\n",
    "            else:\n",
    "                continue \n",
    "    list_of_sent.append(filtered_sentence)"
   ]
  },
  {
   "cell_type": "code",
   "execution_count": 42,
   "metadata": {},
   "outputs": [],
   "source": [
    "w2v_model=gensim.models.Word2Vec(list_of_sent,min_count=5,size=50, workers=4) \n"
   ]
  },
  {
   "cell_type": "code",
   "execution_count": 43,
   "metadata": {},
   "outputs": [],
   "source": [
    "w2v = w2v_model[w2v_model.wv.vocab]"
   ]
  },
  {
   "cell_type": "code",
   "execution_count": 44,
   "metadata": {},
   "outputs": [
    {
     "data": {
      "text/plain": [
       "(5107, 50)"
      ]
     },
     "execution_count": 44,
     "metadata": {},
     "output_type": "execute_result"
    }
   ],
   "source": [
    "w2v.shape"
   ]
  },
  {
   "cell_type": "code",
   "execution_count": 45,
   "metadata": {},
   "outputs": [
    {
     "data": {
      "text/plain": [
       "[('domin', 0.9347849488258362),\n",
       " ('describ', 0.9214526414871216),\n",
       " ('except', 0.9209932684898376),\n",
       " ('authent', 0.9183551669120789),\n",
       " ('milder', 0.9181166291236877),\n",
       " ('incred', 0.9174165725708008),\n",
       " ('lighter', 0.9171276092529297),\n",
       " ('typic', 0.9128759503364563),\n",
       " ('malt', 0.9121532440185547),\n",
       " ('agav', 0.9120005965232849)]"
      ]
     },
     "execution_count": 45,
     "metadata": {},
     "output_type": "execute_result"
    }
   ],
   "source": [
    "w2v_model.wv.most_similar('similar')"
   ]
  },
  {
   "cell_type": "code",
   "execution_count": 46,
   "metadata": {},
   "outputs": [
    {
     "name": "stdout",
     "output_type": "stream",
     "text": [
      "12000\n",
      "50\n"
     ]
    }
   ],
   "source": [
    "# average Word2Vec on train data kd\n",
    "trainKd = []; # the avg-w2v for each sentence/review is stored in this list\n",
    "for sent in list_of_sent: # for each review/sentence\n",
    "    sent_vec = np.zeros(50) # as word vectors are of zero length\n",
    "    cnt_words =0; # num of words with a valid vector in the sentence/review\n",
    "    for word in sent: # for each word in a review/sentence\n",
    "        try:\n",
    "            vec = w2v_model.wv[word]\n",
    "            sent_vec += vec\n",
    "            cnt_words += 1\n",
    "        except:\n",
    "            pass\n",
    "    sent_vec /= cnt_words\n",
    "    trainKd.append(sent_vec)\n",
    "print(len(trainKd))\n",
    "print(len(trainKd[0]))\n",
    "# To replace nan with 0 and inf with large finite number\n",
    "\n",
    "trainAvgKd = np.nan_to_num(trainKd)"
   ]
  },
  {
   "cell_type": "code",
   "execution_count": 47,
   "metadata": {},
   "outputs": [
    {
     "name": "stdout",
     "output_type": "stream",
     "text": [
      "4000\n",
      "50\n"
     ]
    }
   ],
   "source": [
    "# average Word2Vec on cross validate data brute\n",
    "list_of_sent_cv = []\n",
    "for sent in xCvKd.values:\n",
    "    filtered_sentence = []\n",
    "    sent=cleanhtml(sent)\n",
    "    for w in sent.split():\n",
    "        for cleaned_words in cleanpunc(w).split():\n",
    "            if(cleaned_words.isalpha()):    \n",
    "                filtered_sentence.append(cleaned_words.lower())\n",
    "            else:\n",
    "                continue \n",
    "    list_of_sent_cv.append(filtered_sentence)\n",
    "    \n",
    "# average Word2Vec on train data\n",
    "cv = []; # the avg-w2v for each sentence/review is stored in this list\n",
    "for sent in list_of_sent_cv: # for each review/sentence\n",
    "    sent_vec = np.zeros(50) # as word vectors are of zero length\n",
    "    cnt_words =0; # num of words with a valid vector in the sentence/review\n",
    "    for word in sent: # for each word in a review/sentence\n",
    "        try:\n",
    "            vec = w2v_model.wv[word]\n",
    "            sent_vec += vec\n",
    "            cnt_words += 1\n",
    "        except:\n",
    "            pass\n",
    "    sent_vec /= cnt_words\n",
    "    cv.append(sent_vec)\n",
    "print(len(cv))\n",
    "print(len(cv[0]))\n",
    "# To replace nan with 0 and inf with large finite number\n",
    "\n",
    "cvAvgKd = np.nan_to_num(cv)"
   ]
  },
  {
   "cell_type": "code",
   "execution_count": 48,
   "metadata": {},
   "outputs": [
    {
     "name": "stdout",
     "output_type": "stream",
     "text": [
      "4000\n",
      "50\n"
     ]
    }
   ],
   "source": [
    "# average Word2Vec on test data brute\n",
    "list_of_sent_test = []\n",
    "for sent in xTestKd.values:\n",
    "    filtered_sentence = []\n",
    "    sent=cleanhtml(sent)\n",
    "    for w in sent.split():\n",
    "        for cleaned_words in cleanpunc(w).split():\n",
    "            if(cleaned_words.isalpha()):    \n",
    "                filtered_sentence.append(cleaned_words.lower())\n",
    "            else:\n",
    "                continue \n",
    "    list_of_sent_test.append(filtered_sentence)\n",
    "    \n",
    "# average Word2Vec on train data\n",
    "test = []; # the avg-w2v for each sentence/review is stored in this list\n",
    "for sent in list_of_sent_test: # for each review/sentence\n",
    "    sent_vec = np.zeros(50) # as word vectors are of zero length\n",
    "    cnt_words =0; # num of words with a valid vector in the sentence/review\n",
    "    for word in sent: # for each word in a review/sentence\n",
    "        try:\n",
    "            vec = w2v_model.wv[word]\n",
    "            sent_vec += vec\n",
    "            cnt_words += 1\n",
    "        except:\n",
    "            pass\n",
    "    sent_vec /= cnt_words\n",
    "    test.append(sent_vec)\n",
    "print(len(test))\n",
    "print(len(test[0]))\n",
    "# To replace nan with 0 and inf with large finite number\n",
    "\n",
    "testAvgKd = np.nan_to_num(test)"
   ]
  },
  {
   "cell_type": "markdown",
   "metadata": {
    "scrolled": true
   },
   "source": [
    "### [2.3.2] TfIdf w2v Kdtree"
   ]
  },
  {
   "cell_type": "code",
   "execution_count": 49,
   "metadata": {},
   "outputs": [
    {
     "data": {
      "text/plain": [
       "12000"
      ]
     },
     "execution_count": 49,
     "metadata": {},
     "output_type": "execute_result"
    }
   ],
   "source": [
    "# TF-IDF weighted Word2Vec\n",
    "tfidf_feat = tfidfKd.get_feature_names() # tfidf words/col-names\n",
    "# final_tf_idf is the sparse matrix with row= sentence, col=word and cell_val = tfidf\n",
    "\n",
    "train1 = []; # the tfidf-w2v for each sentence/review is stored in this list\n",
    "row=0;\n",
    "for sent in list_of_sent: # for train review/sentence\n",
    "    sent_vec = np.zeros(50) # as word vectors are of zero length\n",
    "    weight_sum =0; # num of words with a valid vector in the sentence/review\n",
    "    for word in sent: # for each word in a review/sentence\n",
    "        try:\n",
    "            vec = w2v_model.wv[word]\n",
    "            # obtain the tf_idfidf of a word in a sentence/review\n",
    "            tf_idf = final_tf_idf[row, tfidf_feat.index(word)]\n",
    "            sent_vec += (vec * tf_idf)\n",
    "            weight_sum += tf_idf\n",
    "        except:\n",
    "            pass\n",
    "    sent_vec /= weight_sum\n",
    "    train1.append(sent_vec)\n",
    "    row += 1\n",
    "    \n",
    "trainTfW2vKd = np.nan_to_num(train1)\n",
    "len(trainTfW2vKd)"
   ]
  },
  {
   "cell_type": "code",
   "execution_count": 50,
   "metadata": {},
   "outputs": [
    {
     "data": {
      "text/plain": [
       "4000"
      ]
     },
     "execution_count": 50,
     "metadata": {},
     "output_type": "execute_result"
    }
   ],
   "source": [
    "# TF-IDF weighted Word2Vec\n",
    "tfidf_feat = tfidfKd.get_feature_names() # tfidf words/col-names\n",
    "# final_tf_idf is the sparse matrix with row= sentence, col=word and cell_val = tfidf\n",
    "\n",
    "cv1 = []; # the tfidf-w2v for each sentence/review is stored in this list\n",
    "row=0;\n",
    "for sent in list_of_sent_cv: # for train review/sentence\n",
    "    sent_vec = np.zeros(50) # as word vectors are of zero length\n",
    "    weight_sum =0; # num of words with a valid vector in the sentence/review\n",
    "    for word in sent: # for each word in a review/sentence\n",
    "        try:\n",
    "            vec = w2v_model.wv[word]\n",
    "            # obtain the tf_idfidf of a word in a sentence/review\n",
    "            tf_idf = final_tf_idf[row, tfidf_feat.index(word)]\n",
    "            sent_vec += (vec * tf_idf)\n",
    "            weight_sum += tf_idf\n",
    "        except:\n",
    "            pass\n",
    "    sent_vec /= weight_sum\n",
    "    cv1.append(sent_vec)\n",
    "    row += 1\n",
    "    \n",
    "cvTfW2vKd = np.nan_to_num(cv1)    \n",
    "len(cvTfW2vKd)"
   ]
  },
  {
   "cell_type": "code",
   "execution_count": 51,
   "metadata": {},
   "outputs": [
    {
     "data": {
      "text/plain": [
       "4000"
      ]
     },
     "execution_count": 51,
     "metadata": {},
     "output_type": "execute_result"
    }
   ],
   "source": [
    "# TF-IDF weighted Word2Vec\n",
    "tfidf_feat = tfidfKd.get_feature_names() # tfidf words/col-names\n",
    "# final_tf_idf is the sparse matrix with row= sentence, col=word and cell_val = tfidf\n",
    "\n",
    "test1 = []; # the tfidf-w2v for each sentence/review is stored in this list\n",
    "row=0;\n",
    "for sent in list_of_sent_test: # for train review/sentence\n",
    "    sent_vec = np.zeros(50) # as word vectors are of zero length\n",
    "    weight_sum =0; # num of words with a valid vector in the sentence/review\n",
    "    for word in sent: # for each word in a review/sentence\n",
    "        try:\n",
    "            vec = w2v_model.wv[word]\n",
    "            # obtain the tf_idfidf of a word in a sentence/review\n",
    "            tf_idf = final_tf_idf[row, tfidf_feat.index(word)]\n",
    "            sent_vec += (vec * tf_idf)\n",
    "            weight_sum += tf_idf\n",
    "        except:\n",
    "            pass\n",
    "    sent_vec /= weight_sum\n",
    "    test1.append(sent_vec)\n",
    "    row += 1\n",
    "    \n",
    "testTfW2vKd = np.nan_to_num(test1)\n",
    "len(testTfW2vKd)"
   ]
  },
  {
   "cell_type": "markdown",
   "metadata": {},
   "source": [
    "# [5] Assignment 3: KNN"
   ]
  },
  {
   "cell_type": "markdown",
   "metadata": {},
   "source": [
    "<ol>\n",
    "    <li><strong>Apply Knn(brute force version) on these feature sets</strong>\n",
    "        <ul>\n",
    "            <li><font color='red'>SET 1:</font>Review text, preprocessed one converted into vectors using (BOW)</li>\n",
    "            <li><font color='red'>SET 2:</font>Review text, preprocessed one converted into vectors using (TFIDF)</li>\n",
    "            <li><font color='red'>SET 3:</font>Review text, preprocessed one converted into vectors using (AVG W2v)</li>\n",
    "            <li><font color='red'>SET 4:</font>Review text, preprocessed one converted into vectors using (TFIDF W2v)</li>\n",
    "        </ul>\n",
    "    </li>\n",
    "    <br>\n",
    "    <li><strong>Apply Knn(kd tree version) on these feature sets</strong>\n",
    "        <br><font color='red'>NOTE: </font>sklearn implementation of kd-tree accepts only dense matrices, you need to convert the sparse matrices of CountVectorizer/TfidfVectorizer into dense matices. You can convert sparse matrices to dense using .toarray() attribute. For more information please visit this <a href='https://docs.scipy.org/doc/scipy-0.18.1/reference/generated/scipy.sparse.csr_matrix.toarray.html'>link</a>\n",
    "        <ul>\n",
    "            <li><font color='red'>SET 5:</font>Review text, preprocessed one converted into vectors using (BOW) but with restriction on maximum features generated.\n",
    "            <pre>\n",
    "            count_vect = CountVectorizer(min_df=10, max_features=500) \n",
    "            count_vect.fit(preprocessed_reviews)\n",
    "            </pre>\n",
    "            </li>\n",
    "            <li><font color='red'>SET 6:</font>Review text, preprocessed one converted into vectors using (TFIDF) but with restriction on maximum features generated.\n",
    "            <pre>\n",
    "                tf_idf_vect = TfidfVectorizer(min_df=10, max_features=500)\n",
    "                tf_idf_vect.fit(preprocessed_reviews)\n",
    "            </pre>\n",
    "            </li>\n",
    "            <li><font color='red'>SET 3:</font>Review text, preprocessed one converted into vectors using (AVG W2v)</li>\n",
    "            <li><font color='red'>SET 4:</font>Review text, preprocessed one converted into vectors using (TFIDF W2v)</li>\n",
    "        </ul>\n",
    "    </li>\n",
    "    <br>\n",
    "    <li><strong>The hyper paramter tuning(find best K)</strong>\n",
    "        <ul>\n",
    "    <li>Find the best hyper parameter which will give the maximum <a href='https://www.appliedaicourse.com/course/applied-ai-course-online/lessons/receiver-operating-characteristic-curve-roc-curve-and-auc-1/'>AUC</a> value</li>\n",
    "    <li>Find the best hyper paramter using k-fold cross validation or simple cross validation data</li>\n",
    "    <li>Use gridsearch cv or randomsearch cv or you can also write your own for loops to do this task of hyperparameter tuning</li>\n",
    "        </ul>\n",
    "    </li>\n",
    "    <br>\n",
    "    <li>\n",
    "    <strong>Representation of results</strong>\n",
    "        <ul>\n",
    "    <li>You need to plot the performance of model both on train data and cross validation data for each hyper parameter, like shown in the figure\n",
    "    <img src='train_cv_auc.JPG' width=300px></li>\n",
    "    <li>Once after you found the best hyper parameter, you need to train your model with it, and find the AUC on test data and plot the ROC curve on both train and test.\n",
    "    <img src='train_test_auc.JPG' width=300px></li>\n",
    "    <li>Along with plotting ROC curve, you need to print the <a href='https://www.appliedaicourse.com/course/applied-ai-course-online/lessons/confusion-matrix-tpr-fpr-fnr-tnr-1/'>confusion matrix</a> with predicted and original labels of test data points\n",
    "    <img src='confusion_matrix.png' width=300px></li>\n",
    "        </ul>\n",
    "    </li>\n",
    "    <br>\n",
    "    <li><strong>Conclusion</strong>\n",
    "        <ul>\n",
    "    <li>You need to summarize the results at the end of the notebook, summarize it in the table format. To print out a table please refer to this prettytable library<a href='http://zetcode.com/python/prettytable/'> link</a> \n",
    "        <img src='summary.JPG' width=400px>\n",
    "    </li>\n",
    "        </ul>\n",
    "</ol>"
   ]
  },
  {
   "cell_type": "markdown",
   "metadata": {},
   "source": [
    "<h4><font color='red'>Note: Data Leakage</font></h4>\n",
    "\n",
    "1. There will be an issue of data-leakage if you vectorize the entire data and then split it into train/cv/test.\n",
    "2. To avoid the issue of data-leakag, make sure to split your data first and then vectorize it. \n",
    "3. While vectorizing your data, apply the method fit_transform() on you train data, and apply the method transform() on cv/test data.\n",
    "4. For more details please go through this <a href='https://soundcloud.com/applied-ai-course/leakage-bow-and-tfidf'>link.</a>"
   ]
  },
  {
   "cell_type": "code",
   "execution_count": 52,
   "metadata": {},
   "outputs": [
    {
     "name": "stdout",
     "output_type": "stream",
     "text": [
      "+------------+-------+---+-----+\n",
      "| Vectorizer | Model | K | AUC |\n",
      "+------------+-------+---+-----+\n",
      "+------------+-------+---+-----+\n"
     ]
    }
   ],
   "source": [
    "from prettytable import PrettyTable\n",
    "#initialing the table\n",
    "tableData = PrettyTable()\n",
    "tableData.field_names = [\"Vectorizer\", \"Model\", \"K\", \"AUC\"]\n",
    "print(tableData)"
   ]
  },
  {
   "cell_type": "markdown",
   "metadata": {},
   "source": [
    "## [5.1] Applying KNN brute force"
   ]
  },
  {
   "cell_type": "markdown",
   "metadata": {},
   "source": [
    "### [5.1.1] Applying KNN brute force on BOW,<font color='red'> SET 1</font>"
   ]
  },
  {
   "cell_type": "code",
   "execution_count": 61,
   "metadata": {
    "scrolled": true
   },
   "outputs": [
    {
     "name": "stdout",
     "output_type": "stream",
     "text": [
      "1  neighour done\n",
      "3  neighour done\n",
      "5  neighour done\n",
      "7  neighour done\n",
      "9  neighour done\n",
      "11  neighour done\n",
      "13  neighour done\n",
      "15  neighour done\n",
      "17  neighour done\n",
      "19  neighour done\n",
      "21  neighour done\n",
      "23  neighour done\n",
      "25  neighour done\n",
      "27  neighour done\n",
      "29  neighour done\n"
     ]
    }
   ],
   "source": [
    "from sklearn.metrics import roc_auc_score\n",
    "from sklearn.metrics import roc_curve, auc\n",
    "\n",
    "k = [i for i in range(1,30,2)]\n",
    "aucTrain = []\n",
    "aucCv = []\n",
    "for i in k:\n",
    "    model = KNeighborsClassifier(n_neighbors= i, algorithm = 'brute')\n",
    "    model.fit(trainBowBrute, yTrainBrute)\n",
    "    \n",
    "    predTrain = model.predict_proba(trainBowBrute)\n",
    "    \n",
    "    fpr, tpr, thresholds = metrics.roc_curve(yTrainBrute, predTrain[:,1])\n",
    "    aucTrain.append(metrics.auc(fpr, tpr))\n",
    "    \n",
    "    predCv = model.predict_proba(cvBowBrute)\n",
    "    \n",
    "    fpr, tpr, thresholds = metrics.roc_curve(yCvBrute, predCv[:,1])\n",
    "    aucCv.append(metrics.auc(fpr, tpr))\n",
    "    print(i, \" neighour done\")"
   ]
  },
  {
   "cell_type": "code",
   "execution_count": 62,
   "metadata": {},
   "outputs": [
    {
     "data": {
      "image/png": "[encoded data removed]",
      "text/plain": [
       "<Figure size 432x288 with 1 Axes>"
      ]
     },
     "metadata": {
      "needs_background": "light"
     },
     "output_type": "display_data"
    }
   ],
   "source": [
    "plt.plot(k, aucCv, label = 'auc Cv')\n",
    "plt.plot(k, aucTrain, label = 'auc Train')\n",
    "plt.xlabel('hyperparameter')\n",
    "plt.ylabel('area under auc curve')\n",
    "plt.grid()\n",
    "plt.legend()\n",
    "plt.show()"
   ]
  },
  {
   "cell_type": "markdown",
   "metadata": {},
   "source": [
    "### Observation :-\n",
    "for k = 29 we get maximum cv roc value"
   ]
  },
  {
   "cell_type": "code",
   "execution_count": 67,
   "metadata": {},
   "outputs": [
    {
     "data": {
      "text/plain": [
       "0.7151668057279776"
      ]
     },
     "execution_count": 67,
     "metadata": {},
     "output_type": "execute_result"
    }
   ],
   "source": [
    "mnbBow = KNeighborsClassifier(n_neighbors= 29, algorithm = 'brute')\n",
    "mnbBow.fit(trainBowBrute, yTrainBrute)\n",
    "\n",
    "pred_prob = mnbBow.predict_proba(trainBowBrute)\n",
    "pred_prob1 = mnbBow.predict_proba(testBowBrute)\n",
    "\n",
    "fpr1, tpr1, thresholds = metrics.roc_curve(yTrainBrute, pred_prob[:,1])\n",
    "auc1 = metrics.auc(fpr1, tpr1)\n",
    "auc1\n",
    "fpr2, tpr2, thresholds = metrics.roc_curve(yTestBrute, pred_prob1[:,1])\n",
    "auc2 = metrics.auc(fpr2, tpr2)\n",
    "auc2\n",
    "\n",
    "y_pred = mnbBow.predict(testBowBrute)"
   ]
  },
  {
   "cell_type": "code",
   "execution_count": 69,
   "metadata": {},
   "outputs": [],
   "source": [
    "\n",
    "y_pred = mnbBow.predict(testBowBrute)"
   ]
  },
  {
   "cell_type": "code",
   "execution_count": 70,
   "metadata": {},
   "outputs": [
    {
     "data": {
      "image/png": "[encoded data removed]",
      "text/plain": [
       "<Figure size 432x288 with 1 Axes>"
      ]
     },
     "metadata": {
      "needs_background": "light"
     },
     "output_type": "display_data"
    },
    {
     "data": {
      "image/png": "[encoded data removed]",
      "text/plain": [
       "<Figure size 432x288 with 2 Axes>"
      ]
     },
     "metadata": {
      "needs_background": "light"
     },
     "output_type": "display_data"
    }
   ],
   "source": [
    "# plot confusion matrix to describe the performance of classifier.\n",
    "\n",
    "plt.title(\"Roc Curve\")\n",
    "plt.plot(fpr1,tpr1,label=\"trainAuc\")\n",
    "plt.plot(fpr2,tpr2,label=\"testAuc\")\n",
    "plt.grid()\n",
    "plt.legend()\n",
    "plt.show()\n",
    "    \n",
    "# confusion matrix\n",
    "    \n",
    "cm = confusion_matrix(yTestBrute, y_pred)\n",
    "class_label = [\"negative\", \"positive\"]\n",
    "df_cm = pd.DataFrame(cm, index = class_label, columns = class_label)\n",
    "sns.heatmap(df_cm, annot = True, fmt = \"d\")\n",
    "plt.title(\"Confusiion Matrix\")\n",
    "plt.xlabel(\"Predicted Label\")\n",
    "plt.ylabel(\"True Label\")\n",
    "plt.show()\n",
    "\n"
   ]
  },
  {
   "cell_type": "code",
   "execution_count": 71,
   "metadata": {},
   "outputs": [],
   "source": [
    "tableData.add_row(['BOW', \"BRUTE\", 29, auc2])"
   ]
  },
  {
   "cell_type": "code",
   "execution_count": 72,
   "metadata": {},
   "outputs": [
    {
     "name": "stdout",
     "output_type": "stream",
     "text": [
      "+------------+-------+----+--------------------+\n",
      "| Vectorizer | Model | K  |        AUC         |\n",
      "+------------+-------+----+--------------------+\n",
      "|    BOW     | BRUTE | 29 | 0.7151668057279776 |\n",
      "+------------+-------+----+--------------------+\n"
     ]
    }
   ],
   "source": [
    "print(tableData)"
   ]
  },
  {
   "cell_type": "markdown",
   "metadata": {},
   "source": [
    "### [5.1.2] Applying KNN brute force on TFIDF,<font color='red'> SET 2</font>"
   ]
  },
  {
   "cell_type": "code",
   "execution_count": 73,
   "metadata": {},
   "outputs": [
    {
     "name": "stdout",
     "output_type": "stream",
     "text": [
      "1  neighour done\n",
      "3  neighour done\n",
      "5  neighour done\n",
      "7  neighour done\n",
      "9  neighour done\n",
      "11  neighour done\n",
      "13  neighour done\n",
      "15  neighour done\n",
      "17  neighour done\n",
      "19  neighour done\n",
      "21  neighour done\n",
      "23  neighour done\n",
      "25  neighour done\n",
      "27  neighour done\n",
      "29  neighour done\n"
     ]
    }
   ],
   "source": [
    "from sklearn.metrics import roc_auc_score\n",
    "from sklearn.metrics import roc_curve, auc\n",
    "\n",
    "k = [i for i in range(1,30,2)]\n",
    "aucTrain = []\n",
    "aucCv = []\n",
    "for i in k:\n",
    "    model = KNeighborsClassifier(n_neighbors= i, algorithm = 'brute')\n",
    "    model.fit(trainTfBrute, yTrainBrute)\n",
    "    \n",
    "    predTrain = model.predict_proba(trainTfBrute)\n",
    "    \n",
    "    fpr, tpr, thresholds = metrics.roc_curve(yTrainBrute, predTrain[:,1])\n",
    "    aucTrain.append(metrics.auc(fpr, tpr))\n",
    "    \n",
    "    predCv = model.predict_proba(cvTfBrute)\n",
    "    \n",
    "    fpr, tpr, thresholds = metrics.roc_curve(yCvBrute, predCv[:,1])\n",
    "    aucCv.append(metrics.auc(fpr, tpr))\n",
    "    print(i, \" neighour done\")"
   ]
  },
  {
   "cell_type": "code",
   "execution_count": 74,
   "metadata": {},
   "outputs": [
    {
     "data": {
      "image/png": "[encoded data removed]",
      "text/plain": [
       "<Figure size 432x288 with 1 Axes>"
      ]
     },
     "metadata": {
      "needs_background": "light"
     },
     "output_type": "display_data"
    }
   ],
   "source": [
    "plt.plot(k, aucCv, label = 'auc Cv')\n",
    "plt.plot(k, aucTrain, label = 'auc Train')\n",
    "plt.xlabel('hyperparameter')\n",
    "plt.ylabel('area under auc curve')\n",
    "plt.grid()\n",
    "plt.legend()\n",
    "plt.show()"
   ]
  },
  {
   "cell_type": "markdown",
   "metadata": {},
   "source": [
    "### Observation :-\n",
    "for k = 29 we get maximum cv roc value"
   ]
  },
  {
   "cell_type": "code",
   "execution_count": 75,
   "metadata": {},
   "outputs": [],
   "source": [
    "mnbBow = KNeighborsClassifier(n_neighbors= 29, algorithm = 'brute')\n",
    "mnbBow.fit(trainTfBrute, yTrainBrute)\n",
    "\n",
    "pred_prob = mnbBow.predict_proba(trainTfBrute)\n",
    "pred_prob1 = mnbBow.predict_proba(testTfBrute)\n",
    "\n",
    "fpr1, tpr1, thresholds = metrics.roc_curve(yTrainBrute, pred_prob[:,1])\n",
    "auc1 = metrics.auc(fpr1, tpr1)\n",
    "auc1\n",
    "fpr2, tpr2, thresholds = metrics.roc_curve(yTestBrute, pred_prob1[:,1])\n",
    "auc2 = metrics.auc(fpr2, tpr2)\n",
    "auc2\n",
    "\n",
    "y_pred = mnbBow.predict(testTfBrute)"
   ]
  },
  {
   "cell_type": "code",
   "execution_count": 76,
   "metadata": {},
   "outputs": [
    {
     "data": {
      "image/png": "[encoded data removed]",
      "text/plain": [
       "<Figure size 432x288 with 1 Axes>"
      ]
     },
     "metadata": {
      "needs_background": "light"
     },
     "output_type": "display_data"
    },
    {
     "data": {
      "image/png": "[encoded data removed]",
      "text/plain": [
       "<Figure size 432x288 with 2 Axes>"
      ]
     },
     "metadata": {
      "needs_background": "light"
     },
     "output_type": "display_data"
    }
   ],
   "source": [
    "# plot confusion matrix to describe the performance of classifier.\n",
    "\n",
    "plt.title(\"Roc Curve\")\n",
    "plt.plot(fpr1,tpr1,label=\"trainAuc\")\n",
    "plt.plot(fpr2,tpr2,label=\"testAuc\")\n",
    "plt.grid()\n",
    "plt.legend()\n",
    "plt.show()\n",
    "    \n",
    "# confusion matrix\n",
    "    \n",
    "cm = confusion_matrix(yTestBrute, y_pred)\n",
    "class_label = [\"negative\", \"positive\"]\n",
    "df_cm = pd.DataFrame(cm, index = class_label, columns = class_label)\n",
    "sns.heatmap(df_cm, annot = True, fmt = \"d\")\n",
    "plt.title(\"Confusiion Matrix\")\n",
    "plt.xlabel(\"Predicted Label\")\n",
    "plt.ylabel(\"True Label\")\n",
    "plt.show()\n",
    "\n"
   ]
  },
  {
   "cell_type": "code",
   "execution_count": 78,
   "metadata": {},
   "outputs": [],
   "source": [
    "tableData.add_row(['Tfidf', \"BRUTE\", 29, auc2])"
   ]
  },
  {
   "cell_type": "markdown",
   "metadata": {},
   "source": [
    "### [5.1.3] Applying KNN brute force on AVG W2V,<font color='red'> SET 3</font>"
   ]
  },
  {
   "cell_type": "code",
   "execution_count": 79,
   "metadata": {},
   "outputs": [
    {
     "name": "stdout",
     "output_type": "stream",
     "text": [
      "1  neighour done\n",
      "3  neighour done\n",
      "5  neighour done\n",
      "7  neighour done\n",
      "9  neighour done\n",
      "11  neighour done\n",
      "13  neighour done\n",
      "15  neighour done\n",
      "17  neighour done\n",
      "19  neighour done\n",
      "21  neighour done\n",
      "23  neighour done\n",
      "25  neighour done\n",
      "27  neighour done\n",
      "29  neighour done\n"
     ]
    }
   ],
   "source": [
    "from sklearn.metrics import roc_auc_score\n",
    "from sklearn.metrics import roc_curve, auc\n",
    "\n",
    "k = [i for i in range(1,30,2)]\n",
    "aucTrain = []\n",
    "aucCv = []\n",
    "for i in k:\n",
    "    model = KNeighborsClassifier(n_neighbors= i, algorithm = 'brute')\n",
    "    model.fit(trainAvgBrute, yTrainBrute)\n",
    "    \n",
    "    predTrain = model.predict_proba(trainAvgBrute)\n",
    "    \n",
    "    fpr, tpr, thresholds = metrics.roc_curve(yTrainBrute, predTrain[:,1])\n",
    "    aucTrain.append(metrics.auc(fpr, tpr))\n",
    "    \n",
    "    predCv = model.predict_proba(cvAvgBrute)\n",
    "    \n",
    "    fpr, tpr, thresholds = metrics.roc_curve(yCvBrute, predCv[:,1])\n",
    "    aucCv.append(metrics.auc(fpr, tpr))\n",
    "    print(i, \" neighour done\")"
   ]
  },
  {
   "cell_type": "code",
   "execution_count": 80,
   "metadata": {},
   "outputs": [
    {
     "data": {
      "image/png": "[encoded data removed]",
      "text/plain": [
       "<Figure size 432x288 with 1 Axes>"
      ]
     },
     "metadata": {
      "needs_background": "light"
     },
     "output_type": "display_data"
    }
   ],
   "source": [
    "plt.plot(k, aucCv, label = 'auc Cv')\n",
    "plt.plot(k, aucTrain, label = 'auc Train')\n",
    "plt.xlabel('hyperparameter')\n",
    "plt.ylabel('area under auc curve')\n",
    "plt.grid()\n",
    "plt.legend()\n",
    "plt.show()"
   ]
  },
  {
   "cell_type": "markdown",
   "metadata": {},
   "source": [
    "### Observation :-\n",
    "for k = 29 we get maximum cv roc value"
   ]
  },
  {
   "cell_type": "code",
   "execution_count": 81,
   "metadata": {},
   "outputs": [],
   "source": [
    "mnbBow = KNeighborsClassifier(n_neighbors= 29, algorithm = 'brute')\n",
    "mnbBow.fit(trainAvgBrute, yTrainBrute)\n",
    "\n",
    "pred_prob = mnbBow.predict_proba(trainAvgBrute)\n",
    "pred_prob1 = mnbBow.predict_proba(testAvgBrute)\n",
    "\n",
    "fpr1, tpr1, thresholds = metrics.roc_curve(yTrainBrute, pred_prob[:,1])\n",
    "auc1 = metrics.auc(fpr1, tpr1)\n",
    "auc1\n",
    "fpr2, tpr2, thresholds = metrics.roc_curve(yTestBrute, pred_prob1[:,1])\n",
    "auc2 = metrics.auc(fpr2, tpr2)\n",
    "auc2\n",
    "\n",
    "y_pred = mnbBow.predict(testAvgBrute)"
   ]
  },
  {
   "cell_type": "code",
   "execution_count": 82,
   "metadata": {},
   "outputs": [
    {
     "data": {
      "image/png": "[encoded data removed]",
      "text/plain": [
       "<Figure size 432x288 with 1 Axes>"
      ]
     },
     "metadata": {
      "needs_background": "light"
     },
     "output_type": "display_data"
    },
    {
     "data": {
      "image/png": "[encoded data removed]",
      "text/plain": [
       "<Figure size 432x288 with 2 Axes>"
      ]
     },
     "metadata": {
      "needs_background": "light"
     },
     "output_type": "display_data"
    }
   ],
   "source": [
    "# plot confusion matrix to describe the performance of classifier.\n",
    "\n",
    "plt.title(\"Roc Curve\")\n",
    "plt.plot(fpr1,tpr1,label=\"trainAuc\")\n",
    "plt.plot(fpr2,tpr2,label=\"testAuc\")\n",
    "plt.grid()\n",
    "plt.legend()\n",
    "plt.show()\n",
    "    \n",
    "# confusion matrix\n",
    "    \n",
    "cm = confusion_matrix(yTestBrute, y_pred)\n",
    "class_label = [\"negative\", \"positive\"]\n",
    "df_cm = pd.DataFrame(cm, index = class_label, columns = class_label)\n",
    "sns.heatmap(df_cm, annot = True, fmt = \"d\")\n",
    "plt.title(\"Confusiion Matrix\")\n",
    "plt.xlabel(\"Predicted Label\")\n",
    "plt.ylabel(\"True Label\")\n",
    "plt.show()\n",
    "\n"
   ]
  },
  {
   "cell_type": "code",
   "execution_count": 84,
   "metadata": {},
   "outputs": [],
   "source": [
    "tableData.add_row(['Avg W2v', \"BRUTE\", 29, auc2])"
   ]
  },
  {
   "cell_type": "markdown",
   "metadata": {},
   "source": [
    "### [5.1.4] Applying KNN brute force on TFIDF W2V,<font color='red'> SET 4</font>"
   ]
  },
  {
   "cell_type": "code",
   "execution_count": 85,
   "metadata": {},
   "outputs": [
    {
     "name": "stdout",
     "output_type": "stream",
     "text": [
      "1  neighour done\n",
      "3  neighour done\n",
      "5  neighour done\n",
      "7  neighour done\n",
      "9  neighour done\n",
      "11  neighour done\n",
      "13  neighour done\n",
      "15  neighour done\n",
      "17  neighour done\n",
      "19  neighour done\n",
      "21  neighour done\n",
      "23  neighour done\n",
      "25  neighour done\n",
      "27  neighour done\n",
      "29  neighour done\n"
     ]
    }
   ],
   "source": [
    "from sklearn.metrics import roc_auc_score\n",
    "from sklearn.metrics import roc_curve, auc\n",
    "\n",
    "k = [i for i in range(1,30,2)]\n",
    "aucTrain = []\n",
    "aucCv = []\n",
    "for i in k:\n",
    "    model = KNeighborsClassifier(n_neighbors= i, algorithm = 'brute')\n",
    "    model.fit(trainTfW2vBrute, yTrainBrute)\n",
    "    \n",
    "    predTrain = model.predict_proba(trainTfW2vBrute)\n",
    "    \n",
    "    fpr, tpr, thresholds = metrics.roc_curve(yTrainBrute, predTrain[:,1])\n",
    "    aucTrain.append(metrics.auc(fpr, tpr))\n",
    "    \n",
    "    predCv = model.predict_proba(cvTfW2vBrute)\n",
    "    \n",
    "    fpr, tpr, thresholds = metrics.roc_curve(yCvBrute, predCv[:,1])\n",
    "    aucCv.append(metrics.auc(fpr, tpr))\n",
    "    print(i, \" neighour done\")"
   ]
  },
  {
   "cell_type": "code",
   "execution_count": 86,
   "metadata": {},
   "outputs": [
    {
     "data": {
      "image/png": "[encoded data removed]",
      "text/plain": [
       "<Figure size 432x288 with 1 Axes>"
      ]
     },
     "metadata": {
      "needs_background": "light"
     },
     "output_type": "display_data"
    }
   ],
   "source": [
    "plt.plot(k, aucCv, label = 'auc Cv')\n",
    "plt.plot(k, aucTrain, label = 'auc Train')\n",
    "plt.xlabel('hyperparameter')\n",
    "plt.ylabel('area under auc curve')\n",
    "plt.grid()\n",
    "plt.legend()\n",
    "plt.show()"
   ]
  },
  {
   "cell_type": "markdown",
   "metadata": {},
   "source": [
    "### Observation :-\n",
    "nothing important concluded so i am taking k - 29"
   ]
  },
  {
   "cell_type": "code",
   "execution_count": 87,
   "metadata": {},
   "outputs": [],
   "source": [
    "mnbBow = KNeighborsClassifier(n_neighbors= 29, algorithm = 'brute')\n",
    "mnbBow.fit(trainTfW2vBrute, yTrainBrute)\n",
    "\n",
    "pred_prob = mnbBow.predict_proba(trainTfW2vBrute)\n",
    "pred_prob1 = mnbBow.predict_proba(testTfW2vBrute)\n",
    "\n",
    "fpr1, tpr1, thresholds = metrics.roc_curve(yTrainBrute, pred_prob[:,1])\n",
    "auc1 = metrics.auc(fpr1, tpr1)\n",
    "auc1\n",
    "fpr2, tpr2, thresholds = metrics.roc_curve(yTestBrute, pred_prob1[:,1])\n",
    "auc2 = metrics.auc(fpr2, tpr2)\n",
    "auc2\n",
    "\n",
    "y_pred = mnbBow.predict(testTfW2vBrute)"
   ]
  },
  {
   "cell_type": "code",
   "execution_count": 88,
   "metadata": {},
   "outputs": [
    {
     "data": {
      "image/png": "[encoded data removed]",
      "text/plain": [
       "<Figure size 432x288 with 1 Axes>"
      ]
     },
     "metadata": {
      "needs_background": "light"
     },
     "output_type": "display_data"
    },
    {
     "data": {
      "image/png": "[encoded data removed]",
      "text/plain": [
       "<Figure size 432x288 with 2 Axes>"
      ]
     },
     "metadata": {
      "needs_background": "light"
     },
     "output_type": "display_data"
    }
   ],
   "source": [
    "# plot confusion matrix to describe the performance of classifier.\n",
    "\n",
    "plt.title(\"Roc Curve\")\n",
    "plt.plot(fpr1,tpr1,label=\"trainAuc\")\n",
    "plt.plot(fpr2,tpr2,label=\"testAuc\")\n",
    "plt.grid()\n",
    "plt.legend()\n",
    "plt.show()\n",
    "    \n",
    "# confusion matrix\n",
    "    \n",
    "cm = confusion_matrix(yTestBrute, y_pred)\n",
    "class_label = [\"negative\", \"positive\"]\n",
    "df_cm = pd.DataFrame(cm, index = class_label, columns = class_label)\n",
    "sns.heatmap(df_cm, annot = True, fmt = \"d\")\n",
    "plt.title(\"Confusiion Matrix\")\n",
    "plt.xlabel(\"Predicted Label\")\n",
    "plt.ylabel(\"True Label\")\n",
    "plt.show()\n",
    "\n"
   ]
  },
  {
   "cell_type": "code",
   "execution_count": 89,
   "metadata": {},
   "outputs": [],
   "source": [
    "tableData.add_row(['Tfidf W2v', \"BRUTE\", 29, auc2])"
   ]
  },
  {
   "cell_type": "markdown",
   "metadata": {},
   "source": [
    "## [5.2] Applying KNN kd-tree"
   ]
  },
  {
   "cell_type": "markdown",
   "metadata": {},
   "source": [
    "### [5.2.1] Applying KNN kd-tree on BOW,<font color='red'> SET 5</font>"
   ]
  },
  {
   "cell_type": "code",
   "execution_count": 90,
   "metadata": {},
   "outputs": [
    {
     "name": "stdout",
     "output_type": "stream",
     "text": [
      "1  neighour done\n",
      "3  neighour done\n",
      "5  neighour done\n",
      "7  neighour done\n",
      "9  neighour done\n",
      "11  neighour done\n",
      "13  neighour done\n",
      "15  neighour done\n",
      "17  neighour done\n",
      "19  neighour done\n",
      "21  neighour done\n",
      "23  neighour done\n",
      "25  neighour done\n",
      "27  neighour done\n",
      "29  neighour done\n"
     ]
    }
   ],
   "source": [
    "from sklearn.metrics import roc_auc_score\n",
    "from sklearn.metrics import roc_curve, auc\n",
    "\n",
    "k = [i for i in range(1,30,2)]\n",
    "aucTrain = []\n",
    "aucCv = []\n",
    "for i in k:\n",
    "    model = KNeighborsClassifier(n_neighbors= i, algorithm = 'kd_tree')\n",
    "    model.fit(trainBowKd, yTrainKd)\n",
    "    \n",
    "    predTrain = model.predict_proba(trainBowKd)\n",
    "    \n",
    "    fpr, tpr, thresholds = metrics.roc_curve(yTrainKd, predTrain[:,1])\n",
    "    aucTrain.append(metrics.auc(fpr, tpr))\n",
    "    \n",
    "    predCv = model.predict_proba(cvBowKd)\n",
    "    \n",
    "    fpr, tpr, thresholds = metrics.roc_curve(yCvKd, predCv[:,1])\n",
    "    aucCv.append(metrics.auc(fpr, tpr))\n",
    "    print(i, \" neighour done\")"
   ]
  },
  {
   "cell_type": "code",
   "execution_count": 91,
   "metadata": {},
   "outputs": [
    {
     "data": {
      "image/png": "[encoded data removed]",
      "text/plain": [
       "<Figure size 432x288 with 1 Axes>"
      ]
     },
     "metadata": {
      "needs_background": "light"
     },
     "output_type": "display_data"
    }
   ],
   "source": [
    "plt.plot(k, aucCv, label = 'auc Cv')\n",
    "plt.plot(k, aucTrain, label = 'auc Train')\n",
    "plt.xlabel('hyperparameter')\n",
    "plt.ylabel('area under auc curve')\n",
    "plt.grid()\n",
    "plt.legend()\n",
    "plt.show()"
   ]
  },
  {
   "cell_type": "markdown",
   "metadata": {},
   "source": [
    "### Observation :-\n",
    "for k = 27 we get maximum cv roc value"
   ]
  },
  {
   "cell_type": "code",
   "execution_count": 94,
   "metadata": {},
   "outputs": [],
   "source": [
    "mnbBow = KNeighborsClassifier(n_neighbors= 27, algorithm = 'kd_tree')\n",
    "mnbBow.fit(trainBowKd, yTrainKd)\n",
    "\n",
    "pred_prob = mnbBow.predict_proba(trainBowKd)\n",
    "pred_prob1 = mnbBow.predict_proba(testBowKd)\n",
    "\n",
    "fpr1, tpr1, thresholds = metrics.roc_curve(yTrainKd, pred_prob[:,1])\n",
    "auc1 = metrics.auc(fpr1, tpr1)\n",
    "auc1\n",
    "fpr2, tpr2, thresholds = metrics.roc_curve(yTestKd, pred_prob1[:,1])\n",
    "auc2 = metrics.auc(fpr2, tpr2)\n",
    "auc2\n",
    "\n",
    "y_pred = mnbBow.predict(testBowKd)"
   ]
  },
  {
   "cell_type": "code",
   "execution_count": 96,
   "metadata": {},
   "outputs": [
    {
     "data": {
      "image/png": "[encoded data removed]",
      "text/plain": [
       "<Figure size 432x288 with 1 Axes>"
      ]
     },
     "metadata": {
      "needs_background": "light"
     },
     "output_type": "display_data"
    },
    {
     "data": {
      "image/png": "[encoded data removed]",
      "text/plain": [
       "<Figure size 432x288 with 2 Axes>"
      ]
     },
     "metadata": {
      "needs_background": "light"
     },
     "output_type": "display_data"
    }
   ],
   "source": [
    "# plot confusion matrix to describe the performance of classifier.\n",
    "\n",
    "plt.title(\"Roc Curve\")\n",
    "plt.plot(fpr1,tpr1,label=\"trainAuc\")\n",
    "plt.plot(fpr2,tpr2,label=\"testAuc\")\n",
    "plt.grid()\n",
    "plt.legend()\n",
    "plt.show()\n",
    "    \n",
    "# confusion matrix\n",
    "    \n",
    "cm = confusion_matrix(yTestKd, y_pred)\n",
    "class_label = [\"negative\", \"positive\"]\n",
    "df_cm = pd.DataFrame(cm, index = class_label, columns = class_label)\n",
    "sns.heatmap(df_cm, annot = True, fmt = \"d\")\n",
    "plt.title(\"Confusiion Matrix\")\n",
    "plt.xlabel(\"Predicted Label\")\n",
    "plt.ylabel(\"True Label\")\n",
    "plt.show()\n",
    "\n"
   ]
  },
  {
   "cell_type": "code",
   "execution_count": 98,
   "metadata": {},
   "outputs": [],
   "source": [
    "tableData.add_row(['BOW', \"kd tree\", 27, auc2])"
   ]
  },
  {
   "cell_type": "markdown",
   "metadata": {},
   "source": [
    "### [5.2.2] Applying KNN kd-tree on TFIDF,<font color='red'> SET 6</font>"
   ]
  },
  {
   "cell_type": "code",
   "execution_count": 103,
   "metadata": {},
   "outputs": [
    {
     "name": "stdout",
     "output_type": "stream",
     "text": [
      "1  neighour done\n",
      "3  neighour done\n",
      "5  neighour done\n",
      "7  neighour done\n",
      "9  neighour done\n",
      "11  neighour done\n",
      "13  neighour done\n",
      "15  neighour done\n",
      "17  neighour done\n",
      "19  neighour done\n",
      "21  neighour done\n",
      "23  neighour done\n",
      "25  neighour done\n",
      "27  neighour done\n",
      "29  neighour done\n"
     ]
    }
   ],
   "source": [
    "from sklearn.metrics import roc_auc_score\n",
    "from sklearn.metrics import roc_curve, auc\n",
    "\n",
    "k = [i for i in range(1,30,2)]\n",
    "aucTrain = []\n",
    "aucCv = []\n",
    "for i in k:\n",
    "    model = KNeighborsClassifier(n_neighbors= i, algorithm = 'kd_tree')\n",
    "    model.fit(trainTfKd, yTrainKd)\n",
    "    \n",
    "    predTrain = model.predict_proba(trainTfKd)\n",
    "    \n",
    "    fpr, tpr, thresholds = metrics.roc_curve(yTrainKd, predTrain[:,1])\n",
    "    aucTrain.append(metrics.auc(fpr, tpr))\n",
    "    \n",
    "    predCv = model.predict_proba(cvTfKd)\n",
    "    \n",
    "    fpr, tpr, thresholds = metrics.roc_curve(yCvKd, predCv[:,1])\n",
    "    aucCv.append(metrics.auc(fpr, tpr))\n",
    "    print(i, \" neighour done\")"
   ]
  },
  {
   "cell_type": "code",
   "execution_count": 104,
   "metadata": {},
   "outputs": [
    {
     "data": {
      "image/png": "[encoded data removed]",
      "text/plain": [
       "<Figure size 432x288 with 1 Axes>"
      ]
     },
     "metadata": {
      "needs_background": "light"
     },
     "output_type": "display_data"
    }
   ],
   "source": [
    "plt.plot(k, aucCv, label = 'auc Cv')\n",
    "plt.plot(k, aucTrain, label = 'auc Train')\n",
    "plt.xlabel('hyperparameter')\n",
    "plt.ylabel('area under auc curve')\n",
    "plt.grid()\n",
    "plt.legend()\n",
    "plt.show()"
   ]
  },
  {
   "cell_type": "markdown",
   "metadata": {},
   "source": [
    "### Observation :-\n",
    "for k = 29 we get maximum cv roc value"
   ]
  },
  {
   "cell_type": "code",
   "execution_count": 106,
   "metadata": {},
   "outputs": [],
   "source": [
    "mnbBow = KNeighborsClassifier(n_neighbors= 29, algorithm = 'kd_tree')\n",
    "mnbBow.fit(trainTfKd, yTrainKd)\n",
    "\n",
    "pred_prob = mnbBow.predict_proba(trainTfKd)\n",
    "pred_prob1 = mnbBow.predict_proba(testTfKd)\n",
    "\n",
    "fpr1, tpr1, thresholds = metrics.roc_curve(yTrainKd, pred_prob[:,1])\n",
    "auc1 = metrics.auc(fpr1, tpr1)\n",
    "auc1\n",
    "fpr2, tpr2, thresholds = metrics.roc_curve(yTestKd, pred_prob1[:,1])\n",
    "auc2 = metrics.auc(fpr2, tpr2)\n",
    "auc2\n",
    "\n",
    "y_pred = mnbBow.predict(testTfKd)"
   ]
  },
  {
   "cell_type": "code",
   "execution_count": 107,
   "metadata": {},
   "outputs": [
    {
     "data": {
      "image/png": "[encoded data removed]",
      "text/plain": [
       "<Figure size 432x288 with 1 Axes>"
      ]
     },
     "metadata": {
      "needs_background": "light"
     },
     "output_type": "display_data"
    },
    {
     "data": {
      "image/png": "[encoded data removed]",
      "text/plain": [
       "<Figure size 432x288 with 2 Axes>"
      ]
     },
     "metadata": {
      "needs_background": "light"
     },
     "output_type": "display_data"
    }
   ],
   "source": [
    "# plot confusion matrix to describe the performance of classifier.\n",
    "\n",
    "plt.title(\"Roc Curve\")\n",
    "plt.plot(fpr1,tpr1,label=\"trainAuc\")\n",
    "plt.plot(fpr2,tpr2,label=\"testAuc\")\n",
    "plt.grid()\n",
    "plt.legend()\n",
    "plt.show()\n",
    "    \n",
    "# confusion matrix\n",
    "    \n",
    "cm = confusion_matrix(yTestKd, y_pred)\n",
    "class_label = [\"negative\", \"positive\"]\n",
    "df_cm = pd.DataFrame(cm, index = class_label, columns = class_label)\n",
    "sns.heatmap(df_cm, annot = True, fmt = \"d\")\n",
    "plt.title(\"Confusiion Matrix\")\n",
    "plt.xlabel(\"Predicted Label\")\n",
    "plt.ylabel(\"True Label\")\n",
    "plt.show()\n",
    "\n"
   ]
  },
  {
   "cell_type": "code",
   "execution_count": 108,
   "metadata": {},
   "outputs": [],
   "source": [
    "tableData.add_row(['Tf idf', \"kd tree\", 29, auc2])"
   ]
  },
  {
   "cell_type": "markdown",
   "metadata": {},
   "source": [
    "### [5.2.3] Applying KNN kd-tree on AVG W2V,<font color='red'> SET 3</font>"
   ]
  },
  {
   "cell_type": "code",
   "execution_count": 109,
   "metadata": {},
   "outputs": [
    {
     "name": "stdout",
     "output_type": "stream",
     "text": [
      "1  neighour done\n",
      "3  neighour done\n",
      "5  neighour done\n",
      "7  neighour done\n",
      "9  neighour done\n",
      "11  neighour done\n",
      "13  neighour done\n",
      "15  neighour done\n",
      "17  neighour done\n",
      "19  neighour done\n",
      "21  neighour done\n",
      "23  neighour done\n",
      "25  neighour done\n",
      "27  neighour done\n",
      "29  neighour done\n"
     ]
    }
   ],
   "source": [
    "k = [i for i in range(1,30,2)]\n",
    "aucTrain = []\n",
    "aucCv = []\n",
    "for i in k:\n",
    "    model = KNeighborsClassifier(n_neighbors= i, algorithm = 'kd_tree')\n",
    "    model.fit(trainAvgKd, yTrainKd)\n",
    "    \n",
    "    predTrain = model.predict_proba(trainAvgKd)\n",
    "    \n",
    "    fpr, tpr, thresholds = metrics.roc_curve(yTrainKd, predTrain[:,1])\n",
    "    aucTrain.append(metrics.auc(fpr, tpr))\n",
    "    \n",
    "    predCv = model.predict_proba(cvAvgKd)\n",
    "    \n",
    "    fpr, tpr, thresholds = metrics.roc_curve(yCvKd, predCv[:,1])\n",
    "    aucCv.append(metrics.auc(fpr, tpr))\n",
    "    print(i, \" neighour done\")"
   ]
  },
  {
   "cell_type": "code",
   "execution_count": 110,
   "metadata": {},
   "outputs": [
    {
     "data": {
      "image/png": "[encoded data removed]",
      "text/plain": [
       "<Figure size 432x288 with 1 Axes>"
      ]
     },
     "metadata": {
      "needs_background": "light"
     },
     "output_type": "display_data"
    }
   ],
   "source": [
    "plt.plot(k, aucCv, label = 'auc Cv')\n",
    "plt.plot(k, aucTrain, label = 'auc Train')\n",
    "plt.xlabel('hyperparameter')\n",
    "plt.ylabel('area under auc curve')\n",
    "plt.grid()\n",
    "plt.legend()\n",
    "plt.show()"
   ]
  },
  {
   "cell_type": "markdown",
   "metadata": {},
   "source": [
    "### Observation :-\n",
    "for k = 27 we get maximum cv roc value"
   ]
  },
  {
   "cell_type": "code",
   "execution_count": 112,
   "metadata": {},
   "outputs": [],
   "source": [
    "mnbBow = KNeighborsClassifier(n_neighbors= 27, algorithm = 'kd_tree')\n",
    "mnbBow.fit(trainAvgKd, yTrainKd)\n",
    "\n",
    "pred_prob = mnbBow.predict_proba(trainAvgKd)\n",
    "pred_prob1 = mnbBow.predict_proba(testAvgKd)\n",
    "\n",
    "fpr1, tpr1, thresholds = metrics.roc_curve(yTrainKd, pred_prob[:,1])\n",
    "auc1 = metrics.auc(fpr1, tpr1)\n",
    "auc1\n",
    "fpr2, tpr2, thresholds = metrics.roc_curve(yTestKd, pred_prob1[:,1])\n",
    "auc2 = metrics.auc(fpr2, tpr2)\n",
    "auc2\n",
    "\n",
    "y_pred = mnbBow.predict(testAvgKd)"
   ]
  },
  {
   "cell_type": "code",
   "execution_count": 113,
   "metadata": {},
   "outputs": [
    {
     "data": {
      "image/png": "[encoded data removed]",
      "text/plain": [
       "<Figure size 432x288 with 1 Axes>"
      ]
     },
     "metadata": {
      "needs_background": "light"
     },
     "output_type": "display_data"
    },
    {
     "data": {
      "image/png": "[encoded data removed]",
      "text/plain": [
       "<Figure size 432x288 with 2 Axes>"
      ]
     },
     "metadata": {
      "needs_background": "light"
     },
     "output_type": "display_data"
    }
   ],
   "source": [
    "# plot confusion matrix to describe the performance of classifier.\n",
    "\n",
    "plt.title(\"Roc Curve\")\n",
    "plt.plot(fpr1,tpr1,label=\"trainAuc\")\n",
    "plt.plot(fpr2,tpr2,label=\"testAuc\")\n",
    "plt.grid()\n",
    "plt.legend()\n",
    "plt.show()\n",
    "    \n",
    "# confusion matrix\n",
    "    \n",
    "cm = confusion_matrix(yTestKd, y_pred)\n",
    "class_label = [\"negative\", \"positive\"]\n",
    "df_cm = pd.DataFrame(cm, index = class_label, columns = class_label)\n",
    "sns.heatmap(df_cm, annot = True, fmt = \"d\")\n",
    "plt.title(\"Confusiion Matrix\")\n",
    "plt.xlabel(\"Predicted Label\")\n",
    "plt.ylabel(\"True Label\")\n",
    "plt.show()\n",
    "\n"
   ]
  },
  {
   "cell_type": "code",
   "execution_count": 114,
   "metadata": {},
   "outputs": [],
   "source": [
    "tableData.add_row(['Avg W2v', \"kd tree\", 27, auc2])"
   ]
  },
  {
   "cell_type": "markdown",
   "metadata": {},
   "source": [
    "### [5.2.4] Applying KNN kd-tree on TFIDF W2V,<font color='red'> SET 4</font>"
   ]
  },
  {
   "cell_type": "code",
   "execution_count": 115,
   "metadata": {},
   "outputs": [
    {
     "name": "stdout",
     "output_type": "stream",
     "text": [
      "1  neighour done\n",
      "3  neighour done\n",
      "5  neighour done\n",
      "7  neighour done\n",
      "9  neighour done\n",
      "11  neighour done\n",
      "13  neighour done\n",
      "15  neighour done\n",
      "17  neighour done\n",
      "19  neighour done\n",
      "21  neighour done\n",
      "23  neighour done\n",
      "25  neighour done\n",
      "27  neighour done\n",
      "29  neighour done\n"
     ]
    }
   ],
   "source": [
    "k = [i for i in range(1,30,2)]\n",
    "aucTrain = []\n",
    "aucCv = []\n",
    "for i in k:\n",
    "    model = KNeighborsClassifier(n_neighbors= i, algorithm = 'kd_tree')\n",
    "    model.fit(trainTfW2vKd, yTrainKd)\n",
    "    \n",
    "    predTrain = model.predict_proba(trainTfW2vKd)\n",
    "    \n",
    "    fpr, tpr, thresholds = metrics.roc_curve(yTrainKd, predTrain[:,1])\n",
    "    aucTrain.append(metrics.auc(fpr, tpr))\n",
    "    \n",
    "    predCv = model.predict_proba(cvTfW2vKd)\n",
    "    \n",
    "    fpr, tpr, thresholds = metrics.roc_curve(yCvKd, predCv[:,1])\n",
    "    aucCv.append(metrics.auc(fpr, tpr))\n",
    "    print(i, \" neighour done\")"
   ]
  },
  {
   "cell_type": "code",
   "execution_count": 116,
   "metadata": {},
   "outputs": [
    {
     "data": {
      "image/png": "[encoded data removed]",
      "text/plain": [
       "<Figure size 432x288 with 1 Axes>"
      ]
     },
     "metadata": {
      "needs_background": "light"
     },
     "output_type": "display_data"
    }
   ],
   "source": [
    "plt.plot(k, aucCv, label = 'auc Cv')\n",
    "plt.plot(k, aucTrain, label = 'auc Train')\n",
    "plt.xlabel('hyperparameter')\n",
    "plt.ylabel('area under auc curve')\n",
    "plt.grid()\n",
    "plt.legend()\n",
    "plt.show()"
   ]
  },
  {
   "cell_type": "markdown",
   "metadata": {},
   "source": [
    "### Observation :-\n",
    "nothing important concluded so i am taking k = 29"
   ]
  },
  {
   "cell_type": "code",
   "execution_count": 117,
   "metadata": {},
   "outputs": [],
   "source": [
    "mnbBow = KNeighborsClassifier(n_neighbors= 29, algorithm = 'kd_tree')\n",
    "mnbBow.fit(trainTfW2vKd, yTrainKd)\n",
    "\n",
    "pred_prob = mnbBow.predict_proba(trainTfW2vKd)\n",
    "pred_prob1 = mnbBow.predict_proba(testTfW2vKd)\n",
    "\n",
    "fpr1, tpr1, thresholds = metrics.roc_curve(yTrainKd, pred_prob[:,1])\n",
    "auc1 = metrics.auc(fpr1, tpr1)\n",
    "auc1\n",
    "fpr2, tpr2, thresholds = metrics.roc_curve(yTestKd, pred_prob1[:,1])\n",
    "auc2 = metrics.auc(fpr2, tpr2)\n",
    "auc2\n",
    "\n",
    "y_pred = mnbBow.predict(testTfW2vKd)"
   ]
  },
  {
   "cell_type": "code",
   "execution_count": 118,
   "metadata": {},
   "outputs": [
    {
     "data": {
      "image/png": "[encoded data removed]",
      "text/plain": [
       "<Figure size 432x288 with 1 Axes>"
      ]
     },
     "metadata": {
      "needs_background": "light"
     },
     "output_type": "display_data"
    },
    {
     "data": {
      "image/png": "[encoded data removed]",
      "text/plain": [
       "<Figure size 432x288 with 2 Axes>"
      ]
     },
     "metadata": {
      "needs_background": "light"
     },
     "output_type": "display_data"
    }
   ],
   "source": [
    "# plot confusion matrix to describe the performance of classifier.\n",
    "\n",
    "plt.title(\"Roc Curve\")\n",
    "plt.plot(fpr1,tpr1,label=\"trainAuc\")\n",
    "plt.plot(fpr2,tpr2,label=\"testAuc\")\n",
    "plt.grid()\n",
    "plt.legend()\n",
    "plt.show()\n",
    "    \n",
    "# confusion matrix\n",
    "    \n",
    "cm = confusion_matrix(yTestKd, y_pred)\n",
    "class_label = [\"negative\", \"positive\"]\n",
    "df_cm = pd.DataFrame(cm, index = class_label, columns = class_label)\n",
    "sns.heatmap(df_cm, annot = True, fmt = \"d\")\n",
    "plt.title(\"Confusiion Matrix\")\n",
    "plt.xlabel(\"Predicted Label\")\n",
    "plt.ylabel(\"True Label\")\n",
    "plt.show()\n",
    "\n"
   ]
  },
  {
   "cell_type": "code",
   "execution_count": 119,
   "metadata": {},
   "outputs": [],
   "source": [
    "tableData.add_row(['Tf w2v', \"kd tree\", 29, auc2])"
   ]
  },
  {
   "cell_type": "markdown",
   "metadata": {},
   "source": [
    "# [6] Conclusions"
   ]
  },
  {
   "cell_type": "code",
   "execution_count": 120,
   "metadata": {},
   "outputs": [
    {
     "name": "stdout",
     "output_type": "stream",
     "text": [
      "+------------+---------+----+--------------------+\n",
      "| Vectorizer |  Model  | K  |        AUC         |\n",
      "+------------+---------+----+--------------------+\n",
      "|    BOW     |  BRUTE  | 29 | 0.7151668057279776 |\n",
      "|   Tfidf    |  BRUTE  | 29 | 0.7477223216573889 |\n",
      "|  Avg W2v   |  BRUTE  | 29 | 0.7958826800438613 |\n",
      "| Tfidf W2v  |  BRUTE  | 29 |        0.5         |\n",
      "|    BOW     | kd tree | 27 | 0.7327948881154036 |\n",
      "|   Tf idf   | kd tree | 29 | 0.7284836946860791 |\n",
      "|  Avg W2v   | kd tree | 27 | 0.7467010593691442 |\n",
      "|   Tf w2v   | kd tree | 29 |        0.5         |\n",
      "+------------+---------+----+--------------------+\n"
     ]
    }
   ],
   "source": [
    "print(tableData)"
   ]
  },
  {
   "cell_type": "markdown",
   "metadata": {},
   "source": [
    "1. for brute knn we get maximum auc in the avg w2v with k = 29\n",
    "2. for kd-tree knn we get  maximum auc in the avg w2v with k = 27"
   ]
  }
 ],
 "metadata": {
  "kernelspec": {
   "display_name": "Python 3",
   "language": "python",
   "name": "python3"
  },
  "language_info": {
   "codemirror_mode": {
    "name": "ipython",
    "version": 3
   },
   "file_extension": ".py",
   "mimetype": "text/x-python",
   "name": "python",
   "nbconvert_exporter": "python",
   "pygments_lexer": "ipython3",
   "version": "3.7.1"
  }
 },
 "nbformat": 4,
 "nbformat_minor": 2
}
