{
 "cells": [
  {
   "cell_type": "markdown",
   "metadata": {},
   "source": [
    "# Amazon Fine Food Reviews Analysis\n",
    "\n",
    "\n",
    "Data Source: https://www.kaggle.com/snap/amazon-fine-food-reviews <br>\n",
    "\n",
    "EDA: https://nycdatascience.com/blog/student-works/amazon-fine-foods-visualization/\n",
    "\n",
    "\n",
    "The Amazon Fine Food Reviews dataset consists of reviews of fine foods from Amazon.<br>\n",
    "\n",
    "Number of reviews: 568,454<br>\n",
    "Number of users: 256,059<br>\n",
    "Number of products: 74,258<br>\n",
    "Timespan: Oct 1999 - Oct 2012<br>\n",
    "Number of Attributes/Columns in data: 10 \n",
    "\n",
    "Attribute Information:\n",
    "\n",
    "1. Id\n",
    "2. ProductId - unique identifier for the product\n",
    "3. UserId - unqiue identifier for the user\n",
    "4. ProfileName\n",
    "5. HelpfulnessNumerator - number of users who found the review helpful\n",
    "6. HelpfulnessDenominator - number of users who indicated whether they found the review helpful or not\n",
    "7. Score - rating between 1 and 5\n",
    "8. Time - timestamp for the review\n",
    "9. Summary - brief summary of the review\n",
    "10. Text - text of the review\n",
    "\n",
    "\n",
    "#### Objective:\n",
    "Given a review, determine whether the review is positive (rating of 4 or 5) or negative (rating of 1 or 2).\n",
    "\n",
    "<br>\n",
    "[Q] How to determine if a review is positive or negative?<br>\n",
    "<br> \n",
    "[Ans] We could use Score/Rating. A rating of 4 or 5 can be cosnidered as a positive review. A rating of 1 or 2 can be considered as negative one. A review of rating 3 is considered nuetral and such reviews are ignored from our analysis. This is an approximate and proxy way of determining the polarity (positivity/negativity) of a review.\n",
    "\n",
    "\n"
   ]
  },
  {
   "cell_type": "markdown",
   "metadata": {},
   "source": [
    "# [1]. Reading Preproccessed Data"
   ]
  },
  {
   "cell_type": "markdown",
   "metadata": {},
   "source": [
    "## [1.1] Loading the data\n",
    "\n",
    "The dataset is available in one forms\n",
    ". SQLite Database\n",
    "\n",
    "In order to load the data, We have used the SQLITE dataset as it is easier to query the data and visualise the data efficiently.\n",
    "<br> \n",
    "\n",
    "Here as we only want to get the global sentiment of the recommendations (positive or negative), we will purposefully ignore all Scores equal to 3. If the score is above 3, then the recommendation wil be set to \"positive\". Otherwise, it will be set to \"negative\"."
   ]
  },
  {
   "cell_type": "code",
   "execution_count": 21,
   "metadata": {},
   "outputs": [],
   "source": [
    "%matplotlib inline\n",
    "import warnings\n",
    "warnings.filterwarnings(\"ignore\")\n",
    "\n",
    "\n",
    "import sqlite3\n",
    "import pandas as pd\n",
    "import numpy as np\n",
    "import nltk\n",
    "import string\n",
    "import matplotlib.pyplot as plt\n",
    "import seaborn as sns\n",
    "from sklearn.feature_extraction.text import TfidfTransformer\n",
    "from sklearn.feature_extraction.text import TfidfVectorizer\n",
    "from sklearn.metrics import roc_auc_score\n",
    "from sklearn.feature_extraction.text import CountVectorizer\n",
    "from sklearn.metrics import confusion_matrix\n",
    "from sklearn import metrics\n",
    "from sklearn.metrics import roc_curve, auc\n",
    "from nltk.stem.porter import PorterStemmer\n",
    "from sklearn.naive_bayes import MultinomialNB\n",
    "\n",
    "\n",
    "import re\n",
    "# Tutorial about Python regular expressions: https://pymotw.com/2/re/\n",
    "import string\n",
    "from nltk.corpus import stopwords\n",
    "from nltk.stem import PorterStemmer\n",
    "from nltk.stem.wordnet import WordNetLemmatizer\n",
    "\n",
    "\n",
    "from gensim.models import Word2Vec\n",
    "from gensim.models import KeyedVectors\n",
    "import pickle\n",
    "\n",
    "import os"
   ]
  },
  {
   "cell_type": "code",
   "execution_count": 2,
   "metadata": {},
   "outputs": [],
   "source": [
    "# loading previous cleaned dataset\n",
    "import sqlite3\n",
    "con = sqlite3.connect(\"final.sqlite\")"
   ]
  },
  {
   "cell_type": "code",
   "execution_count": 3,
   "metadata": {},
   "outputs": [],
   "source": [
    "data = pd.read_sql_query(\"select * from Reviews\", con)"
   ]
  },
  {
   "cell_type": "code",
   "execution_count": 4,
   "metadata": {
    "scrolled": true
   },
   "outputs": [
    {
     "name": "stdout",
     "output_type": "stream",
     "text": [
      "(364171, 12)\n"
     ]
    },
    {
     "data": {
      "text/html": [
       "<div>\n",
       "<style scoped>\n",
       "    .dataframe tbody tr th:only-of-type {\n",
       "        vertical-align: middle;\n",
       "    }\n",
       "\n",
       "    .dataframe tbody tr th {\n",
       "        vertical-align: top;\n",
       "    }\n",
       "\n",
       "    .dataframe thead th {\n",
       "        text-align: right;\n",
       "    }\n",
       "</style>\n",
       "<table border=\"1\" class=\"dataframe\">\n",
       "  <thead>\n",
       "    <tr style=\"text-align: right;\">\n",
       "      <th></th>\n",
       "      <th>index</th>\n",
       "      <th>Id</th>\n",
       "      <th>ProductId</th>\n",
       "      <th>UserId</th>\n",
       "      <th>ProfileName</th>\n",
       "      <th>HelpfulnessNumerator</th>\n",
       "      <th>HelpfulnessDenominator</th>\n",
       "      <th>Score</th>\n",
       "      <th>Time</th>\n",
       "      <th>Summary</th>\n",
       "      <th>Text</th>\n",
       "      <th>CleanedText</th>\n",
       "    </tr>\n",
       "  </thead>\n",
       "  <tbody>\n",
       "    <tr>\n",
       "      <th>0</th>\n",
       "      <td>138706</td>\n",
       "      <td>150524</td>\n",
       "      <td>0006641040</td>\n",
       "      <td>ACITT7DI6IDDL</td>\n",
       "      <td>shari zychinski</td>\n",
       "      <td>0</td>\n",
       "      <td>0</td>\n",
       "      <td>positive</td>\n",
       "      <td>939340800</td>\n",
       "      <td>EVERY book is educational</td>\n",
       "      <td>this witty little book makes my son laugh at l...</td>\n",
       "      <td>witti littl book make son laugh loud recit car...</td>\n",
       "    </tr>\n",
       "    <tr>\n",
       "      <th>1</th>\n",
       "      <td>138683</td>\n",
       "      <td>150501</td>\n",
       "      <td>0006641040</td>\n",
       "      <td>AJ46FKXOVC7NR</td>\n",
       "      <td>Nicholas A Mesiano</td>\n",
       "      <td>2</td>\n",
       "      <td>2</td>\n",
       "      <td>positive</td>\n",
       "      <td>940809600</td>\n",
       "      <td>This whole series is great way to spend time w...</td>\n",
       "      <td>I can remember seeing the show when it aired o...</td>\n",
       "      <td>rememb see show air televis year ago child sis...</td>\n",
       "    </tr>\n",
       "    <tr>\n",
       "      <th>2</th>\n",
       "      <td>417839</td>\n",
       "      <td>451856</td>\n",
       "      <td>B00004CXX9</td>\n",
       "      <td>AIUWLEQ1ADEG5</td>\n",
       "      <td>Elizabeth Medina</td>\n",
       "      <td>0</td>\n",
       "      <td>0</td>\n",
       "      <td>positive</td>\n",
       "      <td>944092800</td>\n",
       "      <td>Entertainingl Funny!</td>\n",
       "      <td>Beetlejuice is a well written movie ..... ever...</td>\n",
       "      <td>beetlejuic well written movi everyth excel act...</td>\n",
       "    </tr>\n",
       "    <tr>\n",
       "      <th>3</th>\n",
       "      <td>346055</td>\n",
       "      <td>374359</td>\n",
       "      <td>B00004CI84</td>\n",
       "      <td>A344SMIA5JECGM</td>\n",
       "      <td>Vincent P. Ross</td>\n",
       "      <td>1</td>\n",
       "      <td>2</td>\n",
       "      <td>positive</td>\n",
       "      <td>944438400</td>\n",
       "      <td>A modern day fairy tale</td>\n",
       "      <td>A twist of rumplestiskin captured on film, sta...</td>\n",
       "      <td>twist rumplestiskin captur film star michael k...</td>\n",
       "    </tr>\n",
       "    <tr>\n",
       "      <th>4</th>\n",
       "      <td>417838</td>\n",
       "      <td>451855</td>\n",
       "      <td>B00004CXX9</td>\n",
       "      <td>AJH6LUC1UT1ON</td>\n",
       "      <td>The Phantom of the Opera</td>\n",
       "      <td>0</td>\n",
       "      <td>0</td>\n",
       "      <td>positive</td>\n",
       "      <td>946857600</td>\n",
       "      <td>FANTASTIC!</td>\n",
       "      <td>Beetlejuice is an excellent and funny movie. K...</td>\n",
       "      <td>beetlejuic excel funni movi keaton hilari wack...</td>\n",
       "    </tr>\n",
       "  </tbody>\n",
       "</table>\n",
       "</div>"
      ],
      "text/plain": [
       "    index      Id   ProductId          UserId               ProfileName  \\\n",
       "0  138706  150524  0006641040   ACITT7DI6IDDL           shari zychinski   \n",
       "1  138683  150501  0006641040   AJ46FKXOVC7NR        Nicholas A Mesiano   \n",
       "2  417839  451856  B00004CXX9   AIUWLEQ1ADEG5          Elizabeth Medina   \n",
       "3  346055  374359  B00004CI84  A344SMIA5JECGM           Vincent P. Ross   \n",
       "4  417838  451855  B00004CXX9   AJH6LUC1UT1ON  The Phantom of the Opera   \n",
       "\n",
       "   HelpfulnessNumerator  HelpfulnessDenominator     Score       Time  \\\n",
       "0                     0                       0  positive  939340800   \n",
       "1                     2                       2  positive  940809600   \n",
       "2                     0                       0  positive  944092800   \n",
       "3                     1                       2  positive  944438400   \n",
       "4                     0                       0  positive  946857600   \n",
       "\n",
       "                                             Summary  \\\n",
       "0                          EVERY book is educational   \n",
       "1  This whole series is great way to spend time w...   \n",
       "2                               Entertainingl Funny!   \n",
       "3                            A modern day fairy tale   \n",
       "4                                         FANTASTIC!   \n",
       "\n",
       "                                                Text  \\\n",
       "0  this witty little book makes my son laugh at l...   \n",
       "1  I can remember seeing the show when it aired o...   \n",
       "2  Beetlejuice is a well written movie ..... ever...   \n",
       "3  A twist of rumplestiskin captured on film, sta...   \n",
       "4  Beetlejuice is an excellent and funny movie. K...   \n",
       "\n",
       "                                         CleanedText  \n",
       "0  witti littl book make son laugh loud recit car...  \n",
       "1  rememb see show air televis year ago child sis...  \n",
       "2  beetlejuic well written movi everyth excel act...  \n",
       "3  twist rumplestiskin captur film star michael k...  \n",
       "4  beetlejuic excel funni movi keaton hilari wack...  "
      ]
     },
     "execution_count": 4,
     "metadata": {},
     "output_type": "execute_result"
    }
   ],
   "source": [
    "print(data.shape)\n",
    "data.head()"
   ]
  },
  {
   "cell_type": "code",
   "execution_count": 5,
   "metadata": {},
   "outputs": [
    {
     "data": {
      "text/html": [
       "<div>\n",
       "<style scoped>\n",
       "    .dataframe tbody tr th:only-of-type {\n",
       "        vertical-align: middle;\n",
       "    }\n",
       "\n",
       "    .dataframe tbody tr th {\n",
       "        vertical-align: top;\n",
       "    }\n",
       "\n",
       "    .dataframe thead th {\n",
       "        text-align: right;\n",
       "    }\n",
       "</style>\n",
       "<table border=\"1\" class=\"dataframe\">\n",
       "  <thead>\n",
       "    <tr style=\"text-align: right;\">\n",
       "      <th></th>\n",
       "      <th>index</th>\n",
       "      <th>Id</th>\n",
       "      <th>ProductId</th>\n",
       "      <th>UserId</th>\n",
       "      <th>ProfileName</th>\n",
       "      <th>HelpfulnessNumerator</th>\n",
       "      <th>HelpfulnessDenominator</th>\n",
       "      <th>Score</th>\n",
       "      <th>Time</th>\n",
       "      <th>Summary</th>\n",
       "      <th>Text</th>\n",
       "      <th>CleanedText</th>\n",
       "    </tr>\n",
       "  </thead>\n",
       "  <tbody>\n",
       "    <tr>\n",
       "      <th>0</th>\n",
       "      <td>138706</td>\n",
       "      <td>150524</td>\n",
       "      <td>0006641040</td>\n",
       "      <td>ACITT7DI6IDDL</td>\n",
       "      <td>shari zychinski</td>\n",
       "      <td>0</td>\n",
       "      <td>0</td>\n",
       "      <td>1</td>\n",
       "      <td>1999-10-08</td>\n",
       "      <td>EVERY book is educational</td>\n",
       "      <td>this witty little book makes my son laugh at l...</td>\n",
       "      <td>witti littl book make son laugh loud recit car...</td>\n",
       "    </tr>\n",
       "    <tr>\n",
       "      <th>1</th>\n",
       "      <td>138683</td>\n",
       "      <td>150501</td>\n",
       "      <td>0006641040</td>\n",
       "      <td>AJ46FKXOVC7NR</td>\n",
       "      <td>Nicholas A Mesiano</td>\n",
       "      <td>2</td>\n",
       "      <td>2</td>\n",
       "      <td>1</td>\n",
       "      <td>1999-10-25</td>\n",
       "      <td>This whole series is great way to spend time w...</td>\n",
       "      <td>I can remember seeing the show when it aired o...</td>\n",
       "      <td>rememb see show air televis year ago child sis...</td>\n",
       "    </tr>\n",
       "    <tr>\n",
       "      <th>2</th>\n",
       "      <td>417839</td>\n",
       "      <td>451856</td>\n",
       "      <td>B00004CXX9</td>\n",
       "      <td>AIUWLEQ1ADEG5</td>\n",
       "      <td>Elizabeth Medina</td>\n",
       "      <td>0</td>\n",
       "      <td>0</td>\n",
       "      <td>1</td>\n",
       "      <td>1999-12-02</td>\n",
       "      <td>Entertainingl Funny!</td>\n",
       "      <td>Beetlejuice is a well written movie ..... ever...</td>\n",
       "      <td>beetlejuic well written movi everyth excel act...</td>\n",
       "    </tr>\n",
       "    <tr>\n",
       "      <th>3</th>\n",
       "      <td>346055</td>\n",
       "      <td>374359</td>\n",
       "      <td>B00004CI84</td>\n",
       "      <td>A344SMIA5JECGM</td>\n",
       "      <td>Vincent P. Ross</td>\n",
       "      <td>1</td>\n",
       "      <td>2</td>\n",
       "      <td>1</td>\n",
       "      <td>1999-12-06</td>\n",
       "      <td>A modern day fairy tale</td>\n",
       "      <td>A twist of rumplestiskin captured on film, sta...</td>\n",
       "      <td>twist rumplestiskin captur film star michael k...</td>\n",
       "    </tr>\n",
       "    <tr>\n",
       "      <th>4</th>\n",
       "      <td>417838</td>\n",
       "      <td>451855</td>\n",
       "      <td>B00004CXX9</td>\n",
       "      <td>AJH6LUC1UT1ON</td>\n",
       "      <td>The Phantom of the Opera</td>\n",
       "      <td>0</td>\n",
       "      <td>0</td>\n",
       "      <td>1</td>\n",
       "      <td>2000-01-03</td>\n",
       "      <td>FANTASTIC!</td>\n",
       "      <td>Beetlejuice is an excellent and funny movie. K...</td>\n",
       "      <td>beetlejuic excel funni movi keaton hilari wack...</td>\n",
       "    </tr>\n",
       "  </tbody>\n",
       "</table>\n",
       "</div>"
      ],
      "text/plain": [
       "    index      Id   ProductId          UserId               ProfileName  \\\n",
       "0  138706  150524  0006641040   ACITT7DI6IDDL           shari zychinski   \n",
       "1  138683  150501  0006641040   AJ46FKXOVC7NR        Nicholas A Mesiano   \n",
       "2  417839  451856  B00004CXX9   AIUWLEQ1ADEG5          Elizabeth Medina   \n",
       "3  346055  374359  B00004CI84  A344SMIA5JECGM           Vincent P. Ross   \n",
       "4  417838  451855  B00004CXX9   AJH6LUC1UT1ON  The Phantom of the Opera   \n",
       "\n",
       "   HelpfulnessNumerator  HelpfulnessDenominator  Score       Time  \\\n",
       "0                     0                       0      1 1999-10-08   \n",
       "1                     2                       2      1 1999-10-25   \n",
       "2                     0                       0      1 1999-12-02   \n",
       "3                     1                       2      1 1999-12-06   \n",
       "4                     0                       0      1 2000-01-03   \n",
       "\n",
       "                                             Summary  \\\n",
       "0                          EVERY book is educational   \n",
       "1  This whole series is great way to spend time w...   \n",
       "2                               Entertainingl Funny!   \n",
       "3                            A modern day fairy tale   \n",
       "4                                         FANTASTIC!   \n",
       "\n",
       "                                                Text  \\\n",
       "0  this witty little book makes my son laugh at l...   \n",
       "1  I can remember seeing the show when it aired o...   \n",
       "2  Beetlejuice is a well written movie ..... ever...   \n",
       "3  A twist of rumplestiskin captured on film, sta...   \n",
       "4  Beetlejuice is an excellent and funny movie. K...   \n",
       "\n",
       "                                         CleanedText  \n",
       "0  witti littl book make son laugh loud recit car...  \n",
       "1  rememb see show air televis year ago child sis...  \n",
       "2  beetlejuic well written movi everyth excel act...  \n",
       "3  twist rumplestiskin captur film star michael k...  \n",
       "4  beetlejuic excel funni movi keaton hilari wack...  "
      ]
     },
     "execution_count": 5,
     "metadata": {},
     "output_type": "execute_result"
    }
   ],
   "source": [
    "final = data\n",
    "# Sort data based on time\n",
    "final[\"Time\"] = pd.to_datetime(final[\"Time\"], unit = \"s\")\n",
    "final = final.sort_values(by = \"Time\")\n",
    "final['Score'] = (final.Score.str.match('positive')).astype(int)\n",
    "final.head()\n"
   ]
  },
  {
   "cell_type": "code",
   "execution_count": 6,
   "metadata": {},
   "outputs": [
    {
     "name": "stdout",
     "output_type": "stream",
     "text": [
      "+------------+-------+-------+-----+\n",
      "| Vectorizer | Model | alpha | AUC |\n",
      "+------------+-------+-------+-----+\n",
      "+------------+-------+-------+-----+\n"
     ]
    }
   ],
   "source": [
    "#initialing the table\n",
    "from prettytable import PrettyTable\n",
    "tableData = PrettyTable()\n",
    "tableData.field_names = [\"Vectorizer\", \"Model\", \"alpha\", \"AUC\"]\n",
    "print(tableData)"
   ]
  },
  {
   "cell_type": "markdown",
   "metadata": {},
   "source": [
    "<h2><font color='red'>[3.2] Dividing the data into 60:20:20 ratio</font></h2>"
   ]
  },
  {
   "cell_type": "code",
   "execution_count": 7,
   "metadata": {},
   "outputs": [
    {
     "name": "stdout",
     "output_type": "stream",
     "text": [
      "train data shape  (60000,)   (60000,)\n",
      "Cv data shape  (20000,)   (20000,)\n",
      "test data shape  (20000,)   (20000,)\n"
     ]
    }
   ],
   "source": [
    "# 60% of data as Train\n",
    "X_tr = final.CleanedText[0:60000]\n",
    "y_tr = final.Score[0:60000]\n",
    "\n",
    "# % 20 percent of data as CV\n",
    "X_cv = final.CleanedText[60000:80000]\n",
    "y_cv = final.Score[60000:80000]\n",
    "\n",
    "# 20% of dataas test\n",
    "X_test = final.CleanedText[80000:100000]\n",
    "y_test = final.Score[80000:100000]\n",
    "\n",
    "print(\"train data shape \",X_tr.shape,\" \",y_tr.shape )\n",
    "print(\"Cv data shape \",X_cv.shape,\" \",y_cv.shape )\n",
    "print(\"test data shape \",X_test.shape,\" \",y_test.shape )"
   ]
  },
  {
   "cell_type": "markdown",
   "metadata": {},
   "source": [
    "# [4] Featurization"
   ]
  },
  {
   "cell_type": "markdown",
   "metadata": {},
   "source": [
    "## [4.1] BAG OF WORDS"
   ]
  },
  {
   "cell_type": "code",
   "execution_count": 8,
   "metadata": {},
   "outputs": [
    {
     "name": "stdout",
     "output_type": "stream",
     "text": [
      "the type of count vectorizer  <class 'scipy.sparse.csr.csr_matrix'>\n",
      "the shape of out text BOW vectorizer  (60000, 5000)\n",
      "the number of unique words  5000\n",
      "the type of count vectorizer  <class 'scipy.sparse.csr.csr_matrix'>\n",
      "the type of count vectorizer  <class 'scipy.sparse.csr.csr_matrix'>\n"
     ]
    }
   ],
   "source": [
    "# since my ram is only 4gb so i am performing Bag Of Words operation on 20k data only\n",
    "#BOW\n",
    "count_vect = CountVectorizer(max_features=5000, min_df=10) #in scikit-learn\n",
    "xTrain = count_vect.fit_transform(X_tr.values)\n",
    "print(\"the type of count vectorizer \",type(xTrain))\n",
    "print(\"the shape of out text BOW vectorizer \",xTrain.get_shape())\n",
    "print(\"the number of unique words \", xTrain.get_shape()[1])\n",
    "\n",
    "xCv = count_vect.transform(X_cv.values)\n",
    "print(\"the type of count vectorizer \",type(xCv))\n",
    "\n",
    "xTest = count_vect.transform(X_test.values)\n",
    "print(\"the type of count vectorizer \",type(xTest))"
   ]
  },
  {
   "cell_type": "markdown",
   "metadata": {},
   "source": [
    "## [4.3] TF-IDF"
   ]
  },
  {
   "cell_type": "code",
   "execution_count": 9,
   "metadata": {},
   "outputs": [
    {
     "name": "stdout",
     "output_type": "stream",
     "text": [
      "the type of count vectorizer  <class 'scipy.sparse.csr.csr_matrix'>\n",
      "the shape of out text tfidf vectorizer  (60000, 5000)\n",
      "the type of count vectorizer  <class 'scipy.sparse.csr.csr_matrix'>\n",
      "the shape of out text tfidf vectorizer  (20000, 5000)\n",
      "the type of count vectorizer  <class 'scipy.sparse.csr.csr_matrix'>\n",
      "the shape of out text tfidf vectorizer  (20000, 5000)\n"
     ]
    }
   ],
   "source": [
    "tf_idf_vect = TfidfVectorizer(ngram_range=(1,2),max_features=5000,min_df = 10)\n",
    "xTrain1 = tf_idf_vect.fit_transform(X_tr.values)\n",
    "print(\"the type of count vectorizer \",type(xTrain1))\n",
    "print(\"the shape of out text tfidf vectorizer \",xTrain1.get_shape())\n",
    "\n",
    "xCv1 = tf_idf_vect.transform(X_cv.values)\n",
    "print(\"the type of count vectorizer \",type(xCv1))\n",
    "print(\"the shape of out text tfidf vectorizer \",xCv1.get_shape())\n",
    "\n",
    "xTest1 = tf_idf_vect.transform(X_test.values)\n",
    "print(\"the type of count vectorizer \",type(xTest1))\n",
    "print(\"the shape of out text tfidf vectorizer \",xTest1.get_shape())\n"
   ]
  },
  {
   "cell_type": "markdown",
   "metadata": {},
   "source": [
    "# [5] Assignment 4: Apply Naive Bayes"
   ]
  },
  {
   "cell_type": "markdown",
   "metadata": {},
   "source": [
    "<ol>\n",
    "    <li><strong>Apply Multinomial NaiveBayes on these feature sets</strong>\n",
    "        <ul>\n",
    "            <li><font color='red'>SET 1:</font>Review text, preprocessed one converted into vectors using (BOW)</li>\n",
    "            <li><font color='red'>SET 2:</font>Review text, preprocessed one converted into vectors using (TFIDF)</li>\n",
    "        </ul>\n",
    "    </li>\n",
    "    <br>\n",
    "    <li><strong>The hyper paramter tuning(find best Alpha)</strong>\n",
    "        <ul>\n",
    "    <li>Find the best hyper parameter which will give the maximum <a href='https://www.appliedaicourse.com/course/applied-ai-course-online/lessons/receiver-operating-characteristic-curve-roc-curve-and-auc-1/'>AUC</a> value</li>\n",
    "    <li>Consider a wide range of alpha values for hyperparameter tuning, start as low as 0.00001</li>\n",
    "    <li>Find the best hyper paramter using k-fold cross validation or simple cross validation data</li>\n",
    "    <li>Use gridsearch cv or randomsearch cv or you can also write your own for loops to do this task of hyperparameter tuning</li>\n",
    "        </ul>\n",
    "    </li>\n",
    "    <br>\n",
    "    <li><strong>Feature importance</strong>\n",
    "        <ul>\n",
    "    <li>Find the top 10 features of positive class and top 10 features of negative class for both feature sets <font color='red'>Set 1</font> and <font color='red'>Set 2</font> using absolute values of `coef_` parameter of  <a href='https://scikit-learn.org/stable/modules/generated/sklearn.naive_bayes.MultinomialNB.html'>MultinomialNB</a> and print their corresponding feature names</li>\n",
    "        </ul>\n",
    "    </li>\n",
    "    <br>\n",
    "    <li><strong>Feature engineering</strong>\n",
    "        <ul>\n",
    "    <li>To increase the performance of your model, you can also experiment with with feature engineering like :</li>\n",
    "            <ul>\n",
    "            <li>Taking length of reviews as another feature.</li>\n",
    "            <li>Considering some features from review summary as well.</li>\n",
    "        </ul>\n",
    "        </ul>\n",
    "    </li>\n",
    "    <br>\n",
    "    <li><strong>Representation of results</strong>\n",
    "        <ul>\n",
    "    <li>You need to plot the performance of model both on train data and cross validation data for each hyper parameter, like shown in the figure. Here on X-axis you will have alpha values, since they have a wide range, just to represent those alpha values on the graph, apply log function on those alpha values.\n",
    "    <img src='train_cv_auc.JPG' width=300px></li>\n",
    "    <li>Once after you found the best hyper parameter, you need to train your model with it, and find the AUC on test data and plot the ROC curve on both train and test.\n",
    "    <img src='train_test_auc.JPG' width=300px></li>\n",
    "    <li>Along with plotting ROC curve, you need to print the <a href='https://www.appliedaicourse.com/course/applied-ai-course-online/lessons/confusion-matrix-tpr-fpr-fnr-tnr-1/'>confusion matrix</a> with predicted and original labels of test data points. Please visualize your confusion matrices using <a href='https://seaborn.pydata.org/generated/seaborn.heatmap.html'>seaborn heatmaps.\n",
    "    <img src='confusion_matrix.png' width=300px></li>\n",
    "        </ul>\n",
    "    </li>\n",
    "    <br>\n",
    "    <li><strong>Conclusion</strong>\n",
    "        <ul>\n",
    "    <li>You need to summarize the results at the end of the notebook, summarize it in the table format. To print out a table please refer to this prettytable library<a href='http://zetcode.com/python/prettytable/'>  link</a> \n",
    "        <img src='summary.JPG' width=400px>\n",
    "    </li>\n",
    "        </ul>\n",
    "</ol>"
   ]
  },
  {
   "cell_type": "markdown",
   "metadata": {},
   "source": [
    "<h4><font color='red'>Note: Data Leakage</font></h4>\n",
    "\n",
    "1. There will be an issue of data-leakage if you vectorize the entire data and then split it into train/cv/test.\n",
    "2. To avoid the issue of data-leakag, make sure to split your data first and then vectorize it. \n",
    "3. While vectorizing your data, apply the method fit_transform() on you train data, and apply the method transform() on cv/test data.\n",
    "4. For more details please go through this <a href='https://soundcloud.com/applied-ai-course/leakage-bow-and-tfidf'>link.</a>"
   ]
  },
  {
   "cell_type": "markdown",
   "metadata": {},
   "source": [
    "# Applying Multinomial Naive Bayes"
   ]
  },
  {
   "cell_type": "markdown",
   "metadata": {},
   "source": [
    "## [5.1] Applying Naive Bayes on BOW,<font color='red'> SET 1</font>"
   ]
  },
  {
   "cell_type": "code",
   "execution_count": 28,
   "metadata": {},
   "outputs": [],
   "source": [
    "# Please write all the code with proper documentation\n",
    "aucTrain = [ x for x in range(9)]\n",
    "aucCv = [ x for x in range(9)]\n",
    "alphaValues = [10**-4, 10**-3, 10**-2, 10**-1, 10**0, 10**1, 10**2, 10**3, 10**4]\n",
    "j = 0"
   ]
  },
  {
   "cell_type": "code",
   "execution_count": 29,
   "metadata": {},
   "outputs": [
    {
     "name": "stdout",
     "output_type": "stream",
     "text": [
      "0.0001  alpha iteration done\n",
      "0.001  alpha iteration done\n",
      "0.01  alpha iteration done\n",
      "0.1  alpha iteration done\n",
      "1  alpha iteration done\n",
      "10  alpha iteration done\n",
      "100  alpha iteration done\n",
      "1000  alpha iteration done\n",
      "10000  alpha iteration done\n"
     ]
    }
   ],
   "source": [
    "for alpha in alphaValues:\n",
    "    mnb = MultinomialNB(alpha = alpha)\n",
    "    mnb.fit(xTrain, y_tr)\n",
    "    predTrain = mnb.predict_proba(xTrain)\n",
    "    \n",
    "    fpr, tpr, thresholds = metrics.roc_curve(y_tr, predTrain[:,1])\n",
    "    aucTrain[j] = metrics.auc(fpr, tpr)\n",
    "    \n",
    "    predCv = mnb.predict_proba(xCv)\n",
    "    \n",
    "    fpr, tpr, thresholds = metrics.roc_curve(y_cv, predCv[:,1])\n",
    "    aucCv[j] = metrics.auc(fpr, tpr)\n",
    "    j += 1\n",
    "    print(alpha, \" alpha iteration done\")"
   ]
  },
  {
   "cell_type": "code",
   "execution_count": 12,
   "metadata": {},
   "outputs": [
    {
     "data": {
      "image/png": "[encoded data removed]",
      "text/plain": [
       "<Figure size 432x288 with 1 Axes>"
      ]
     },
     "metadata": {},
     "output_type": "display_data"
    }
   ],
   "source": [
    "plt.plot(alphaValues,aucTrain, label='train Auc')\n",
    "plt.plot(alphaValues, aucCv, label='Validation Auc')\n",
    "plt.xlabel('Hyper Parameter')\n",
    "plt.ylabel('Area under ROC Curve')\n",
    "plt.grid()\n",
    "plt.legend()\n",
    "plt.show()\n"
   ]
  },
  {
   "cell_type": "code",
   "execution_count": 62,
   "metadata": {},
   "outputs": [
    {
     "name": "stdout",
     "output_type": "stream",
     "text": [
      "[0.8911440693353768, 0.895818064371412, 0.900739661911514, 0.9056796387168815, 0.909931438791628, 0.8981634910007407, 0.691101811813182, 0.555357512517283, 0.5348412985301594]\n"
     ]
    }
   ],
   "source": [
    "print(aucCv)\n",
    "# print(aucTrain)"
   ]
  },
  {
   "cell_type": "markdown",
   "metadata": {},
   "source": [
    "### Observation\n",
    "for alpha = 1  we got the maximumvalidation AUC"
   ]
  },
  {
   "cell_type": "code",
   "execution_count": 46,
   "metadata": {},
   "outputs": [],
   "source": [
    "mnbBow = MultinomialNB(alpha = 1)\n",
    "mnbBow.fit(xTrain, y_tr)\n",
    "\n",
    "pred_prob = mnbBow.predict_proba(xTrain)\n",
    "pred_prob1 = mnbBow.predict_proba(xTest)\n",
    "\n",
    "fpr1, tpr1, thresholds = metrics.roc_curve(y_tr, pred_prob[:,1])\n",
    "auc1 = metrics.auc(fpr1, tpr1)\n",
    "auc1\n",
    "fpr2, tpr2, thresholds = metrics.roc_curve(y_test, pred_prob1[:,1])\n",
    "auc2 = metrics.auc(fpr2, tpr2)\n",
    "auc2\n",
    "\n",
    "y_pred = mnbBow.predict(xTest)"
   ]
  },
  {
   "cell_type": "code",
   "execution_count": 47,
   "metadata": {},
   "outputs": [
    {
     "data": {
      "image/png": "[encoded data removed]",
      "text/plain": [
       "<Figure size 432x288 with 1 Axes>"
      ]
     },
     "metadata": {},
     "output_type": "display_data"
    },
    {
     "data": {
      "image/png": "[encoded data removed]",
      "text/plain": [
       "<Figure size 432x288 with 2 Axes>"
      ]
     },
     "metadata": {},
     "output_type": "display_data"
    }
   ],
   "source": [
    "# plot confusion matrix to describe the performance of classifier.\n",
    "\n",
    "plt.title(\"Roc Curve\")\n",
    "plt.plot(fpr1,tpr1,label=\"trainAuc\")\n",
    "plt.plot(fpr2,tpr2,label=\"testAuc\")\n",
    "plt.grid()\n",
    "plt.legend()\n",
    "plt.show()\n",
    "    \n",
    "# confusion matrix\n",
    "    \n",
    "cm = confusion_matrix(y_test, y_pred)\n",
    "class_label = [\"negative\", \"positive\"]\n",
    "df_cm = pd.DataFrame(cm, index = class_label, columns = class_label)\n",
    "sns.heatmap(df_cm, annot = True, fmt = \"d\")\n",
    "plt.title(\"Confusiion Matrix\")\n",
    "plt.xlabel(\"Predicted Label\")\n",
    "plt.ylabel(\"True Label\")\n",
    "plt.show()\n",
    "\n"
   ]
  },
  {
   "cell_type": "markdown",
   "metadata": {},
   "source": [
    "### Observation \n",
    "we got an AUC curve with straight line and for some reason TNR in confusion matrix is zero it's like the model isbiased toward the +ve reviews"
   ]
  },
  {
   "cell_type": "code",
   "execution_count": 49,
   "metadata": {},
   "outputs": [
    {
     "name": "stdout",
     "output_type": "stream",
     "text": [
      "0.9095047349327724\n"
     ]
    }
   ],
   "source": [
    "print(auc2)"
   ]
  },
  {
   "cell_type": "code",
   "execution_count": 50,
   "metadata": {},
   "outputs": [],
   "source": [
    "tableData.add_row(['BOW', \"NaiveBayes\", 1, auc2])"
   ]
  },
  {
   "cell_type": "markdown",
   "metadata": {},
   "source": [
    "### [5.1.1] Top 10 important features of positive class from<font color='red'> SET 1</font>"
   ]
  },
  {
   "cell_type": "code",
   "execution_count": 51,
   "metadata": {},
   "outputs": [
    {
     "data": {
      "text/plain": [
       "5000"
      ]
     },
     "execution_count": 51,
     "metadata": {},
     "output_type": "execute_result"
    }
   ],
   "source": [
    "# to get features names from the BOW\n",
    "bowFeatures = count_vect.get_feature_names()\n",
    "len(bowFeatures)"
   ]
  },
  {
   "cell_type": "code",
   "execution_count": 52,
   "metadata": {},
   "outputs": [
    {
     "data": {
      "text/plain": [
       "(2, 5000)"
      ]
     },
     "execution_count": 52,
     "metadata": {},
     "output_type": "execute_result"
    }
   ],
   "source": [
    "# Please write all the code with proper documentation\n",
    "#to count all the features\n",
    "bowFeatureCount = mnbBow.feature_count_\n",
    "bowFeatureCount.shape"
   ]
  },
  {
   "cell_type": "code",
   "execution_count": 53,
   "metadata": {},
   "outputs": [
    {
     "data": {
      "text/plain": [
       "array([ 6853., 53147.])"
      ]
     },
     "execution_count": 53,
     "metadata": {},
     "output_type": "execute_result"
    }
   ],
   "source": [
    "\n",
    "mnbBow.class_count_"
   ]
  },
  {
   "cell_type": "code",
   "execution_count": 54,
   "metadata": {},
   "outputs": [
    {
     "data": {
      "text/plain": [
       "array([[-10.83014437, -10.49367213,  -7.46284854, ..., -11.05328792,\n",
       "        -11.7464351 , -11.7464351 ],\n",
       "       [-11.42232438,  -9.84334568,  -7.04845593, ..., -10.56790905,\n",
       "        -11.19918083, -10.7291772 ]])"
      ]
     },
     "execution_count": 54,
     "metadata": {},
     "output_type": "execute_result"
    }
   ],
   "source": [
    "# Empirical log probability of features given a class(i.e. P(x_i|y))\n",
    "# to get the log probability of features with respet to class\n",
    "logProb = mnbBow.feature_log_prob_\n",
    "logProb"
   ]
  },
  {
   "cell_type": "code",
   "execution_count": 55,
   "metadata": {},
   "outputs": [],
   "source": [
    "# storing the features probability with features name as their index\n",
    "featureTable = pd.DataFrame(logProb, columns = bowFeatures)\n"
   ]
  },
  {
   "cell_type": "code",
   "execution_count": 56,
   "metadata": {},
   "outputs": [
    {
     "data": {
      "text/html": [
       "<div>\n",
       "<style scoped>\n",
       "    .dataframe tbody tr th:only-of-type {\n",
       "        vertical-align: middle;\n",
       "    }\n",
       "\n",
       "    .dataframe tbody tr th {\n",
       "        vertical-align: top;\n",
       "    }\n",
       "\n",
       "    .dataframe thead th {\n",
       "        text-align: right;\n",
       "    }\n",
       "</style>\n",
       "<table border=\"1\" class=\"dataframe\">\n",
       "  <thead>\n",
       "    <tr style=\"text-align: right;\">\n",
       "      <th></th>\n",
       "      <th>abandon</th>\n",
       "      <th>abil</th>\n",
       "      <th>abl</th>\n",
       "      <th>absenc</th>\n",
       "      <th>absolut</th>\n",
       "      <th>absorb</th>\n",
       "      <th>abund</th>\n",
       "      <th>acai</th>\n",
       "      <th>accent</th>\n",
       "      <th>accept</th>\n",
       "      <th>...</th>\n",
       "      <th>zinc</th>\n",
       "      <th>zing</th>\n",
       "      <th>zinger</th>\n",
       "      <th>zip</th>\n",
       "      <th>ziploc</th>\n",
       "      <th>ziplock</th>\n",
       "      <th>zipper</th>\n",
       "      <th>ziti</th>\n",
       "      <th>zucchini</th>\n",
       "      <th>zuke</th>\n",
       "    </tr>\n",
       "  </thead>\n",
       "  <tbody>\n",
       "    <tr>\n",
       "      <th>0</th>\n",
       "      <td>-10.830144</td>\n",
       "      <td>-10.493672</td>\n",
       "      <td>-7.462849</td>\n",
       "      <td>-10.830144</td>\n",
       "      <td>-7.512329</td>\n",
       "      <td>-10.493672</td>\n",
       "      <td>-11.746435</td>\n",
       "      <td>-10.493672</td>\n",
       "      <td>-11.340970</td>\n",
       "      <td>-8.568381</td>\n",
       "      <td>...</td>\n",
       "      <td>-10.647823</td>\n",
       "      <td>-11.053288</td>\n",
       "      <td>-12.439582</td>\n",
       "      <td>-10.493672</td>\n",
       "      <td>-10.830144</td>\n",
       "      <td>-11.34097</td>\n",
       "      <td>-11.340970</td>\n",
       "      <td>-11.053288</td>\n",
       "      <td>-11.746435</td>\n",
       "      <td>-11.746435</td>\n",
       "    </tr>\n",
       "    <tr>\n",
       "      <th>1</th>\n",
       "      <td>-11.422324</td>\n",
       "      <td>-9.843346</td>\n",
       "      <td>-7.048456</td>\n",
       "      <td>-11.473618</td>\n",
       "      <td>-7.008315</td>\n",
       "      <td>-9.469297</td>\n",
       "      <td>-10.656857</td>\n",
       "      <td>-9.929420</td>\n",
       "      <td>-10.952321</td>\n",
       "      <td>-9.690669</td>\n",
       "      <td>...</td>\n",
       "      <td>-10.611394</td>\n",
       "      <td>-9.853708</td>\n",
       "      <td>-10.526236</td>\n",
       "      <td>-9.952149</td>\n",
       "      <td>-10.633867</td>\n",
       "      <td>-10.78047</td>\n",
       "      <td>-11.422324</td>\n",
       "      <td>-10.567909</td>\n",
       "      <td>-11.199181</td>\n",
       "      <td>-10.729177</td>\n",
       "    </tr>\n",
       "  </tbody>\n",
       "</table>\n",
       "<p>2 rows × 5000 columns</p>\n",
       "</div>"
      ],
      "text/plain": [
       "     abandon       abil       abl     absenc   absolut     absorb      abund  \\\n",
       "0 -10.830144 -10.493672 -7.462849 -10.830144 -7.512329 -10.493672 -11.746435   \n",
       "1 -11.422324  -9.843346 -7.048456 -11.473618 -7.008315  -9.469297 -10.656857   \n",
       "\n",
       "        acai     accent    accept    ...           zinc       zing     zinger  \\\n",
       "0 -10.493672 -11.340970 -8.568381    ...     -10.647823 -11.053288 -12.439582   \n",
       "1  -9.929420 -10.952321 -9.690669    ...     -10.611394  -9.853708 -10.526236   \n",
       "\n",
       "         zip     ziploc   ziplock     zipper       ziti   zucchini       zuke  \n",
       "0 -10.493672 -10.830144 -11.34097 -11.340970 -11.053288 -11.746435 -11.746435  \n",
       "1  -9.952149 -10.633867 -10.78047 -11.422324 -10.567909 -11.199181 -10.729177  \n",
       "\n",
       "[2 rows x 5000 columns]"
      ]
     },
     "execution_count": 56,
     "metadata": {},
     "output_type": "execute_result"
    }
   ],
   "source": [
    "featureTable.head()"
   ]
  },
  {
   "cell_type": "code",
   "execution_count": 57,
   "metadata": {},
   "outputs": [
    {
     "data": {
      "text/html": [
       "<div>\n",
       "<style scoped>\n",
       "    .dataframe tbody tr th:only-of-type {\n",
       "        vertical-align: middle;\n",
       "    }\n",
       "\n",
       "    .dataframe tbody tr th {\n",
       "        vertical-align: top;\n",
       "    }\n",
       "\n",
       "    .dataframe thead th {\n",
       "        text-align: right;\n",
       "    }\n",
       "</style>\n",
       "<table border=\"1\" class=\"dataframe\">\n",
       "  <thead>\n",
       "    <tr style=\"text-align: right;\">\n",
       "      <th></th>\n",
       "      <th>0</th>\n",
       "      <th>1</th>\n",
       "    </tr>\n",
       "  </thead>\n",
       "  <tbody>\n",
       "    <tr>\n",
       "      <th>abandon</th>\n",
       "      <td>-10.830144</td>\n",
       "      <td>-11.422324</td>\n",
       "    </tr>\n",
       "    <tr>\n",
       "      <th>abil</th>\n",
       "      <td>-10.493672</td>\n",
       "      <td>-9.843346</td>\n",
       "    </tr>\n",
       "    <tr>\n",
       "      <th>abl</th>\n",
       "      <td>-7.462849</td>\n",
       "      <td>-7.048456</td>\n",
       "    </tr>\n",
       "    <tr>\n",
       "      <th>absenc</th>\n",
       "      <td>-10.830144</td>\n",
       "      <td>-11.473618</td>\n",
       "    </tr>\n",
       "    <tr>\n",
       "      <th>absolut</th>\n",
       "      <td>-7.512329</td>\n",
       "      <td>-7.008315</td>\n",
       "    </tr>\n",
       "  </tbody>\n",
       "</table>\n",
       "</div>"
      ],
      "text/plain": [
       "                 0          1\n",
       "abandon -10.830144 -11.422324\n",
       "abil    -10.493672  -9.843346\n",
       "abl      -7.462849  -7.048456\n",
       "absenc  -10.830144 -11.473618\n",
       "absolut  -7.512329  -7.008315"
      ]
     },
     "execution_count": 57,
     "metadata": {},
     "output_type": "execute_result"
    }
   ],
   "source": [
    "featureTab = featureTable.T\n",
    "featureTab.head()"
   ]
  },
  {
   "cell_type": "code",
   "execution_count": 58,
   "metadata": {},
   "outputs": [
    {
     "name": "stdout",
     "output_type": "stream",
     "text": [
      "\n",
      "\n",
      " Top 10 Positive Features:-\n",
      " like      -4.419168\n",
      "tast      -4.440854\n",
      "tea       -4.559566\n",
      "good      -4.590964\n",
      "flavor    -4.618264\n",
      "great     -4.622934\n",
      "love      -4.704943\n",
      "use       -4.747826\n",
      "one       -4.782252\n",
      "product   -4.817500\n",
      "Name: 1, dtype: float64\n"
     ]
    }
   ],
   "source": [
    "# To show top 10 feature from +ve class\n",
    "# Feature Importance\n",
    "print(\"\\n\\n Top 10 Positive Features:-\\n\",featureTab[1].sort_values(ascending = False)[0:10])"
   ]
  },
  {
   "cell_type": "markdown",
   "metadata": {},
   "source": [
    "### [5.1.2] Top 10 important features of negative class from<font color='red'> SET 1</font>"
   ]
  },
  {
   "cell_type": "code",
   "execution_count": 59,
   "metadata": {},
   "outputs": [
    {
     "name": "stdout",
     "output_type": "stream",
     "text": [
      "Top 10 Negative Features:-\n",
      " tast      -4.161154\n",
      "like      -4.259261\n",
      "product   -4.357180\n",
      "one       -4.660534\n",
      "flavor    -4.771489\n",
      "would     -4.837181\n",
      "tri       -4.848730\n",
      "good      -4.951849\n",
      "tea       -5.130370\n",
      "buy       -5.139785\n",
      "Name: 0, dtype: float64\n"
     ]
    }
   ],
   "source": [
    "# Please write all the code with proper documentation\n",
    "# To show top 10 feature from -ve class\n",
    "\n",
    "print(\"Top 10 Negative Features:-\\n\",featureTab[0].sort_values(ascending = False)[0:10])\n"
   ]
  },
  {
   "cell_type": "markdown",
   "metadata": {},
   "source": [
    "## [5.2] Applying Naive Bayes on TFIDF,<font color='red'> SET 2</font>"
   ]
  },
  {
   "cell_type": "code",
   "execution_count": 74,
   "metadata": {},
   "outputs": [],
   "source": [
    "# Please write all the code with proper documentation\n",
    "# Please write all the code with proper documentation\n",
    "aucTrain = [ x for x in range(9)]\n",
    "aucCv = [ x for x in range(9)]\n",
    "alphaValues = [10**-4, 10**-3, 10**-2, 10**-1, 10**0, 10**1, 10**2, 10**3, 10**4]\n",
    "j = 0"
   ]
  },
  {
   "cell_type": "code",
   "execution_count": 75,
   "metadata": {},
   "outputs": [
    {
     "name": "stdout",
     "output_type": "stream",
     "text": [
      "0.0001  alpha iteration done\n",
      "0.001  alpha iteration done\n",
      "0.01  alpha iteration done\n",
      "0.1  alpha iteration done\n",
      "1  alpha iteration done\n",
      "10  alpha iteration done\n",
      "100  alpha iteration done\n",
      "1000  alpha iteration done\n",
      "10000  alpha iteration done\n"
     ]
    }
   ],
   "source": [
    "for alpha in alphaValues:\n",
    "    mnb = MultinomialNB(alpha = alpha)\n",
    "    mnb.fit(xTrain1, y_tr)\n",
    "    predTrain = mnb.predict_proba(xTrain1)\n",
    "    \n",
    "    fpr, tpr, thresholds = metrics.roc_curve(y_tr, predTrain[:,1])\n",
    "    aucTrain[j] = metrics.auc(fpr, tpr)\n",
    "    \n",
    "    predCv = mnb.predict_proba(xCv1)\n",
    "    \n",
    "    fpr, tpr, thresholds = metrics.roc_curve(y_cv, predCv[:,1])\n",
    "    aucCv[j] = metrics.auc(fpr, tpr)\n",
    "    j += 1\n",
    "    print(alpha, \" alpha iteration done\")"
   ]
  },
  {
   "cell_type": "code",
   "execution_count": 76,
   "metadata": {},
   "outputs": [
    {
     "name": "stdout",
     "output_type": "stream",
     "text": [
      "[0.9267801971486745, 0.9281704089984377, 0.9296491159541719, 0.93142089825131, 0.9319089205580764, 0.8931968220095545, 0.7287753234322893, 0.6620609777122677, 0.6498548006355678]\n"
     ]
    }
   ],
   "source": [
    "print(aucCv)"
   ]
  },
  {
   "cell_type": "code",
   "execution_count": 77,
   "metadata": {},
   "outputs": [
    {
     "data": {
      "image/png": "[encoded data removed]",
      "text/plain": [
       "<Figure size 432x288 with 1 Axes>"
      ]
     },
     "metadata": {},
     "output_type": "display_data"
    }
   ],
   "source": [
    "plt.plot(alphaValues,aucTrain, label='train Auc')\n",
    "plt.plot(alphaValues, aucCv, label='Validation Auc')\n",
    "plt.xlabel('Hyper Parameter')\n",
    "plt.ylabel('Area under ROC Curve')\n",
    "plt.grid()\n",
    "plt.legend()\n",
    "plt.show()\n"
   ]
  },
  {
   "cell_type": "markdown",
   "metadata": {},
   "source": [
    "### Observation\n",
    "At alpha = 0.1 we get maximum auc for the cross validate data set"
   ]
  },
  {
   "cell_type": "code",
   "execution_count": 83,
   "metadata": {},
   "outputs": [],
   "source": [
    "mnbTf = MultinomialNB(alpha = 1)\n",
    "mnbTf.fit(xTrain1, y_tr)\n",
    "\n",
    "pred_prob = mnbTf.predict_proba(xTrain1)\n",
    "pred_prob1 = mnbTf.predict_proba(xTest1)\n",
    "\n",
    "fpr1, tpr1, thresholds = metrics.roc_curve(y_tr, pred_prob[:,1])\n",
    "auc1 = metrics.auc(fpr1, tpr1)\n",
    "auc1\n",
    "fpr2, tpr2, thresholds = metrics.roc_curve(y_test, pred_prob1[:,1])\n",
    "auc2 = metrics.auc(fpr2, tpr2)\n",
    "auc2\n",
    "\n",
    "y_pred = mnbTf.predict(xTest1)"
   ]
  },
  {
   "cell_type": "code",
   "execution_count": 84,
   "metadata": {},
   "outputs": [
    {
     "data": {
      "image/png": "[encoded data removed]",
      "text/plain": [
       "<Figure size 432x288 with 1 Axes>"
      ]
     },
     "metadata": {},
     "output_type": "display_data"
    },
    {
     "data": {
      "image/png": "[encoded data removed]",
      "text/plain": [
       "<Figure size 432x288 with 2 Axes>"
      ]
     },
     "metadata": {},
     "output_type": "display_data"
    }
   ],
   "source": [
    "# plot confusion matrix to describe the performance of classifier.\n",
    "\n",
    "plt.title(\"Roc Curve\")\n",
    "plt.plot(fpr1,tpr1,label=\"trainAuc\")\n",
    "plt.plot(fpr2,tpr2,label=\"testAuc\")\n",
    "plt.grid()\n",
    "plt.legend()\n",
    "plt.show()\n",
    "    \n",
    "# confusion matrix\n",
    "    \n",
    "cm = confusion_matrix(y_test, y_pred)\n",
    "class_label = [\"negative\", \"positive\"]\n",
    "df_cm = pd.DataFrame(cm, index = class_label, columns = class_label)\n",
    "sns.heatmap(df_cm, annot = True, fmt = \"d\")\n",
    "plt.title(\"Confusiion Matrix\")\n",
    "plt.xlabel(\"Predicted Label\")\n",
    "plt.ylabel(\"True Label\")\n",
    "plt.show()\n",
    "\n"
   ]
  },
  {
   "cell_type": "markdown",
   "metadata": {},
   "source": [
    "### Observation\n",
    "we get a straight line in the roc curve and in confusion matrix TNR is nill so model is biased toward the positive reviews"
   ]
  },
  {
   "cell_type": "code",
   "execution_count": 85,
   "metadata": {},
   "outputs": [
    {
     "name": "stdout",
     "output_type": "stream",
     "text": [
      "0.9319037639411472\n"
     ]
    }
   ],
   "source": [
    "# Please write all the code with proper documentation\n",
    "print(auc2)"
   ]
  },
  {
   "cell_type": "code",
   "execution_count": 81,
   "metadata": {},
   "outputs": [],
   "source": [
    "tableData.add_row(['TF-IDF', \"NaiveBayes\", 1, auc2])"
   ]
  },
  {
   "cell_type": "markdown",
   "metadata": {},
   "source": [
    "### [5.2.1] Top 10 important features of positive class from<font color='red'> SET 2</font>"
   ]
  },
  {
   "cell_type": "code",
   "execution_count": 87,
   "metadata": {},
   "outputs": [
    {
     "data": {
      "text/plain": [
       "5000"
      ]
     },
     "execution_count": 87,
     "metadata": {},
     "output_type": "execute_result"
    }
   ],
   "source": [
    "# to get features names from the BOW\n",
    "tfFeatures = tf_idf_vect.get_feature_names()\n",
    "len(tfFeatures)"
   ]
  },
  {
   "cell_type": "code",
   "execution_count": 88,
   "metadata": {},
   "outputs": [
    {
     "data": {
      "text/plain": [
       "(2, 5000)"
      ]
     },
     "execution_count": 88,
     "metadata": {},
     "output_type": "execute_result"
    }
   ],
   "source": [
    "# Please write all the code with proper documentation\n",
    "#to count all the features\n",
    "tfFeatureCount = mnbTf.feature_count_\n",
    "tfFeatureCount.shape"
   ]
  },
  {
   "cell_type": "code",
   "execution_count": 89,
   "metadata": {},
   "outputs": [
    {
     "data": {
      "text/plain": [
       "array([ 6853., 53147.])"
      ]
     },
     "execution_count": 89,
     "metadata": {},
     "output_type": "execute_result"
    }
   ],
   "source": [
    "\n",
    "mnbTf.class_count_"
   ]
  },
  {
   "cell_type": "code",
   "execution_count": 91,
   "metadata": {},
   "outputs": [
    {
     "data": {
      "text/plain": [
       "array([[ -9.83396444,  -7.6820005 , -10.31362557, ...,  -7.96159407,\n",
       "        -10.02335736, -10.00042295],\n",
       "       [ -9.61437773,  -7.12127261,  -9.10824536, ...,  -9.23407707,\n",
       "         -9.52916462,  -9.57280834]])"
      ]
     },
     "execution_count": 91,
     "metadata": {},
     "output_type": "execute_result"
    }
   ],
   "source": [
    "# Empirical log probability of features given a class(i.e. P(x_i|y))\n",
    "# to get the log probability of features with respet to class\n",
    "logProb = mnbTf.feature_log_prob_\n",
    "logProb"
   ]
  },
  {
   "cell_type": "code",
   "execution_count": 92,
   "metadata": {},
   "outputs": [],
   "source": [
    "# storing the features probability with features name as their index\n",
    "featureTable = pd.DataFrame(logProb, columns = tfFeatures)\n"
   ]
  },
  {
   "cell_type": "code",
   "execution_count": 93,
   "metadata": {},
   "outputs": [
    {
     "data": {
      "text/html": [
       "<div>\n",
       "<style scoped>\n",
       "    .dataframe tbody tr th:only-of-type {\n",
       "        vertical-align: middle;\n",
       "    }\n",
       "\n",
       "    .dataframe tbody tr th {\n",
       "        vertical-align: top;\n",
       "    }\n",
       "\n",
       "    .dataframe thead th {\n",
       "        text-align: right;\n",
       "    }\n",
       "</style>\n",
       "<table border=\"1\" class=\"dataframe\">\n",
       "  <thead>\n",
       "    <tr style=\"text-align: right;\">\n",
       "      <th></th>\n",
       "      <th>abil</th>\n",
       "      <th>abl</th>\n",
       "      <th>abl buy</th>\n",
       "      <th>abl eat</th>\n",
       "      <th>abl find</th>\n",
       "      <th>abl get</th>\n",
       "      <th>abl order</th>\n",
       "      <th>abl purchas</th>\n",
       "      <th>absolut</th>\n",
       "      <th>absolut best</th>\n",
       "      <th>...</th>\n",
       "      <th>yuban</th>\n",
       "      <th>yuck</th>\n",
       "      <th>yucki</th>\n",
       "      <th>yum</th>\n",
       "      <th>yum yum</th>\n",
       "      <th>yummi</th>\n",
       "      <th>zen</th>\n",
       "      <th>zero</th>\n",
       "      <th>zing</th>\n",
       "      <th>zip</th>\n",
       "    </tr>\n",
       "  </thead>\n",
       "  <tbody>\n",
       "    <tr>\n",
       "      <th>0</th>\n",
       "      <td>-9.833964</td>\n",
       "      <td>-7.682001</td>\n",
       "      <td>-10.313626</td>\n",
       "      <td>-9.418233</td>\n",
       "      <td>-9.646615</td>\n",
       "      <td>-9.387531</td>\n",
       "      <td>-9.808838</td>\n",
       "      <td>-10.348188</td>\n",
       "      <td>-7.674392</td>\n",
       "      <td>-10.334077</td>\n",
       "      <td>...</td>\n",
       "      <td>-10.033297</td>\n",
       "      <td>-7.665977</td>\n",
       "      <td>-8.958109</td>\n",
       "      <td>-9.863065</td>\n",
       "      <td>-10.555887</td>\n",
       "      <td>-8.632035</td>\n",
       "      <td>-10.555887</td>\n",
       "      <td>-7.961594</td>\n",
       "      <td>-10.023357</td>\n",
       "      <td>-10.000423</td>\n",
       "    </tr>\n",
       "    <tr>\n",
       "      <th>1</th>\n",
       "      <td>-9.614378</td>\n",
       "      <td>-7.121273</td>\n",
       "      <td>-9.108245</td>\n",
       "      <td>-9.903663</td>\n",
       "      <td>-8.373954</td>\n",
       "      <td>-8.992559</td>\n",
       "      <td>-9.312466</td>\n",
       "      <td>-9.501415</td>\n",
       "      <td>-7.038611</td>\n",
       "      <td>-8.897706</td>\n",
       "      <td>...</td>\n",
       "      <td>-9.825775</td>\n",
       "      <td>-10.417691</td>\n",
       "      <td>-10.153023</td>\n",
       "      <td>-7.880007</td>\n",
       "      <td>-9.627943</td>\n",
       "      <td>-7.190791</td>\n",
       "      <td>-10.341362</td>\n",
       "      <td>-9.234077</td>\n",
       "      <td>-9.529165</td>\n",
       "      <td>-9.572808</td>\n",
       "    </tr>\n",
       "  </tbody>\n",
       "</table>\n",
       "<p>2 rows × 5000 columns</p>\n",
       "</div>"
      ],
      "text/plain": [
       "       abil       abl    abl buy   abl eat  abl find   abl get  abl order  \\\n",
       "0 -9.833964 -7.682001 -10.313626 -9.418233 -9.646615 -9.387531  -9.808838   \n",
       "1 -9.614378 -7.121273  -9.108245 -9.903663 -8.373954 -8.992559  -9.312466   \n",
       "\n",
       "   abl purchas   absolut  absolut best    ...          yuban       yuck  \\\n",
       "0   -10.348188 -7.674392    -10.334077    ...     -10.033297  -7.665977   \n",
       "1    -9.501415 -7.038611     -8.897706    ...      -9.825775 -10.417691   \n",
       "\n",
       "       yucki       yum    yum yum     yummi        zen      zero       zing  \\\n",
       "0  -8.958109 -9.863065 -10.555887 -8.632035 -10.555887 -7.961594 -10.023357   \n",
       "1 -10.153023 -7.880007  -9.627943 -7.190791 -10.341362 -9.234077  -9.529165   \n",
       "\n",
       "         zip  \n",
       "0 -10.000423  \n",
       "1  -9.572808  \n",
       "\n",
       "[2 rows x 5000 columns]"
      ]
     },
     "execution_count": 93,
     "metadata": {},
     "output_type": "execute_result"
    }
   ],
   "source": [
    "featureTable.head()"
   ]
  },
  {
   "cell_type": "code",
   "execution_count": 94,
   "metadata": {},
   "outputs": [
    {
     "data": {
      "text/html": [
       "<div>\n",
       "<style scoped>\n",
       "    .dataframe tbody tr th:only-of-type {\n",
       "        vertical-align: middle;\n",
       "    }\n",
       "\n",
       "    .dataframe tbody tr th {\n",
       "        vertical-align: top;\n",
       "    }\n",
       "\n",
       "    .dataframe thead th {\n",
       "        text-align: right;\n",
       "    }\n",
       "</style>\n",
       "<table border=\"1\" class=\"dataframe\">\n",
       "  <thead>\n",
       "    <tr style=\"text-align: right;\">\n",
       "      <th></th>\n",
       "      <th>0</th>\n",
       "      <th>1</th>\n",
       "    </tr>\n",
       "  </thead>\n",
       "  <tbody>\n",
       "    <tr>\n",
       "      <th>abil</th>\n",
       "      <td>-9.833964</td>\n",
       "      <td>-9.614378</td>\n",
       "    </tr>\n",
       "    <tr>\n",
       "      <th>abl</th>\n",
       "      <td>-7.682001</td>\n",
       "      <td>-7.121273</td>\n",
       "    </tr>\n",
       "    <tr>\n",
       "      <th>abl buy</th>\n",
       "      <td>-10.313626</td>\n",
       "      <td>-9.108245</td>\n",
       "    </tr>\n",
       "    <tr>\n",
       "      <th>abl eat</th>\n",
       "      <td>-9.418233</td>\n",
       "      <td>-9.903663</td>\n",
       "    </tr>\n",
       "    <tr>\n",
       "      <th>abl find</th>\n",
       "      <td>-9.646615</td>\n",
       "      <td>-8.373954</td>\n",
       "    </tr>\n",
       "  </tbody>\n",
       "</table>\n",
       "</div>"
      ],
      "text/plain": [
       "                  0         1\n",
       "abil      -9.833964 -9.614378\n",
       "abl       -7.682001 -7.121273\n",
       "abl buy  -10.313626 -9.108245\n",
       "abl eat   -9.418233 -9.903663\n",
       "abl find  -9.646615 -8.373954"
      ]
     },
     "execution_count": 94,
     "metadata": {},
     "output_type": "execute_result"
    }
   ],
   "source": [
    "featureTab = featureTable.T\n",
    "featureTab.head()"
   ]
  },
  {
   "cell_type": "code",
   "execution_count": 95,
   "metadata": {},
   "outputs": [
    {
     "name": "stdout",
     "output_type": "stream",
     "text": [
      "\n",
      "\n",
      " Top 10 Positive Features:-\n",
      " tea       -5.179143\n",
      "great     -5.197865\n",
      "tast      -5.270098\n",
      "love      -5.272184\n",
      "good      -5.280939\n",
      "like      -5.304228\n",
      "flavor    -5.383433\n",
      "product   -5.431180\n",
      "use       -5.485686\n",
      "one       -5.569078\n",
      "Name: 1, dtype: float64\n"
     ]
    }
   ],
   "source": [
    "# To show top 10 feature from +ve class\n",
    "# Feature Importance\n",
    "print(\"\\n\\n Top 10 Positive Features:-\\n\",featureTab[1].sort_values(ascending = False)[0:10])"
   ]
  },
  {
   "cell_type": "markdown",
   "metadata": {},
   "source": [
    "### [5.2.2] Top 10 important features of negative class from<font color='red'> SET 2</font>"
   ]
  },
  {
   "cell_type": "code",
   "execution_count": 96,
   "metadata": {},
   "outputs": [
    {
     "name": "stdout",
     "output_type": "stream",
     "text": [
      "Top 10 Negative Features:-\n",
      " tast      -5.037841\n",
      "product   -5.137507\n",
      "like      -5.157762\n",
      "would     -5.482224\n",
      "one       -5.511411\n",
      "flavor    -5.565078\n",
      "order     -5.633280\n",
      "tri       -5.656861\n",
      "buy       -5.673288\n",
      "tea       -5.760930\n",
      "Name: 0, dtype: float64\n"
     ]
    }
   ],
   "source": [
    "# Please write all the code with proper documentation\n",
    "# Please write all the code with proper documentation\n",
    "# To show top 10 feature from -ve class\n",
    "\n",
    "print(\"Top 10 Negative Features:-\\n\",featureTab[0].sort_values(ascending = False)[0:10])\n"
   ]
  },
  {
   "cell_type": "markdown",
   "metadata": {},
   "source": [
    "# [6] Conclusions"
   ]
  },
  {
   "cell_type": "code",
   "execution_count": 97,
   "metadata": {},
   "outputs": [
    {
     "name": "stdout",
     "output_type": "stream",
     "text": [
      "+------------+------------+-------+--------------------+\n",
      "| Vectorizer |   Model    | alpha |        AUC         |\n",
      "+------------+------------+-------+--------------------+\n",
      "|    BOW     | NaiveBayes |   1   | 0.9095047349327724 |\n",
      "|   TF-IDF   | NaiveBayes |   1   | 0.9319037639411472 |\n",
      "+------------+------------+-------+--------------------+\n"
     ]
    }
   ],
   "source": [
    "# Please compare all your models using Prettytable library\n",
    "print(tableData)"
   ]
  },
  {
   "cell_type": "markdown",
   "metadata": {},
   "source": [
    "**BOW** alpha is 1\n",
    "**TF-Idf** alpha is 1\n",
    "Model Tf-Idf perform better than the Model BOW"
   ]
  },
  {
   "cell_type": "code",
   "execution_count": null,
   "metadata": {},
   "outputs": [],
   "source": []
  }
 ],
 "metadata": {
  "kernelspec": {
   "display_name": "Python 3",
   "language": "python",
   "name": "python3"
  },
  "language_info": {
   "codemirror_mode": {
    "name": "ipython",
    "version": 3
   },
   "file_extension": ".py",
   "mimetype": "text/x-python",
   "name": "python",
   "nbconvert_exporter": "python",
   "pygments_lexer": "ipython3",
   "version": "3.6.5"
  }
 },
 "nbformat": 4,
 "nbformat_minor": 2
}
